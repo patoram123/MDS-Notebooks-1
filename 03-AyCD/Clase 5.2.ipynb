{
 "cells": [
  {
   "cell_type": "markdown",
   "metadata": {},
   "source": [
    "## Web scraping con Selenium\n",
    "\n"
   ]
  },
  {
   "cell_type": "markdown",
   "metadata": {},
   "source": [
    "### Ejercicio 1"
   ]
  },
  {
   "cell_type": "markdown",
   "metadata": {},
   "source": [
    "Extraer los resultados de google.cl al consultar por Magister en data science"
   ]
  },
  {
   "cell_type": "code",
   "execution_count": 1,
   "metadata": {},
   "outputs": [
    {
     "name": "stdout",
     "output_type": "stream",
     "text": [
      "Requirement already satisfied: selenium in c:\\users\\pablo\\anaconda3\\lib\\site-packages (4.7.2)\n",
      "Requirement already satisfied: urllib3[socks]~=1.26 in c:\\users\\pablo\\anaconda3\\lib\\site-packages (from selenium) (1.26.11)\n",
      "Requirement already satisfied: trio-websocket~=0.9 in c:\\users\\pablo\\anaconda3\\lib\\site-packages (from selenium) (0.9.2)\n",
      "Requirement already satisfied: trio~=0.17 in c:\\users\\pablo\\anaconda3\\lib\\site-packages (from selenium) (0.22.0)\n",
      "Requirement already satisfied: certifi>=2021.10.8 in c:\\users\\pablo\\anaconda3\\lib\\site-packages (from selenium) (2022.9.14)\n",
      "Requirement already satisfied: async-generator>=1.9 in c:\\users\\pablo\\anaconda3\\lib\\site-packages (from trio~=0.17->selenium) (1.10)\n",
      "Requirement already satisfied: outcome in c:\\users\\pablo\\anaconda3\\lib\\site-packages (from trio~=0.17->selenium) (1.2.0)\n",
      "Requirement already satisfied: attrs>=19.2.0 in c:\\users\\pablo\\anaconda3\\lib\\site-packages (from trio~=0.17->selenium) (21.4.0)\n",
      "Requirement already satisfied: sniffio in c:\\users\\pablo\\anaconda3\\lib\\site-packages (from trio~=0.17->selenium) (1.2.0)\n",
      "Requirement already satisfied: exceptiongroup>=1.0.0rc9 in c:\\users\\pablo\\anaconda3\\lib\\site-packages (from trio~=0.17->selenium) (1.1.0)\n",
      "Requirement already satisfied: sortedcontainers in c:\\users\\pablo\\anaconda3\\lib\\site-packages (from trio~=0.17->selenium) (2.4.0)\n",
      "Requirement already satisfied: idna in c:\\users\\pablo\\anaconda3\\lib\\site-packages (from trio~=0.17->selenium) (3.3)\n",
      "Requirement already satisfied: cffi>=1.14 in c:\\users\\pablo\\anaconda3\\lib\\site-packages (from trio~=0.17->selenium) (1.15.1)\n",
      "Requirement already satisfied: wsproto>=0.14 in c:\\users\\pablo\\anaconda3\\lib\\site-packages (from trio-websocket~=0.9->selenium) (1.2.0)\n",
      "Requirement already satisfied: PySocks!=1.5.7,<2.0,>=1.5.6 in c:\\users\\pablo\\anaconda3\\lib\\site-packages (from urllib3[socks]~=1.26->selenium) (1.7.1)\n",
      "Requirement already satisfied: pycparser in c:\\users\\pablo\\anaconda3\\lib\\site-packages (from cffi>=1.14->trio~=0.17->selenium) (2.21)\n",
      "Requirement already satisfied: h11<1,>=0.9.0 in c:\\users\\pablo\\anaconda3\\lib\\site-packages (from wsproto>=0.14->trio-websocket~=0.9->selenium) (0.14.0)\n",
      "Requirement already satisfied: webdriver-manager in c:\\users\\pablo\\anaconda3\\lib\\site-packages (3.8.5)\n",
      "Requirement already satisfied: packaging in c:\\users\\pablo\\anaconda3\\lib\\site-packages (from webdriver-manager) (21.3)\n",
      "Requirement already satisfied: tqdm in c:\\users\\pablo\\anaconda3\\lib\\site-packages (from webdriver-manager) (4.64.1)\n",
      "Requirement already satisfied: requests in c:\\users\\pablo\\anaconda3\\lib\\site-packages (from webdriver-manager) (2.28.1)\n",
      "Requirement already satisfied: python-dotenv in c:\\users\\pablo\\anaconda3\\lib\\site-packages (from webdriver-manager) (0.21.0)\n",
      "Requirement already satisfied: pyparsing!=3.0.5,>=2.0.2 in c:\\users\\pablo\\anaconda3\\lib\\site-packages (from packaging->webdriver-manager) (3.0.9)\n",
      "Requirement already satisfied: certifi>=2017.4.17 in c:\\users\\pablo\\anaconda3\\lib\\site-packages (from requests->webdriver-manager) (2022.9.14)\n",
      "Requirement already satisfied: idna<4,>=2.5 in c:\\users\\pablo\\anaconda3\\lib\\site-packages (from requests->webdriver-manager) (3.3)\n",
      "Requirement already satisfied: charset-normalizer<3,>=2 in c:\\users\\pablo\\anaconda3\\lib\\site-packages (from requests->webdriver-manager) (2.0.4)\n",
      "Requirement already satisfied: urllib3<1.27,>=1.21.1 in c:\\users\\pablo\\anaconda3\\lib\\site-packages (from requests->webdriver-manager) (1.26.11)\n",
      "Requirement already satisfied: colorama in c:\\users\\pablo\\anaconda3\\lib\\site-packages (from tqdm->webdriver-manager) (0.4.5)\n"
     ]
    }
   ],
   "source": [
    "#!pip install -U selenium\n",
    "#!pip install webdriver-manager"
   ]
  },
  {
   "cell_type": "code",
   "execution_count": 2,
   "metadata": {},
   "outputs": [],
   "source": [
    "from selenium import webdriver\n",
    "from selenium.webdriver.chrome.service import Service\n",
    "from selenium.webdriver.common.keys import Keys\n",
    "from selenium.webdriver.common.by import By\n",
    "from webdriver_manager.chrome import ChromeDriverManager\n",
    "\n",
    "import pandas as pd"
   ]
  },
  {
   "cell_type": "code",
   "execution_count": 3,
   "metadata": {},
   "outputs": [
    {
     "name": "stdout",
     "output_type": "stream",
     "text": [
      "0\n",
      "Magíster en Data Science - Ingeniería UAI\n",
      "https://ingenieria.uai.cl › magister-en-data-science\n",
      "\n",
      "1\n",
      "Magíster en Data Science - Ingeniería UAI\n",
      "https://ingenieria.uai.cl › magister-en-data-science\n",
      "\n",
      "2\n",
      "Magíster en Ciencia de Datos\n",
      "https://ingenieria.uchile.cl › postgrados › ciencia-de-datos\n",
      "\n",
      "3\n",
      "Magíster en Data Science - Postgrados USS\n",
      "https://postgrados.uss.cl › magister-en-data-science\n",
      "\n",
      "4\n",
      "Magíster en Ciencia de Datos - UC Online\n",
      "https://uconline.uc.cl › programa › magister-en-ciencia-...\n",
      "\n",
      "5\n",
      "Magíster en Data Science - Facultad de Ingeniería UDD\n",
      "https://ingenieria.udd.cl › Postgrados\n",
      "\n",
      "6\n",
      "Magíster en Ciencia de Datos | UC Chile - Coursera\n",
      "https://www.coursera.org › ... › Data Science Degrees\n",
      "\n",
      "7\n",
      "MACI - Magister en Ciencia de Datos para la Innovación\n",
      "https://maci.udec.cl\n",
      "\n",
      "8\n",
      "Magíster en Data Science - Educación Continua UDLA\n",
      "https://econtinua.udla.cl › uploads › sites › 2022/05\n",
      "\n",
      "9\n",
      "Estudiar un magister en Chile? - Patricio Araneda\n",
      "https://patricioaraneda.cl › Blog\n",
      "\n",
      "10\n",
      "\n",
      "\n",
      "\n",
      "11\n",
      "\n",
      "\n",
      "\n",
      "12\n",
      "\n",
      "\n",
      "\n",
      "13\n",
      "\n",
      "\n",
      "\n",
      "14\n",
      "DATA ANALYTICS CERTIFICATE | Escuela de Postgrado\n",
      "https://www.postgradouchile.cl › postitulos › data-analy...\n",
      "\n"
     ]
    }
   ],
   "source": [
    "import time\n",
    "\n",
    "# abro el navegador\n",
    "driver = webdriver.Chrome(service=Service(ChromeDriverManager().install()))\n",
    "driver.implicitly_wait(3)\n",
    "\n",
    "# escribo url\n",
    "driver.get('https://google.cl')\n",
    "\n",
    "time.sleep(1)\n",
    "# busco input para la búsqueda\n",
    "elem = driver.find_element(By.NAME, \"q\")\n",
    "elem.clear()\n",
    "elem.send_keys(\"Magister en data science\")\n",
    "time.sleep(1)\n",
    "# apreto enter\n",
    "elem.send_keys(Keys.RETURN)\n",
    "time.sleep(1)\n",
    "# extraigo elementos de resultados de consulta e imprimo\n",
    "elems = driver.find_elements(By.CSS_SELECTOR, 'div.g')\n",
    "for index, e in enumerate(elems):\n",
    "    try:\n",
    "        print(index)\n",
    "        print(e.find_element(By.TAG_NAME, 'h3').text)\n",
    "        print(e.find_element(By.TAG_NAME,'cite').text)\n",
    "        print()\n",
    "    except:\n",
    "        print(\"No encontré elementos\")\n",
    "        print()\n",
    "    \n",
    "# cierro el navegador    \n",
    "driver.close()"
   ]
  },
  {
   "cell_type": "markdown",
   "metadata": {},
   "source": [
    "### Ejercicio 2"
   ]
  },
  {
   "cell_type": "markdown",
   "metadata": {},
   "source": [
    "Extraer lista de paises y superficies desde Wikipedia"
   ]
  },
  {
   "cell_type": "code",
   "execution_count": 4,
   "metadata": {},
   "outputs": [
    {
     "name": "stderr",
     "output_type": "stream",
     "text": [
      "C:\\Users\\pablo\\AppData\\Local\\Temp\\ipykernel_3056\\1186286012.py:3: DeprecationWarning: executable_path has been deprecated, please pass in a Service object\n",
      "  driver = webdriver.Chrome(ChromeDriverManager().install())\n"
     ]
    },
    {
     "data": {
      "text/html": [
       "<div>\n",
       "<style scoped>\n",
       "    .dataframe tbody tr th:only-of-type {\n",
       "        vertical-align: middle;\n",
       "    }\n",
       "\n",
       "    .dataframe tbody tr th {\n",
       "        vertical-align: top;\n",
       "    }\n",
       "\n",
       "    .dataframe thead th {\n",
       "        text-align: right;\n",
       "    }\n",
       "</style>\n",
       "<table border=\"1\" class=\"dataframe\">\n",
       "  <thead>\n",
       "    <tr style=\"text-align: right;\">\n",
       "      <th></th>\n",
       "      <th>territorio</th>\n",
       "      <th>superficie</th>\n",
       "    </tr>\n",
       "  </thead>\n",
       "  <tbody>\n",
       "    <tr>\n",
       "      <th>0</th>\n",
       "      <td>Planeta Tierra</td>\n",
       "      <td>510 072 000</td>\n",
       "    </tr>\n",
       "    <tr>\n",
       "      <th>1</th>\n",
       "      <td>Océanos</td>\n",
       "      <td>359 685 360</td>\n",
       "    </tr>\n",
       "    <tr>\n",
       "      <th>2</th>\n",
       "      <td>Continentes</td>\n",
       "      <td>150 386 640</td>\n",
       "    </tr>\n",
       "    <tr>\n",
       "      <th>3</th>\n",
       "      <td>Rusia</td>\n",
       "      <td>17 125 191</td>\n",
       "    </tr>\n",
       "    <tr>\n",
       "      <th>4</th>\n",
       "      <td>Antártida</td>\n",
       "      <td>14 000 000</td>\n",
       "    </tr>\n",
       "    <tr>\n",
       "      <th>...</th>\n",
       "      <td>...</td>\n",
       "      <td>...</td>\n",
       "    </tr>\n",
       "    <tr>\n",
       "      <th>247</th>\n",
       "      <td>Isla Clipperton</td>\n",
       "      <td>6</td>\n",
       "    </tr>\n",
       "    <tr>\n",
       "      <th>248</th>\n",
       "      <td>Islas Ashmore y Cartier</td>\n",
       "      <td>5</td>\n",
       "    </tr>\n",
       "    <tr>\n",
       "      <th>249</th>\n",
       "      <td>Islas del Mar del Coral</td>\n",
       "      <td>3</td>\n",
       "    </tr>\n",
       "    <tr>\n",
       "      <th>250</th>\n",
       "      <td>Mónaco</td>\n",
       "      <td>2</td>\n",
       "    </tr>\n",
       "    <tr>\n",
       "      <th>251</th>\n",
       "      <td>Ciudad del Vaticano</td>\n",
       "      <td>0,44</td>\n",
       "    </tr>\n",
       "  </tbody>\n",
       "</table>\n",
       "<p>252 rows × 2 columns</p>\n",
       "</div>"
      ],
      "text/plain": [
       "                  territorio   superficie\n",
       "0             Planeta Tierra  510 072 000\n",
       "1                    Océanos  359 685 360\n",
       "2                Continentes  150 386 640\n",
       "3                      Rusia   17 125 191\n",
       "4                  Antártida   14 000 000\n",
       "..                       ...          ...\n",
       "247          Isla Clipperton            6\n",
       "248  Islas Ashmore y Cartier            5\n",
       "249  Islas del Mar del Coral            3\n",
       "250                   Mónaco            2\n",
       "251      Ciudad del Vaticano         0,44\n",
       "\n",
       "[252 rows x 2 columns]"
      ]
     },
     "execution_count": 4,
     "metadata": {},
     "output_type": "execute_result"
    }
   ],
   "source": [
    "import time \n",
    "\n",
    "driver = webdriver.Chrome(ChromeDriverManager().install())\n",
    "driver.implicitly_wait(10)\n",
    "\n",
    "driver.get('https://es.wikipedia.org') \n",
    "\n",
    "elem = driver.find_element(By.NAME, \"search\")\n",
    "elem.clear()\n",
    "\n",
    "elem.send_keys('paises por superficie')\n",
    "time.sleep(1)\n",
    "elem.send_keys(Keys.RETURN)\n",
    "\n",
    "\n",
    "data = {\n",
    "    'territorio' : [],\n",
    "    'superficie' : []\n",
    "}\n",
    "    \n",
    "elemento_1 = driver.find_elements(By.XPATH, \"//tr/td[2]\")\n",
    "for elem in elemento_1:\n",
    "    data['territorio'].append(elem.text)\n",
    "    \n",
    "elemento_2 = driver.find_elements(By.XPATH, \"//tr/td[3]\")\n",
    "for elem in elemento_2:\n",
    "    data['superficie'].append(elem.text)\n",
    "\n",
    "#Cierro el navegador\n",
    "driver.close()\n",
    "\n",
    "pd.DataFrame(data)\n"
   ]
  },
  {
   "cell_type": "markdown",
   "metadata": {},
   "source": [
    "### Ejercicio 3"
   ]
  },
  {
   "cell_type": "markdown",
   "metadata": {},
   "source": [
    "Extraer últimos 100 departamentos (precio, m2 y cantidad de dormitorios) en arriendo en la comuna de Santiago desde la página portalinmobiliario.com"
   ]
  },
  {
   "cell_type": "code",
   "execution_count": 5,
   "metadata": {},
   "outputs": [
    {
     "ename": "IndentationError",
     "evalue": "expected an indented block (3390253452.py, line 21)",
     "output_type": "error",
     "traceback": [
      "\u001b[1;36m  File \u001b[1;32m\"C:\\Users\\pablo\\AppData\\Local\\Temp\\ipykernel_3056\\3390253452.py\"\u001b[1;36m, line \u001b[1;32m21\u001b[0m\n\u001b[1;33m    driver.close()\u001b[0m\n\u001b[1;37m    ^\u001b[0m\n\u001b[1;31mIndentationError\u001b[0m\u001b[1;31m:\u001b[0m expected an indented block\n"
     ]
    }
   ],
   "source": [
    "driver = webdriver.Chrome(ChromeDriverManager().install())\n",
    "driver.implicitly_wait(3)\n",
    "\n",
    "url = \"https://www.portalinmobiliario.com/arriendo/departamento/santiago-metropolitana/_OrderId_BEGINS*DESC_NoIndex_True\"\n",
    "\n",
    "driver.get(url)\n",
    "\n",
    "data = {\n",
    "    'precio': [],\n",
    "    'm2':[],\n",
    "    'dormitorios':[]\n",
    "}\n",
    "\n",
    "departamentosDiv = driver.find_elements(By.CSS_SELECTOR, '.ui-search-result__content')\n",
    "\n",
    "for depto in departamentosDiv:\n",
    "    # print(depto.find_element(By.CSS_SELECTOR,'.price-tag-fraction').text)\n",
    "    \n",
    "## .....\n",
    "\n",
    "driver.close()\n",
    "\n",
    "pd.DataFrame(data)"
   ]
  }
 ],
 "metadata": {
  "kernelspec": {
   "display_name": "Python 3 (ipykernel)",
   "language": "python",
   "name": "python3"
  },
  "language_info": {
   "codemirror_mode": {
    "name": "ipython",
    "version": 3
   },
   "file_extension": ".py",
   "mimetype": "text/x-python",
   "name": "python",
   "nbconvert_exporter": "python",
   "pygments_lexer": "ipython3",
   "version": "3.9.13"
  }
 },
 "nbformat": 4,
 "nbformat_minor": 2
}
