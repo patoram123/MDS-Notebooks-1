{
 "cells": [
  {
   "cell_type": "markdown",
   "id": "c4711d17",
   "metadata": {},
   "source": [
    "# **Proyecto Final:**\n",
    "# **Detección de fraudes potenciales en las licitaciones públicas de Chile en el 2020 usando redes bipartitas y el coeficiente de Jaccard**\n",
    "\n",
    "## Ciencias de Redes\n",
    "### Profesor: Cristian Candia Vallejos\n",
    "### Grupo 5:\n",
    "- Carlos Bustamante\n",
    "- Pablo Elgueta\n",
    "- Patricio Ramirez\n",
    "- Victor Ortiz\n",
    "\n",
    "---"
   ]
  },
  {
   "cell_type": "markdown",
   "id": "9664c036",
   "metadata": {},
   "source": [
    "## Introducción\n",
    "\n",
    "Una licitación es un proceso administrativo efectuado por un organismo comprador, el cual invita a diferentes proveedores interesados en proporcionar un bien o servicio a realizar una oferta, adeptándose así la más conveniente según los criterios de evaluación descritos en las bases (Mercado público, s.f.). Este proceso es muy vulnerable a la corrupción, debido a que esta puede darse en diferentes etapas y es difícil detectarla. Los principales indicadores de que una licitación podría ser fraudulenta son:\n",
    "\n",
    "- Reducido número de licitadores\n",
    "- Ofertas incoherentes de un mismo licitador.\n",
    "- Similitudes sospechosas entre las ofertas.\n",
    "- Ofertas no competitivas.\n",
    "- Patrones de comportamiento similar entre las empresas licitadoras.\n",
    "- Subcontratación no justificada entre empresas licitadoreas.\n",
    "- Ofertas presentadas por las mismas personas físicas.\n",
    "- Ofertas económicas de indéntica redacción, formato o errores.\n",
    "- Uniones temporales de empresas licitadoras sin justificación aparente.\n",
    "(Comisión Nacional de los Mercados y la Competencia, 2019)\n",
    "\n",
    "Para el desarrollo de este trabajo se utilizaron los datos abiertos del portal Chile Compra (https://datos-abiertos.chilecompra.cl/), específicamente los registros del año 2020. Se busca identificar patrones de posibles fraudes utilizando herramientas de análisis de redes. Para conseguir esto, el trabajo se desarrolló en las siguientes etapas:\n",
    "\n",
    "* Contexto del proyecto.\n",
    "* Objetivos general, específicos e hipótesis formulada.   \n",
    "* Análisis exploratorio. \n",
    "* Inferencia de la red.\n",
    "* Descripción de la red.\n",
    "* Identificación de patrones de corrupción.\n",
    "* Conclusiones, trabajos futuros y limitaciones.\n",
    "\n",
    "---"
   ]
  },
  {
   "cell_type": "markdown",
   "id": "6ad845f3",
   "metadata": {},
   "source": [
    "## Contexto del proyecto\n",
    "\n",
    "Se seleccionaron las licitaciones del año 2020 debido a la sensibilidad que estas tenían respecto a la pandemia, el equipo encargado de desarrollar este proyecto supone que al haber sido una contingencia tan grande, quizás las barreras de control fueron más bajas. En el pasado distintas empresas se han visto envueltas en licitaciones polémicas, por ejemplo LG Electronics y el caso de luminarias públicas en el sur de Chile (CIPER, 2015), los casos PagoGate y MilicoGate (El Mostrador, 2019) y un sinfín de otros organismos tanto públicos como privados.\n",
    "\n",
    "La base de datos contiene las siguientes columnas:\n",
    "\n",
    "* Codigo: número único de licitación.                      \n",
    "* Tipo de Adquisicion: rango del monto de la licitación.\n",
    "* Estado: si la licitación se declaró adjudicada, desierta, revocada, cerrada o suspendida.\n",
    "* CodigoOrganismo: número único del organismo público que abre una licitación. \n",
    "* NombreOrganismo: nombre del organismo público que abre la licitación.\n",
    "* RutUnidad: rol único tributario de la unidad que participa en la licitación.\n",
    "* ComunaUnidad: nombre de la comuna en la que la licitación es requerida.\n",
    "* FechaPublicacion: fecha en la que la licitación se publicó.\n",
    "* CodigoProductoONU: sistema de codificación común de las naciones unidas.\n",
    "* RutProveedor: rol único tributario de la empresa que postula a la licitación.\n",
    "* NombreProveedor: nombre de la empresa que se postula a la licitación.\n",
    "* Moneda de la Oferta: divisa en la que se expresa el monto a pagar de la licitación.\n",
    "* MontoLineaAdjudica: monto que se adjudica la empresa en la licitación, puede ser total o parcial.\n",
    "* Oferta seleccionada: indicador booleando que expresa si la oferta efectuada por la empresa fue seleccionada o no."
   ]
  },
  {
   "cell_type": "markdown",
   "id": "9fca5717",
   "metadata": {},
   "source": [
    "## Objetivos general, específicos e hipótesis formulada\n",
    "\n",
    "**Objetivo General**\n",
    "\n",
    "Encontrar patrones de fraude y corrupción en las licitaciones públicas de Chile registradas en el año 2020.\n",
    "\n",
    "**Objetivos Específicos**\n",
    "\n",
    "- Desarrollo de una red bipartita que integre organismos y empresas.\n",
    "- Identificar la componente gigante de la red.\n",
    "- Identificar patrones de corrupción usando herramientas de análisis de redes complejas.\n",
    "\n",
    "**Hipótesis Formulada**\n",
    "\n",
    "¿Existe una relación que se repita de forma sostenida entre Organismos Públicos con los Proveedores para el periodo a analizar (2020)?.  \n",
    "\n",
    "- La hipótesis del grupo es que la cantidad de interacciones entre un organismo y un proveedor respecto del global es un indicador de fraude.\n",
    "\n",
    "- El hecho de que pocos proveedores se postulen a un concurso público, podría sugerir que el organismo no está publicando de manera justa sus licitaciones.\n",
    "\n"
   ]
  },
  {
   "cell_type": "markdown",
   "id": "a5fc5651",
   "metadata": {},
   "source": [
    "## Análisis exploratorio"
   ]
  },
  {
   "cell_type": "code",
   "execution_count": 1,
   "id": "e2370047",
   "metadata": {},
   "outputs": [],
   "source": [
    "# Librerías\n",
    "\n",
    "#Matemática y datos\n",
    "import pandas as pd\n",
    "import numpy as np\n",
    "\n",
    "#Visualización\n",
    "import seaborn as sns\n",
    "import matplotlib.pyplot as plt\n",
    "from matplotlib import cm\n",
    "%matplotlib inline\n",
    "\n",
    "#Redes\n",
    "import networkx as nx\n",
    "from networkx.algorithms import bipartite\n",
    "import community\n",
    "from community import community_louvain\n"
   ]
  },
  {
   "cell_type": "code",
   "execution_count": 2,
   "id": "e22fd049",
   "metadata": {},
   "outputs": [
    {
     "ename": "FileNotFoundError",
     "evalue": "[Errno 2] No such file or directory: 'lic2020_hackaton.csv'",
     "output_type": "error",
     "traceback": [
      "\u001b[1;31m---------------------------------------------------------------------------\u001b[0m",
      "\u001b[1;31mFileNotFoundError\u001b[0m                         Traceback (most recent call last)",
      "\u001b[1;32m~\\AppData\\Local\\Temp\\ipykernel_18688\\3210995293.py\u001b[0m in \u001b[0;36m<module>\u001b[1;34m\u001b[0m\n\u001b[0;32m      1\u001b[0m \u001b[1;31m# Leer datos\u001b[0m\u001b[1;33m\u001b[0m\u001b[1;33m\u001b[0m\u001b[0m\n\u001b[0;32m      2\u001b[0m \u001b[1;33m\u001b[0m\u001b[0m\n\u001b[1;32m----> 3\u001b[1;33m \u001b[0mdf\u001b[0m \u001b[1;33m=\u001b[0m \u001b[0mpd\u001b[0m\u001b[1;33m.\u001b[0m\u001b[0mread_csv\u001b[0m\u001b[1;33m(\u001b[0m\u001b[1;34m'lic2020_hackaton.csv'\u001b[0m\u001b[1;33m,\u001b[0m \u001b[0msep\u001b[0m\u001b[1;33m=\u001b[0m\u001b[1;34m','\u001b[0m\u001b[1;33m,\u001b[0m \u001b[0mencoding\u001b[0m\u001b[1;33m=\u001b[0m\u001b[1;34m'latin_1'\u001b[0m\u001b[1;33m)\u001b[0m\u001b[1;33m\u001b[0m\u001b[1;33m\u001b[0m\u001b[0m\n\u001b[0m\u001b[0;32m      4\u001b[0m \u001b[0mdf\u001b[0m\u001b[1;33m[\u001b[0m\u001b[1;34m'FechaPublicacion'\u001b[0m\u001b[1;33m]\u001b[0m\u001b[1;33m=\u001b[0m\u001b[0mpd\u001b[0m\u001b[1;33m.\u001b[0m\u001b[0mto_datetime\u001b[0m\u001b[1;33m(\u001b[0m\u001b[0mdf\u001b[0m\u001b[1;33m[\u001b[0m\u001b[1;34m'FechaPublicacion'\u001b[0m\u001b[1;33m]\u001b[0m\u001b[1;33m)\u001b[0m\u001b[1;33m\u001b[0m\u001b[1;33m\u001b[0m\u001b[0m\n\u001b[0;32m      5\u001b[0m \u001b[0mdf\u001b[0m\u001b[1;33m.\u001b[0m\u001b[0mhead\u001b[0m\u001b[1;33m(\u001b[0m\u001b[1;36m3\u001b[0m\u001b[1;33m)\u001b[0m\u001b[1;33m\u001b[0m\u001b[1;33m\u001b[0m\u001b[0m\n",
      "\u001b[1;32m~\\anaconda3\\lib\\site-packages\\pandas\\util\\_decorators.py\u001b[0m in \u001b[0;36mwrapper\u001b[1;34m(*args, **kwargs)\u001b[0m\n\u001b[0;32m    309\u001b[0m                     \u001b[0mstacklevel\u001b[0m\u001b[1;33m=\u001b[0m\u001b[0mstacklevel\u001b[0m\u001b[1;33m,\u001b[0m\u001b[1;33m\u001b[0m\u001b[1;33m\u001b[0m\u001b[0m\n\u001b[0;32m    310\u001b[0m                 )\n\u001b[1;32m--> 311\u001b[1;33m             \u001b[1;32mreturn\u001b[0m \u001b[0mfunc\u001b[0m\u001b[1;33m(\u001b[0m\u001b[1;33m*\u001b[0m\u001b[0margs\u001b[0m\u001b[1;33m,\u001b[0m \u001b[1;33m**\u001b[0m\u001b[0mkwargs\u001b[0m\u001b[1;33m)\u001b[0m\u001b[1;33m\u001b[0m\u001b[1;33m\u001b[0m\u001b[0m\n\u001b[0m\u001b[0;32m    312\u001b[0m \u001b[1;33m\u001b[0m\u001b[0m\n\u001b[0;32m    313\u001b[0m         \u001b[1;32mreturn\u001b[0m \u001b[0mwrapper\u001b[0m\u001b[1;33m\u001b[0m\u001b[1;33m\u001b[0m\u001b[0m\n",
      "\u001b[1;32m~\\anaconda3\\lib\\site-packages\\pandas\\io\\parsers\\readers.py\u001b[0m in \u001b[0;36mread_csv\u001b[1;34m(filepath_or_buffer, sep, delimiter, header, names, index_col, usecols, squeeze, prefix, mangle_dupe_cols, dtype, engine, converters, true_values, false_values, skipinitialspace, skiprows, skipfooter, nrows, na_values, keep_default_na, na_filter, verbose, skip_blank_lines, parse_dates, infer_datetime_format, keep_date_col, date_parser, dayfirst, cache_dates, iterator, chunksize, compression, thousands, decimal, lineterminator, quotechar, quoting, doublequote, escapechar, comment, encoding, encoding_errors, dialect, error_bad_lines, warn_bad_lines, on_bad_lines, delim_whitespace, low_memory, memory_map, float_precision, storage_options)\u001b[0m\n\u001b[0;32m    676\u001b[0m     \u001b[0mkwds\u001b[0m\u001b[1;33m.\u001b[0m\u001b[0mupdate\u001b[0m\u001b[1;33m(\u001b[0m\u001b[0mkwds_defaults\u001b[0m\u001b[1;33m)\u001b[0m\u001b[1;33m\u001b[0m\u001b[1;33m\u001b[0m\u001b[0m\n\u001b[0;32m    677\u001b[0m \u001b[1;33m\u001b[0m\u001b[0m\n\u001b[1;32m--> 678\u001b[1;33m     \u001b[1;32mreturn\u001b[0m \u001b[0m_read\u001b[0m\u001b[1;33m(\u001b[0m\u001b[0mfilepath_or_buffer\u001b[0m\u001b[1;33m,\u001b[0m \u001b[0mkwds\u001b[0m\u001b[1;33m)\u001b[0m\u001b[1;33m\u001b[0m\u001b[1;33m\u001b[0m\u001b[0m\n\u001b[0m\u001b[0;32m    679\u001b[0m \u001b[1;33m\u001b[0m\u001b[0m\n\u001b[0;32m    680\u001b[0m \u001b[1;33m\u001b[0m\u001b[0m\n",
      "\u001b[1;32m~\\anaconda3\\lib\\site-packages\\pandas\\io\\parsers\\readers.py\u001b[0m in \u001b[0;36m_read\u001b[1;34m(filepath_or_buffer, kwds)\u001b[0m\n\u001b[0;32m    573\u001b[0m \u001b[1;33m\u001b[0m\u001b[0m\n\u001b[0;32m    574\u001b[0m     \u001b[1;31m# Create the parser.\u001b[0m\u001b[1;33m\u001b[0m\u001b[1;33m\u001b[0m\u001b[0m\n\u001b[1;32m--> 575\u001b[1;33m     \u001b[0mparser\u001b[0m \u001b[1;33m=\u001b[0m \u001b[0mTextFileReader\u001b[0m\u001b[1;33m(\u001b[0m\u001b[0mfilepath_or_buffer\u001b[0m\u001b[1;33m,\u001b[0m \u001b[1;33m**\u001b[0m\u001b[0mkwds\u001b[0m\u001b[1;33m)\u001b[0m\u001b[1;33m\u001b[0m\u001b[1;33m\u001b[0m\u001b[0m\n\u001b[0m\u001b[0;32m    576\u001b[0m \u001b[1;33m\u001b[0m\u001b[0m\n\u001b[0;32m    577\u001b[0m     \u001b[1;32mif\u001b[0m \u001b[0mchunksize\u001b[0m \u001b[1;32mor\u001b[0m \u001b[0miterator\u001b[0m\u001b[1;33m:\u001b[0m\u001b[1;33m\u001b[0m\u001b[1;33m\u001b[0m\u001b[0m\n",
      "\u001b[1;32m~\\anaconda3\\lib\\site-packages\\pandas\\io\\parsers\\readers.py\u001b[0m in \u001b[0;36m__init__\u001b[1;34m(self, f, engine, **kwds)\u001b[0m\n\u001b[0;32m    930\u001b[0m \u001b[1;33m\u001b[0m\u001b[0m\n\u001b[0;32m    931\u001b[0m         \u001b[0mself\u001b[0m\u001b[1;33m.\u001b[0m\u001b[0mhandles\u001b[0m\u001b[1;33m:\u001b[0m \u001b[0mIOHandles\u001b[0m \u001b[1;33m|\u001b[0m \u001b[1;32mNone\u001b[0m \u001b[1;33m=\u001b[0m \u001b[1;32mNone\u001b[0m\u001b[1;33m\u001b[0m\u001b[1;33m\u001b[0m\u001b[0m\n\u001b[1;32m--> 932\u001b[1;33m         \u001b[0mself\u001b[0m\u001b[1;33m.\u001b[0m\u001b[0m_engine\u001b[0m \u001b[1;33m=\u001b[0m \u001b[0mself\u001b[0m\u001b[1;33m.\u001b[0m\u001b[0m_make_engine\u001b[0m\u001b[1;33m(\u001b[0m\u001b[0mf\u001b[0m\u001b[1;33m,\u001b[0m \u001b[0mself\u001b[0m\u001b[1;33m.\u001b[0m\u001b[0mengine\u001b[0m\u001b[1;33m)\u001b[0m\u001b[1;33m\u001b[0m\u001b[1;33m\u001b[0m\u001b[0m\n\u001b[0m\u001b[0;32m    933\u001b[0m \u001b[1;33m\u001b[0m\u001b[0m\n\u001b[0;32m    934\u001b[0m     \u001b[1;32mdef\u001b[0m \u001b[0mclose\u001b[0m\u001b[1;33m(\u001b[0m\u001b[0mself\u001b[0m\u001b[1;33m)\u001b[0m\u001b[1;33m:\u001b[0m\u001b[1;33m\u001b[0m\u001b[1;33m\u001b[0m\u001b[0m\n",
      "\u001b[1;32m~\\anaconda3\\lib\\site-packages\\pandas\\io\\parsers\\readers.py\u001b[0m in \u001b[0;36m_make_engine\u001b[1;34m(self, f, engine)\u001b[0m\n\u001b[0;32m   1214\u001b[0m             \u001b[1;31m# \"Union[str, PathLike[str], ReadCsvBuffer[bytes], ReadCsvBuffer[str]]\"\u001b[0m\u001b[1;33m\u001b[0m\u001b[1;33m\u001b[0m\u001b[0m\n\u001b[0;32m   1215\u001b[0m             \u001b[1;31m# , \"str\", \"bool\", \"Any\", \"Any\", \"Any\", \"Any\", \"Any\"\u001b[0m\u001b[1;33m\u001b[0m\u001b[1;33m\u001b[0m\u001b[0m\n\u001b[1;32m-> 1216\u001b[1;33m             self.handles = get_handle(  # type: ignore[call-overload]\n\u001b[0m\u001b[0;32m   1217\u001b[0m                 \u001b[0mf\u001b[0m\u001b[1;33m,\u001b[0m\u001b[1;33m\u001b[0m\u001b[1;33m\u001b[0m\u001b[0m\n\u001b[0;32m   1218\u001b[0m                 \u001b[0mmode\u001b[0m\u001b[1;33m,\u001b[0m\u001b[1;33m\u001b[0m\u001b[1;33m\u001b[0m\u001b[0m\n",
      "\u001b[1;32m~\\anaconda3\\lib\\site-packages\\pandas\\io\\common.py\u001b[0m in \u001b[0;36mget_handle\u001b[1;34m(path_or_buf, mode, encoding, compression, memory_map, is_text, errors, storage_options)\u001b[0m\n\u001b[0;32m    784\u001b[0m         \u001b[1;32mif\u001b[0m \u001b[0mioargs\u001b[0m\u001b[1;33m.\u001b[0m\u001b[0mencoding\u001b[0m \u001b[1;32mand\u001b[0m \u001b[1;34m\"b\"\u001b[0m \u001b[1;32mnot\u001b[0m \u001b[1;32min\u001b[0m \u001b[0mioargs\u001b[0m\u001b[1;33m.\u001b[0m\u001b[0mmode\u001b[0m\u001b[1;33m:\u001b[0m\u001b[1;33m\u001b[0m\u001b[1;33m\u001b[0m\u001b[0m\n\u001b[0;32m    785\u001b[0m             \u001b[1;31m# Encoding\u001b[0m\u001b[1;33m\u001b[0m\u001b[1;33m\u001b[0m\u001b[0m\n\u001b[1;32m--> 786\u001b[1;33m             handle = open(\n\u001b[0m\u001b[0;32m    787\u001b[0m                 \u001b[0mhandle\u001b[0m\u001b[1;33m,\u001b[0m\u001b[1;33m\u001b[0m\u001b[1;33m\u001b[0m\u001b[0m\n\u001b[0;32m    788\u001b[0m                 \u001b[0mioargs\u001b[0m\u001b[1;33m.\u001b[0m\u001b[0mmode\u001b[0m\u001b[1;33m,\u001b[0m\u001b[1;33m\u001b[0m\u001b[1;33m\u001b[0m\u001b[0m\n",
      "\u001b[1;31mFileNotFoundError\u001b[0m: [Errno 2] No such file or directory: 'lic2020_hackaton.csv'"
     ]
    }
   ],
   "source": [
    "# Leer datos\n",
    "\n",
    "df = pd.read_csv('lic2020_hackaton.csv', sep=',', encoding='latin_1')\n",
    "df['FechaPublicacion']=pd.to_datetime(df['FechaPublicacion'])\n",
    "df.head(3)"
   ]
  },
  {
   "cell_type": "markdown",
   "id": "a1d7d67d",
   "metadata": {},
   "source": [
    "En primer lugar se debe analizar el contenido y eliminar aquellas filas que contuvieran datos nulos. Esto debido a que al momento de querer enlazar nodos o identificar patrones comunes estos datos quedan vinculados."
   ]
  },
  {
   "cell_type": "code",
   "execution_count": null,
   "id": "4083ae4c",
   "metadata": {
    "scrolled": true
   },
   "outputs": [],
   "source": [
    "df.isnull().sum()"
   ]
  },
  {
   "cell_type": "code",
   "execution_count": null,
   "id": "2890ee04",
   "metadata": {},
   "outputs": [],
   "source": [
    "df[df['NombreProveedor'].isnull()].head(3)"
   ]
  },
  {
   "cell_type": "code",
   "execution_count": null,
   "id": "82048e72",
   "metadata": {
    "scrolled": true
   },
   "outputs": [],
   "source": [
    "df = df.dropna()\n",
    "df.isnull().sum()"
   ]
  },
  {
   "cell_type": "markdown",
   "id": "5c980da5",
   "metadata": {},
   "source": [
    "- De acuerdo a la información contenida en el dataframe, es posible identificar que claramente existen 2 grupos de nodos. \n",
    "\n",
    "-Los primeros con sus datos agrupados en las columnas de la izquierda, corresponden a los organismos públicos que generan las licitaciones.\n",
    "\n",
    "\n",
    "- En las columnas de la derecha figura lo referente a las empresas proveedoras que participan de las licitaciones asociadas a los organismos públicos, estableciéndose de este modo los enlaces para esta red bipartita.\n",
    "\n",
    "\n",
    "- Identificados los grupos de nodos de la red bipartita, se procede a definir las columnas a utilizar de las que se extraerán estos, si utilizar códigos o nombres. Dado que en los Organismos las cantidades de Nombres son inferiores a las de Códigos, se opta por utilizar los Nombres, ya que eventualmente podría existir más de un Código asociado a los organismos, lo cual generaría una distorsión en el análisis al momento de establecer relaciones.\n",
    "\n",
    "    "
   ]
  },
  {
   "cell_type": "code",
   "execution_count": null,
   "id": "41dfbc8e",
   "metadata": {},
   "outputs": [],
   "source": [
    "print('Cantidad de Nombres de Organismo:')\n",
    "print(len(df['NombreOrganismo'].unique()))\n",
    "print('\\nCantidad de Codigos de Organismo:')\n",
    "print(len(df['CodigoOrganismo'].unique()))"
   ]
  },
  {
   "cell_type": "code",
   "execution_count": null,
   "id": "31911ac4",
   "metadata": {},
   "outputs": [],
   "source": [
    "# Cantidad de Licitaciones abiertas por mes\n",
    "\n",
    "df11 = df[df.Codigo.duplicated(keep=False)]\n",
    "df11 = df11['FechaPublicacion'].dt.date.value_counts().sort_index().reset_index()\n",
    "df11.columns=['Fecha Publicacion','Codigo']\n",
    "df11['Fecha Publicacion']=pd.to_datetime(df11['Fecha Publicacion'])\n",
    "df11['month'] = df11['Fecha Publicacion'].dt.month\n",
    "df12 = df11.groupby(df11['Fecha Publicacion'].dt.month)['Codigo'].sum()\n",
    "df12 = df12.to_frame().reset_index()\n",
    "df12.columns = ['Mes', 'Cantidad Licitaciones']\n",
    "ax = df12.plot.bar(x='Mes', y='Cantidad Licitaciones', rot=0)"
   ]
  },
  {
   "cell_type": "markdown",
   "id": "c0451aa7",
   "metadata": {},
   "source": [
    "Observando la distribución de  la cantidad de licitaciones durante el año, se puede observar una tendencia negativa, la cual no presentó mayores variaciones entre un mes y otro, a excepción de los primeros 3 meses del año. Esta variación no es significativa como para centrar incialmente un análisis en este punto."
   ]
  },
  {
   "cell_type": "code",
   "execution_count": null,
   "id": "19e12659",
   "metadata": {},
   "outputs": [],
   "source": [
    "# Cantidad total de veces que algún proveedor aplicó a alguna licitación\n",
    "\n",
    "df13 = df['NombreProveedor'].value_counts().to_frame().reset_index()\n",
    "df13['NombreProveedor'].sum()"
   ]
  },
  {
   "cell_type": "code",
   "execution_count": null,
   "id": "88132f3e",
   "metadata": {},
   "outputs": [],
   "source": [
    "# Top proveedores que más aplicaron a licitaciones\n",
    "\n",
    "df13['Porcentaje del total'] = df13['NombreProveedor']/1769860\n",
    "df13.rename(columns = {'index':'Proveedor','NombreProveedor':'Conteo'}, inplace = True)\n",
    "df13[:15]"
   ]
  },
  {
   "cell_type": "markdown",
   "id": "3d7fe655",
   "metadata": {},
   "source": [
    "Tal como se aprecia en la tabla, ninguno de los proveedores concentra un alto porcentaje de participación en licitaciones como para iniciar un análisis respecto a estos valores."
   ]
  },
  {
   "cell_type": "code",
   "execution_count": null,
   "id": "2e0946ce",
   "metadata": {},
   "outputs": [],
   "source": [
    "# Cantidad total de veces que algún organismo abrió una licitación\n",
    "\n",
    "df14 = df['NombreOrganismo'].value_counts().to_frame().reset_index()\n",
    "df14['NombreOrganismo'].sum()"
   ]
  },
  {
   "cell_type": "code",
   "execution_count": null,
   "id": "467dc6e6",
   "metadata": {},
   "outputs": [],
   "source": [
    "# Top Organismos que más licitaciones abrieron\n",
    "\n",
    "df14['Porcentaje del total'] = df14['NombreOrganismo']/1769860\n",
    "df14.rename(columns = {'index':'Organismo','NombreOrganismo':'Conteo'}, inplace = True)\n",
    "df14[:15]"
   ]
  },
  {
   "cell_type": "markdown",
   "id": "e6e8aa77",
   "metadata": {},
   "source": [
    "En general es posible apreciar que no existe una entidad que concentre un porcentaje de licitaciones significativamente mayor a las demás como para ser objeto de análisis. "
   ]
  },
  {
   "cell_type": "code",
   "execution_count": null,
   "id": "c7324169",
   "metadata": {},
   "outputs": [],
   "source": [
    "# Conteo de ofertas seleccionadas\n",
    "\n",
    "df15 = df['Oferta seleccionada'].value_counts().to_frame().reset_index()\n",
    "df15.rename(columns = {'Oferta seleccionada':'Conteo','index':'Selección ofta'},inplace = True)\n",
    "df15"
   ]
  },
  {
   "cell_type": "code",
   "execution_count": null,
   "id": "43cb4078",
   "metadata": {},
   "outputs": [],
   "source": [
    "# Top proveedores que más fueron seleccionados\n",
    "\n",
    "df15 = df[df['Oferta seleccionada'] == 'Seleccionada']\n",
    "df15 = df15['NombreProveedor'].value_counts().to_frame().reset_index()\n",
    "df15['Porcentaje del total'] = df15['NombreProveedor']/359922\n",
    "df15.rename(columns = {'index':'Proveedor','NombreProveedor':'Conteo'}, inplace = True)\n",
    "df15[:15]"
   ]
  },
  {
   "cell_type": "markdown",
   "id": "763e8523",
   "metadata": {},
   "source": [
    "Dentro de los proveedores con mayor cantidad de adjudicaciones se aprecia que predominan aquellos vinculados a la industria farmacéutica, sin embargo, individualmente ninguno arroja un porcentaje lo suficientemente grande apra ser objeto de análisis."
   ]
  },
  {
   "cell_type": "code",
   "execution_count": null,
   "id": "e407dab4",
   "metadata": {},
   "outputs": [],
   "source": [
    "# Conteo del estado de la oferta\n",
    "\n",
    "df16 = df['Estado'].value_counts().to_frame().reset_index()\n",
    "df16.rename(columns = {'Estado':'Conteo','index':'Estado'},inplace = True)\n",
    "df16"
   ]
  },
  {
   "cell_type": "code",
   "execution_count": null,
   "id": "19490b36",
   "metadata": {},
   "outputs": [],
   "source": [
    "# Top proveedores que más licitaciones se adjudicaron\n",
    "\n",
    "df16 = df[df['Estado'] == 'Adjudicada']\n",
    "df16 = df16['NombreProveedor'].value_counts().to_frame().reset_index()\n",
    "df16['Porcentaje del total'] = df16['NombreProveedor']/1633154\n",
    "df16.rename(columns = {'index':'Proveedor','NombreProveedor':'Conteo'}, inplace = True)\n",
    "df16[:15]"
   ]
  },
  {
   "cell_type": "code",
   "execution_count": null,
   "id": "fe03782d",
   "metadata": {},
   "outputs": [],
   "source": [
    "df_te= df13.merge(df15, how='inner', on='Proveedor')\n",
    "df_te = df_te[df_te['Conteo_y'] > 1000]\n",
    "df_te['Tasa éxito'] = df_te['Conteo_y'] / df_te['Conteo_x']\n",
    "df_te = df_te.reset_index().sort_values(by='Tasa éxito', ascending=False)\n",
    "df_te.rename(columns = {'Conteo_x':'Conteo Postulaciones','Porcentaje del total_x':'% del total Postulaciones',\n",
    "                       'Conteo_y':'Conteo Seleccionadas','Porcentaje del total_y':'% del total Seleccionadas'}, inplace = True)\n",
    "df_te"
   ]
  },
  {
   "cell_type": "markdown",
   "id": "f0ad91dc",
   "metadata": {},
   "source": [
    "\n",
    "\n",
    "- Del análisis de datos, fue posible identificar que existen 2 grupos de nodos mediante los cuales es factible generar una Red Bipartita. El primer Grupo contempla las primeras columnas de datos que se encuentras asociadas a los Organismos estatales que generan las Licitaciones. Por otro lado, el conjunto de columnas de la izquierda corresponden a las Empresas participantes de las licitaciones.\n",
    "\n",
    "- Dentro del análisis exploratiorio de los datos, fue posible identificar que las cantidades de CodigosOrganismos no coincidía con la de NombreOrganismos, lo cual eventualmente significaría que existen Organismos con más de un código asociado, lo que nos inclina por trabajar con los Nombres.\n",
    "\n",
    "- Otra observación que pudimos identificar, es que algunas de las empresas que participan como oferentes, se \n",
    "encuentran también dentro del listado de Organismos, estas corresponden a aquellas empresas estatales como universidades, las cuales poseen áreas de proyectos o investigación para el autofinanciamiento.\n",
    "\n",
    "- Resulta interesante ver las altas tasas de éxito que tienen algunas empresas respecto de las otras al quedar seleccionados en las licitaciones. El top 7 posee una tasa mayor al 50%, pero con las empresas que vienen después esa tendencia desaparece absolutamente."
   ]
  },
  {
   "cell_type": "markdown",
   "id": "4e2fe7f9",
   "metadata": {},
   "source": [
    "## Inferencia de la red\n",
    "### Creación de la red:"
   ]
  },
  {
   "cell_type": "code",
   "execution_count": null,
   "id": "38b6d4dd",
   "metadata": {},
   "outputs": [],
   "source": [
    "# Creación de una lista de nodos con los organismos públicos\n",
    "\n",
    "lista_organismos = df['NombreOrganismo'].unique()\n",
    "lista_organismos[0:5]\n",
    "len(lista_organismos)"
   ]
  },
  {
   "cell_type": "code",
   "execution_count": null,
   "id": "dd5812f4",
   "metadata": {
    "scrolled": true
   },
   "outputs": [],
   "source": [
    "# Lista de nodos de empresas\n",
    "\n",
    "lista_empresas = df['NombreProveedor'].unique()\n",
    "lista_empresas[0:5]\n",
    "len(lista_empresas)"
   ]
  },
  {
   "cell_type": "markdown",
   "id": "fca0d28c",
   "metadata": {},
   "source": [
    "Dado que existen empresas que figuran tanto como organismo público y como proveedor, afectando la creación de la red bipartita, se identifican estas instituciones y posteriormentes son eliminadas del dataset. Estas entidades corresponden a empresas estatales como universidades, las cuales poseen áreas de proyectos o investigación para el autofinanciamiento."
   ]
  },
  {
   "cell_type": "code",
   "execution_count": null,
   "id": "53fa49f3",
   "metadata": {},
   "outputs": [],
   "source": [
    "del_empresas = []\n",
    "for organismo in lista_organismos:\n",
    "    for empresa in lista_empresas:\n",
    "        if organismo == empresa:\n",
    "            del_empresas.append(organismo)\n",
    "del_empresas\n",
    "\n",
    "for universidad in del_empresas:\n",
    "    df = df[df['NombreProveedor'] != universidad]\n",
    "\n",
    "lista_empresas = df['NombreProveedor'].unique()\n",
    "len(lista_empresas)"
   ]
  },
  {
   "cell_type": "code",
   "execution_count": null,
   "id": "1ecac126",
   "metadata": {},
   "outputs": [],
   "source": [
    "del_empresas"
   ]
  },
  {
   "cell_type": "code",
   "execution_count": null,
   "id": "b0c1417a",
   "metadata": {
    "scrolled": false
   },
   "outputs": [],
   "source": [
    "# Conteo de repeticiones organismo-proveedor\n",
    "\n",
    "pivot = pd.pivot_table(df, index=['NombreOrganismo','NombreProveedor'],values=['Oferta seleccionada'],aggfunc='count')\n",
    "pivot = pivot.reset_index().sort_values(by='Oferta seleccionada', ascending=False)\n",
    "pivot.rename(columns = {'Oferta seleccionada':'Conteo Interacciones'}, inplace = True)\n",
    "pivot.head(15)"
   ]
  },
  {
   "cell_type": "markdown",
   "id": "9fa917f8",
   "metadata": {},
   "source": [
    "Para la creación de la red se buscan los pares de nodos con su respectivo peso, en este caso sería la cantidad de interacciones que tiene un Organismo con un Proveedor de manera individual.\n",
    "\n",
    "Siguiendo la línea de calcular las coincidencias, se realizó un conteo para el dataset filtrado por empresas seleccionadas, lo cual dió pistas claras para investigar, sin embargo, esa parte del proyecto será abordada más adelante."
   ]
  },
  {
   "cell_type": "code",
   "execution_count": null,
   "id": "572c2955",
   "metadata": {},
   "outputs": [],
   "source": [
    "# pivot sólo proveedores seleccionados\n",
    "df15 = df[df['Oferta seleccionada'] == 'Seleccionada']\n",
    "\n",
    "pivot15 = pd.pivot_table(df15, index=['NombreOrganismo','NombreProveedor'],values=['Oferta seleccionada'],aggfunc='count')\n",
    "pivot15 = pivot15.reset_index().sort_values(by='Oferta seleccionada', ascending=False)\n",
    "pivot15.rename(columns = {'Oferta seleccionada':'Conteo Seleccionados'}, inplace = True)\n",
    "pivot15.head(15)"
   ]
  },
  {
   "cell_type": "code",
   "execution_count": null,
   "id": "0ee51719",
   "metadata": {},
   "outputs": [],
   "source": [
    "# Se crean tuplas con los pares organismo-proveedor y peso, a modo de encale entre los nodos\n",
    "\n",
    "lista_tuplas_pesos = []\n",
    "\n",
    "for i in pivot.to_numpy():\n",
    "    lista_tuplas_pesos.append((i[0], i[1], i[2]))\n",
    "lista_tuplas_pesos[:4]"
   ]
  },
  {
   "cell_type": "code",
   "execution_count": null,
   "id": "0a6ad697",
   "metadata": {
    "scrolled": true
   },
   "outputs": [],
   "source": [
    "len(lista_tuplas_pesos)"
   ]
  },
  {
   "cell_type": "code",
   "execution_count": null,
   "id": "b17d8be6",
   "metadata": {},
   "outputs": [],
   "source": [
    "# Se construye el gráfo de red bipartita\n",
    "\n",
    "G = nx.Graph()\n",
    "G.add_nodes_from(lista_empresas, bipartite=0)\n",
    "G.add_nodes_from(lista_organismos,bipartite=1)\n",
    "G.add_weighted_edges_from(lista_tuplas_pesos)\n",
    "bipartite.is_bipartite(G)"
   ]
  },
  {
   "cell_type": "markdown",
   "id": "b8a1848c",
   "metadata": {},
   "source": [
    "### Análisis de la red:"
   ]
  },
  {
   "cell_type": "code",
   "execution_count": null,
   "id": "7a39941d",
   "metadata": {},
   "outputs": [],
   "source": [
    "N1 = len(G)\n",
    "L1 = G.size()\n",
    "degrees1 = list(dict(G.degree()).values())\n",
    "kmin1 = min(degrees1)\n",
    "kmax1 = max(degrees1)\n",
    "densidad = nx.density(G)\n",
    "print(\"Número de nodos: \", N1)\n",
    "print(\"Número de enlaces: \", L1)\n",
    "print('-------')\n",
    "print(\"Grado promedio: \", 2*L1/N1) #Formula vista en clases (qué sucedía con las redes reales?)\n",
    "print(\"Grado promedio (alternativa de calculo)\", np.mean(degrees1))\n",
    "print('-------')\n",
    "print(\"Grado mínimo: \", kmin1)\n",
    "print(\"Grado máximo: \", kmax1)\n",
    "print('-------')\n",
    "print(\"Densidad de la red: \", densidad)"
   ]
  },
  {
   "cell_type": "markdown",
   "id": "9f078cc5",
   "metadata": {},
   "source": [
    "Es posible apreciar que la densidad de la red es bastante baja, lo cual también permite inferir que la red poseería varias comunidades entre las cuales se relacionen los nodos."
   ]
  },
  {
   "cell_type": "code",
   "execution_count": null,
   "id": "cfdde254",
   "metadata": {},
   "outputs": [],
   "source": [
    "# Distribución de grado de la red\n",
    "\n",
    "degrees = list(dict(G.degree()).values())\n",
    "plt.hist(list(degrees))\n",
    "plt.show()"
   ]
  },
  {
   "cell_type": "code",
   "execution_count": null,
   "id": "494b11f0",
   "metadata": {},
   "outputs": [],
   "source": [
    "# Entrega 20 bins linealmente espaceados entre kmin y kmax\n",
    "bin_edges = np.linspace(kmin1, kmax1, num=30)\n",
    "\n",
    "# histograma de la data en estos bines \n",
    "density, _ = np.histogram(degrees1, bins=bin_edges, density=True)\n",
    "###Histograma\n",
    "fig = plt.figure(figsize=(6,4))\n",
    "\n",
    "# \"x\" debería ser el punto medido (en escala lineal) de cada bin\n",
    "log_be = np.log10(bin_edges)\n",
    "x = 10**((log_be[1:] + log_be[:-1])/2)\n",
    "\n",
    "plt.plot(x, density, marker='o', linestyle='none')\n",
    "plt.xlabel(r\"degree $k$\", fontsize=16)\n",
    "plt.ylabel(r\"$P(k)$\", fontsize=16)\n",
    "\n",
    "# Muestra la gráfica\n",
    "plt.show()"
   ]
  },
  {
   "cell_type": "code",
   "execution_count": null,
   "id": "00be7db5",
   "metadata": {},
   "outputs": [],
   "source": [
    "bin_edges = np.logspace(np.log10(kmin1), np.log10(kmax1), num=30)\n",
    "density, _ = np.histogram(degrees1, bins=bin_edges, density=True)\n",
    "np.histogram(degrees1, bins=bin_edges, density=True)\n",
    "\n",
    "###Histograma\n",
    "fig = plt.figure(figsize=(6,4))\n",
    "\n",
    "# \"x\" debe ser el punto medio (en escala LOG) de cada bin\n",
    "log_be = np.log10(bin_edges)\n",
    "x = 10**((log_be[1:] + log_be[:-1])/2)\n",
    "\n",
    "plt.loglog(x, density, marker='o', linestyle='none')\n",
    "plt.xlabel(r\"degree $k$\", fontsize=16)\n",
    "plt.ylabel(r\"$P(k)$\", fontsize=16)\n",
    "\n",
    "# Muestra la gráfica\n",
    "plt.show()"
   ]
  },
  {
   "cell_type": "markdown",
   "id": "2b4d2bde",
   "metadata": {},
   "source": [
    "El análisis mediante histogramas permite confirmar nuevamente que existe una gran cantidad de nodos poco conectados y que para grados mayores la distribución de nodos disminuye exponencialmente."
   ]
  },
  {
   "cell_type": "markdown",
   "id": "3a660eb0",
   "metadata": {},
   "source": [
    "### Identificacion de Comunidades:"
   ]
  },
  {
   "cell_type": "markdown",
   "id": "2d63aae7",
   "metadata": {},
   "source": [
    "- Tal como era posible predecir debido a lo poco densa de la red, existe una cantidad significativa de comunidades.\n",
    "\n",
    "\n",
    "- En este punto se ha optado por definir un random_state para la función de best_partition que arroje una partición con varias comunidades de baja cantidad de nodos, a fin de facilitar el análisis de las comunidades mediante algoritmos."
   ]
  },
  {
   "cell_type": "code",
   "execution_count": null,
   "id": "6891e9d7",
   "metadata": {},
   "outputs": [],
   "source": [
    "partition = community_louvain.best_partition(G, weight='weight', random_state = 6)\n",
    "\n",
    "size = (len(set(partition.values())))#Numero de comunidades\n",
    "print('Se detectan %d comunidades' % (size))\n",
    "print('\\n')\n",
    "\n",
    "d = {}\n",
    "for character, par in partition.items():\n",
    "    if par in d:\n",
    "        d[par].append(character)\n",
    "    else:\n",
    "        d[par] = [character]\n",
    "\n",
    "for i in range(len(d)):\n",
    "    print(f'Tamaño Comunidad {i}: {len(d[i])}')"
   ]
  },
  {
   "cell_type": "markdown",
   "id": "9123c206",
   "metadata": {},
   "source": [
    "### Nota:\n",
    "\n",
    "###### Dado que correr el código nx.spring_layout(G) tarda demasiado tiempo, se ha generado un código que permite importar ya la disposición de nodos desde un archivo CSV.  \n",
    "\n",
    "###### Se recomienda desactivar o eliminar los siguientes códicos si el programa ya ha sido ejecutado previamente y el archivo CSV ha sido generado, a fin de agilizar su ejecución:\n",
    "\n",
    "\n",
    "- pos = nx.spring_layout(G) # Layout para la red (coordenadas de los nodos y enlaces)\n",
    "- pos_export = pd.DataFrame(pos)\n",
    "- pos_export.to_csv('TareaFinalPos.csv')"
   ]
  },
  {
   "cell_type": "code",
   "execution_count": null,
   "id": "fe0cb85d",
   "metadata": {},
   "outputs": [],
   "source": [
    "pos = nx.spring_layout(G) # Layout para la red (coordenadas de los nodos y enlaces)\n",
    "pos_export = pd.DataFrame(pos)\n",
    "#pos_export.to_csv('TareaFinalPos.csv')\n",
    "#pos_import = pd.read_csv('TareaFinalPos.csv', sep=',')\n",
    "pos_import = pos_export\n",
    "#pos_import = pos_import.drop(['Unnamed: 0'], axis=1)\n",
    "cord_dict = {}\n",
    "for key in pos_import:\n",
    "    cord = [pos_import[key][0], pos_import[key][1]]\n",
    "    cord = np.array(cord)\n",
    "    cord_dict[key] = cord\n",
    "    \n",
    "pos_import = cord_dict"
   ]
  },
  {
   "cell_type": "code",
   "execution_count": null,
   "id": "2b629b3a",
   "metadata": {
    "scrolled": true
   },
   "outputs": [],
   "source": [
    "#Posiciones definidas para los nodos\n",
    "len(pos_import)"
   ]
  },
  {
   "cell_type": "code",
   "execution_count": null,
   "id": "99200e67",
   "metadata": {},
   "outputs": [],
   "source": [
    "#Verificacion de cantidad de nodos\n",
    "len(lista_organismos)+len(lista_empresas)"
   ]
  },
  {
   "cell_type": "code",
   "execution_count": null,
   "id": "a3cd5d82",
   "metadata": {},
   "outputs": [],
   "source": [
    "#Corroborar que la suma de cada nodo separado en als comunidades coincidan con la cantidad de nodos\n",
    "\n",
    "sum = int()\n",
    "for i in range(len(d)):\n",
    "    sum = sum + len(d[i])\n",
    "print (sum)"
   ]
  },
  {
   "cell_type": "markdown",
   "id": "4b693647",
   "metadata": {},
   "source": [
    "#### Ploteo del Grafo"
   ]
  },
  {
   "cell_type": "code",
   "execution_count": null,
   "id": "fe2de34c",
   "metadata": {
    "scrolled": false
   },
   "outputs": [],
   "source": [
    "plt.figure(figsize=(25, 15))\n",
    "\n",
    "#colors = [np.array(cm.jet(x)).reshape(1,-1) for x in np.linspace(0, 1, size)]#cm.jet es el mapa de colores https://www.programcreek.com/python/example/56498/matplotlib.cm.jet\n",
    "colors = ['white', 'white', 'white', 'yellow', 'white', 'white', 'white', 'white', 'white', 'white', 'cyan', 'orange', 'blue', 'white', 'green', 'red', ]\n",
    "\n",
    "count = 0\n",
    "for com in set(partition.values()): #para cada comunidad\n",
    "    list_nodes = [nodes for nodes in partition.keys() if partition[nodes] == com]\n",
    "    nx.draw_networkx_nodes(G, pos_import, list_nodes, node_size = 20, node_color=colors[count], alpha=0.8)#plotea nodos con colors por comunidad\n",
    "    count = count + 1# para iterar sobre los colores\n",
    "\n",
    "nx.draw_networkx_edges(G, pos_import, alpha=0.5, width=0.15)#plotea enlaces\n",
    "plt.show()\n"
   ]
  },
  {
   "cell_type": "markdown",
   "id": "33f59ae1",
   "metadata": {},
   "source": [
    "Mediante el gráfico de red es posible notar que si bien existen comunidades pequeñas que se notan aisladas en la periferia, se denota que las comunidades mas grandes no son facilmente separables entre si, por lo cual se deduce que la partición debe tener baja modularidad."
   ]
  },
  {
   "cell_type": "markdown",
   "id": "649da42f",
   "metadata": {},
   "source": [
    "## Identificación de patrones de corrupción"
   ]
  },
  {
   "cell_type": "code",
   "execution_count": null,
   "id": "9a93b3c5",
   "metadata": {},
   "outputs": [],
   "source": [
    "# Funcion para crear lista de codigos de licitacion entre un par organismo-proveedor\n",
    "\n",
    "def lista_empresa_licitacion(nombre_organismo, nombre_proveedor):\n",
    "    \n",
    "    df_ddn = df[['Codigo','NombreOrganismo','NombreProveedor','Oferta seleccionada']]\n",
    "    df_ddn = df_ddn[(df_ddn['NombreProveedor'] == nombre_proveedor) ]\n",
    "    \n",
    "    lista_codigos = []\n",
    "\n",
    "    for i in df_ddn['Codigo'].to_numpy():\n",
    "        lista_codigos.append(i)\n",
    "       \n",
    "    return lista_codigos\n",
    "\n",
    "# Funcion para conseguir el coeficiente de jaccard\n",
    "\n",
    "def jaccard(grupo1, grupo2):\n",
    "    interseccion = len(set(grupo1).intersection(set(grupo2)))\n",
    "    union = len (set(grupo1).union(set(grupo2)))\n",
    "    \n",
    "    return interseccion / union , interseccion\n",
    "\n",
    "# Funcion para conseguir el coeficiente de jaccard para todos los nodos dentro de una comunidad\n",
    "\n",
    "def jaccard_completo(dd):\n",
    "    \n",
    "    lista_nombres_organismos = dd['NombreOrganismo']\n",
    "    lista_nombres_proveedores = dd['NombreProveedor']\n",
    "    \n",
    "    dicc_codigos_dd = {}\n",
    "    \n",
    "    df = pd.DataFrame(columns=['NombreProveedor_1', 'NombreProveedor_2', 'Coeficiente de Jaccard', 'CantidadCoincidencias'])\n",
    "    \n",
    "    for i in range(len(dd)):\n",
    "        lista_codigos = lista_empresa_licitacion(lista_nombres_organismos[i], lista_nombres_proveedores[i])\n",
    "        \n",
    "        dicc_codigos_dd[lista_nombres_proveedores[i]] = lista_codigos\n",
    "                \n",
    "    for key_j, value_j in dicc_codigos_dd.items():\n",
    "        for key_k, value_k in dicc_codigos_dd.items():\n",
    "            jacard_empresas, interseccion = jaccard(value_j, value_k)\n",
    "            #print (f\"Porcentaje de similitud Para Empresas {key_j} y {key_k} : {round(jacard_empresas,2)}\")\n",
    "            df_append = pd.DataFrame({'NombreProveedor_1': key_j, 'NombreProveedor_2': key_k,\n",
    "                                      'Coeficiente de Jaccard': round(jacard_empresas,2), 'CantidadCoincidencias':interseccion }, index=[0])\n",
    "            frames = [df, df_append]\n",
    "            df = pd.concat(frames)\n",
    "            \n",
    "    df = df.sort_values(by='Coeficiente de Jaccard', ascending=False)\n",
    "    df = df.reset_index().drop(columns='index')\n",
    "    \n",
    "    for index, row in df.iterrows():\n",
    "        if row['NombreProveedor_1'] == row['NombreProveedor_2']:\n",
    "            df = df.drop(index)\n",
    "    df = df.reset_index().drop(columns='index')\n",
    "    df2 = df\n",
    "    for i in range(len(df2)):\n",
    "        for k in range(i+1, len(df2)):\n",
    "            \n",
    "            if df2.NombreProveedor_1[i] == df2.NombreProveedor_2[k]: \n",
    "                if df2.NombreProveedor_1[k] == df2.NombreProveedor_2[i]:\n",
    "                    df = df.drop(k)\n",
    "        \n",
    "    return df    "
   ]
  },
  {
   "cell_type": "code",
   "execution_count": null,
   "id": "eb44e46c",
   "metadata": {},
   "outputs": [],
   "source": [
    "def comunidad(df, d):\n",
    "\n",
    "    df2 = pd.DataFrame()\n",
    "    j = 0\n",
    "    for i in range (len(df)):\n",
    "        if df.NombreOrganismo[i] in d:\n",
    "            if j == 0:\n",
    "                df2 = df.loc[i:i]\n",
    "                j = 1\n",
    "            else:\n",
    "                df3 = df.loc[i:i]\n",
    "                frames = [df2,df3]\n",
    "                df2 = pd.concat(frames)\n",
    "    df2 = df2.reset_index()\n",
    "    \n",
    "    j = 0\n",
    "    for i in range (len(df2)):\n",
    "        if df2.NombreProveedor[i] in d:\n",
    "            if j == 0:\n",
    "                df1 = df2.loc[i:i]\n",
    "                j = 1\n",
    "            else:\n",
    "                df3 = df2.loc[i:i]\n",
    "                frames = [df1,df3]\n",
    "                df1 = pd.concat(frames)\n",
    "    df1 = df1.reset_index()                        \n",
    "    df1 = df1[['NombreOrganismo','NombreProveedor','Conteo Interacciones']]\n",
    "    \n",
    "    lista_tuplas_pesos = []\n",
    "    for i in df1.to_numpy():\n",
    "        lista_tuplas_pesos.append((i[0], i[1], i[2]))\n",
    "    lista_tuplas_pesos[:4]\n",
    "\n",
    "    G = nx.Graph()\n",
    "    G.add_nodes_from(df1['NombreProveedor'].unique(), bipartite=0)\n",
    "    G.add_nodes_from(df1['NombreOrganismo'].unique(),bipartite=1)\n",
    "    G.add_weighted_edges_from(lista_tuplas_pesos)\n",
    "    \n",
    "    plt.figure(figsize=(10, 6))\n",
    "    \n",
    "    pos = nx.spring_layout(G)\n",
    "    nx.draw_networkx_nodes(G, pos, d, node_size = 20, node_color=['red'], alpha=0.8)\n",
    "    nx.draw_networkx_edges(G, pos, alpha=0.8, width=0.25)\n",
    "\n",
    "    plt.show()\n",
    "            \n",
    "    return df1, G"
   ]
  },
  {
   "cell_type": "markdown",
   "id": "715f6b46",
   "metadata": {},
   "source": [
    "### Comunidad de estudio #1: Gobierno Regional de Atacama\n",
    "\n",
    "Para esta comunidad se realizaron dos análisis: el primero mediante la representación gráfica de la red bipartita y la tabla de enlaces ponderados, para poder definir si existe algún tipo de vinculación entre el organismo licitador y las empresas proveedoras. El segundo es el cálculo del coeficiente de Jaccard, para identificar la razón de coincidencias entre las licitaciones en las que participan los nodos de la comunidad."
   ]
  },
  {
   "cell_type": "code",
   "execution_count": null,
   "id": "ccf6daa3",
   "metadata": {
    "scrolled": true
   },
   "outputs": [],
   "source": [
    "dd0,Gd0 = comunidad(pivot, d[13])\n",
    "dd0.sort_values(by='Conteo Interacciones', ascending=False)"
   ]
  },
  {
   "cell_type": "markdown",
   "id": "ad0f62d3",
   "metadata": {},
   "source": [
    "Es posible apreciar que existe una llamativa distribución en las particiones dentro de esta comunidad, donde un total de 25 participaciones en licitaciones corresponden a solo 2 códigos con un total de 12 OC emitidas."
   ]
  },
  {
   "cell_type": "code",
   "execution_count": null,
   "id": "9e5f4806",
   "metadata": {},
   "outputs": [],
   "source": [
    "df0 = df[df['NombreOrganismo'] == 'GOBIERNO REGIONAL DE ATACAMA']\n",
    "df0 = df0[['Codigo','Tipo de Adquisicion','NombreOrganismo','NombreProveedor','MontoLineaAdjudica','Moneda de la Oferta']]\n",
    "df0"
   ]
  },
  {
   "cell_type": "code",
   "execution_count": null,
   "id": "9b4180f0",
   "metadata": {},
   "outputs": [],
   "source": [
    "df0[df0['Codigo']== 8748588]['MontoLineaAdjudica'].astype('int64', copy=False).sum()"
   ]
  },
  {
   "cell_type": "markdown",
   "id": "8ae35fc8",
   "metadata": {},
   "source": [
    "- Dentro de las 12 OC emitidas por el Gobierno Regional de Atacama, 11 son a \"GYP TECNOLOGIA\" con un valor total de $355.400, donde el proceso de licitación contó con solamente un oferente adicional.\n",
    "\n",
    "- Respecto a la OC restante , en su proceso de licitación sólo participaron 3 oferentes y el proveedor adjudicado fue \"Zerega y Cia.Ltda\" por un monto de $19.800.000."
   ]
  },
  {
   "cell_type": "code",
   "execution_count": null,
   "id": "ef8b9ca0",
   "metadata": {},
   "outputs": [],
   "source": [
    "codigos = jaccard_completo(dd0)\n",
    "codigos[codigos['CantidadCoincidencias']>0.9*codigos['CantidadCoincidencias'].max()]"
   ]
  },
  {
   "cell_type": "markdown",
   "id": "91bffaa7",
   "metadata": {},
   "source": [
    "- Este indicador permite identificar que en el caso de \"Aquapress Limitada\" y \"Zerega Y Cia. Ltda.\" dentro de los registros solo poseen una única participación en licitaciones y corresponde a la del Gobierno Regional de Atacama.\n",
    "\n",
    "\n",
    "- Si bien ambos procesos de adjudicación parecen llamativos, en el caso de la licitación 8682225 adjudicada a \"Zerega Y Cia. Ltda.\" es mucho más llamativo ya que por un lado la licitación posee muy pocos oferentes y 2 de ellos presentan solo una única participación lo cual podría ser indicio de colusión o de participantes que solo buscaban completar la terna para que la licitación no sea declarada desierta."
   ]
  },
  {
   "cell_type": "markdown",
   "id": "9f4d01e0",
   "metadata": {},
   "source": [
    "### Comunidad de estudio #2: Hospital Padre Alberto Hurtado"
   ]
  },
  {
   "cell_type": "code",
   "execution_count": null,
   "id": "3a66fe38",
   "metadata": {},
   "outputs": [],
   "source": [
    "dd1,Gd1 = comunidad(pivot, d[14])\n",
    "dd1.sort_values(by='Conteo Interacciones', ascending=False)"
   ]
  },
  {
   "cell_type": "code",
   "execution_count": null,
   "id": "7d7f4b2f",
   "metadata": {
    "scrolled": false
   },
   "outputs": [],
   "source": [
    "codigos1 = jaccard_completo(dd1)\n",
    "codigos1[codigos1['CantidadCoincidencias']>0.9*codigos1['CantidadCoincidencias'].max()]"
   ]
  },
  {
   "cell_type": "code",
   "execution_count": null,
   "id": "59f4b73b",
   "metadata": {},
   "outputs": [],
   "source": [
    "df1 = df[df['NombreOrganismo'] == 'HOSPITAL PADRE ALBERTO HURTADO'][df['Oferta seleccionada']=='Seleccionada']\n",
    "df1 = df1[['Codigo','Tipo de Adquisicion','NombreOrganismo','NombreProveedor','MontoLineaAdjudica','Moneda de la Oferta']]\n",
    "df1.head(5)"
   ]
  },
  {
   "cell_type": "code",
   "execution_count": null,
   "id": "fe6cc116",
   "metadata": {},
   "outputs": [],
   "source": [
    "len(df1)"
   ]
  },
  {
   "cell_type": "markdown",
   "id": "efad2b44",
   "metadata": {},
   "source": [
    "### Comunidad de estudio #3: Municipalidad Freirina, Municipalidad Hualaihue y SS Hospital Quirihue"
   ]
  },
  {
   "cell_type": "code",
   "execution_count": null,
   "id": "5391abd7",
   "metadata": {
    "scrolled": false
   },
   "outputs": [],
   "source": [
    "dd2,Gd2 = comunidad(pivot, d[4])\n",
    "dd2.sort_values(by='Conteo Interacciones', ascending=False)"
   ]
  },
  {
   "cell_type": "code",
   "execution_count": null,
   "id": "6f86f697",
   "metadata": {
    "scrolled": true
   },
   "outputs": [],
   "source": [
    "codigos2 = jaccard_completo(dd2)\n",
    "codigos2[codigos2['CantidadCoincidencias']>0.9*codigos2['CantidadCoincidencias'].max()]"
   ]
  },
  {
   "cell_type": "markdown",
   "id": "611dd8c2",
   "metadata": {},
   "source": [
    "- Esta comunidad tiene un aspecto sano, si bien la tabla anterior nos muestra que existen proveedores con un alto coeficiente de Jaccard, si se observa la cantidad de licitaciones asociadas a cada uno de estos 3 organimos es posible apreciar que la cantidad de licitaciones en que los proveedores \"BRAULIO RODRIGO\", \"María José\" o \"ALVEAL121\" coinciden son muy pocas en relacion al total de licitaciones.\n",
    "\n",
    "\n",
    "- En general, el hecho de que nodos correspondientes a Proveedores conecten nodos correspondientes a Organismos, proporciona un sintoma de sanidad en la comunidad a diferencia de lo ocurrido en el caso del Gobierno Regional de Atacama."
   ]
  },
  {
   "cell_type": "markdown",
   "id": "e9966f40",
   "metadata": {},
   "source": [
    "### Comunidad de estudio #4: Caso MOSIL LIMITADA"
   ]
  },
  {
   "cell_type": "code",
   "execution_count": null,
   "id": "823e93b2",
   "metadata": {},
   "outputs": [],
   "source": [
    "df101 = df[df['NombreProveedor'] == 'MOSIL LIMITADA'][df['Oferta seleccionada']=='Seleccionada']\n",
    "df101 = pd.pivot_table(df101, index=['NombreOrganismo','NombreProveedor'],values=['Oferta seleccionada'],aggfunc='count')\n",
    "df101 = df101.reset_index().sort_values(by='Oferta seleccionada', ascending=False)\n",
    "df101.rename(columns = {'Oferta seleccionada':'Conteo Seleccionados'}, inplace = True)\n",
    "df101.head(15)"
   ]
  },
  {
   "cell_type": "code",
   "execution_count": null,
   "id": "3efc8efa",
   "metadata": {},
   "outputs": [],
   "source": [
    "df102 = df[df['NombreOrganismo'] == 'I MUNICIPALIDAD DE LOTA']\n",
    "lota = []\n",
    "\n",
    "for i in df102['NombreProveedor'].unique():\n",
    "    lota.append(i)\n",
    "    \n",
    "lota.append('I MUNICIPALIDAD DE LOTA')"
   ]
  },
  {
   "cell_type": "code",
   "execution_count": null,
   "id": "0da65c21",
   "metadata": {},
   "outputs": [],
   "source": [
    "lota"
   ]
  },
  {
   "cell_type": "code",
   "execution_count": null,
   "id": "fe079015",
   "metadata": {},
   "outputs": [],
   "source": [
    "ddlota,G_lota = comunidad(pivot, lota)\n",
    "ddlota = ddlota.sort_values(by='Conteo Interacciones', ascending=False)"
   ]
  },
  {
   "cell_type": "code",
   "execution_count": null,
   "id": "dd1cd37e",
   "metadata": {},
   "outputs": [],
   "source": [
    "ddlota.reset_index().drop(columns='index')"
   ]
  },
  {
   "cell_type": "code",
   "execution_count": null,
   "id": "5e859c05",
   "metadata": {},
   "outputs": [],
   "source": [
    "dflota = df[df['NombreProveedor'] == 'MOSIL LIMITADA'][df['Oferta seleccionada']=='Seleccionada']\n",
    "dflota"
   ]
  },
  {
   "cell_type": "code",
   "execution_count": null,
   "id": "81830ef4",
   "metadata": {},
   "outputs": [],
   "source": [
    "ddlota_aux = ddlota.iloc[:10]\n",
    "ddlota_aux = ddlota_aux.reset_index().drop(columns='index')\n",
    "codigos123 = jaccard_completo(ddlota_aux)\n",
    "codigos123[codigos123['CantidadCoincidencias']>0.001*codigos123['CantidadCoincidencias'].max()]"
   ]
  },
  {
   "cell_type": "markdown",
   "id": "cb7b2b77",
   "metadata": {},
   "source": [
    "La empresa MOSIL LIMITADA no tiene un coeficiente de Jaccard alto, por lo que dentro de la Municipalidad de Lota está bien distribuida, sin embargo, es llamativo que la tasa de éxito en esta empresa sea tan alto."
   ]
  },
  {
   "cell_type": "markdown",
   "id": "087ce5d9",
   "metadata": {},
   "source": [
    "## Conclusiones, trabajos futuros y limitaciones"
   ]
  },
  {
   "cell_type": "markdown",
   "id": "438bf4fe",
   "metadata": {},
   "source": [
    "### Conclusiones\n",
    "\n",
    "- Las empresas farmaceuticas son el giro el cual concentra la mayor cantidad de licitaciones en el año 2020.\n",
    "\n",
    "\n",
    "- Se esperaba que hubieran mas instituciones de salud en los organismos que abrieron licitaciones, pero este top lo lideran instituciones de fuerzas armadas.\n",
    "\n",
    "\n",
    "- Se analizó la tasa de éxito de los proveedores, encontrando una distribución sospechosa entre el top 7 y que la empresa MOSIL es potencialmente fraudulenta.\n",
    "\n",
    "\n",
    "- Se construyó una red bipartita con 38.617 nodos y 205.391 enlaces.\n",
    "\n",
    "\n",
    "- Observando la distribución de grado, se ve que gran cantidad de nodos bajamente conectados y que para grados mayores la distribución de nodos disminuye exponencialmente.\n",
    "\n",
    "\n",
    "- El cálculo de comunidades mediante el algoritmo de Louvain es una excelente herramienta para detectar posibles casos de corrupción. Se estudiaron las comunidades más pequeñas encontrando anomalías importantes en cuanto a los criterios de selección de proveedores por parte los organismos.\n",
    "\n",
    "\n",
    "- El coeficiente de Jaccard es también un buen indicador el cual muestra cuantas veces coincidieron los mismos proveedores en las licitaciones. Si el coeficiente es bajo, significa que un proveedor está postulando de manera aislada a las licitaciones sin competir.\n",
    "\n",
    "\n",
    "- En el caso de estudio de Atacama, todos los participantes tienen un alto coef Jaccard entre sí. Los ganadores tienen un coef Jaccard bajo sugiriendo que estas empresas no competían.\n",
    "\n",
    "\n",
    "- En el caso de MOSIL LIMITADA, quien destaca por su gran cantidad de licitaciones aceptadas (comparables con empresas farmacéuticas de renombre) y una de las tasas de éxito postulación/aceptación mas altas de todos los proveedores, concentra en la Municipalidad de Lota 2.000 licitaciones aceptadas, siendo esto una anomalía importante comparándolo con el general del dataset. Al calcular su Coeficiente de Jaccard, el grupo se percató de que coincide en licitaciones con la empresa Salcobrand, siendo MOSIL una empresa de construcción.\n",
    "\n",
    "\n",
    "- La comunidad del Hospital Padre Hurtado era pequeña pero al analizarse no identificamos patrones de fraude.\n",
    "\n",
    "\n",
    "- Se concluye que el desafío fue correctamente superado al haber finalizado cada una de las etapas solicitadas con éxito.\n",
    "\n",
    "\n",
    "- Resulta muy positivo que la actividad final de esta asignatura contemple el desarrollo de un proyecto real, poniendo en práctica las herramientas adquiridas en esta esta asignatura y también en el magister.\n",
    "\n",
    "\n",
    "### Trabajos futuros\n",
    "\n",
    "- Existe una oportunidad al automatizar las tareas de análisis manual efectuadas durante este desafío.\n",
    "\n",
    "\n",
    "- Una actividad para profundizar esta investigación, sería repetir el análisis desarrollado tomando en cuenta las comunidades mas grandes y descomponiendolas en sub-comunidades mas pequeñas, para así poder ir identificando patrones de corrupción de manera cíclica.\n",
    "\n",
    "\n",
    "### Limitaciones\n",
    "\n",
    "- La capacidad computacional enletece los análisis y lo hace en algunos casos imposible debido a la gran cantidad de ram necesaria para procesar esta red\n",
    "\n",
    "\n",
    "- La cantidad de tiempo óptima para realziar un análisis realmente profundo de la base de datos es mayor a la que el grupo tuvo para finalizar el desafío.\n"
   ]
  },
  {
   "cell_type": "markdown",
   "id": "7714b4a9",
   "metadata": {},
   "source": [
    "### Bibliografía y Webgrafía"
   ]
  },
  {
   "cell_type": "markdown",
   "id": "34c626d9",
   "metadata": {},
   "source": [
    "- https://www.mercadopublico.cl/Home/Contenidos/QueEsLicitacion\n",
    "- https://www.cnmc.es/guias\n",
    "- https://www.ciperchile.cl/2015/08/11/el-fraude-que-oscurece-las-licitaciones-que-gano-lg-para-iluminar-seis-comunas-con-led/\n",
    "- https://www.elmostrador.cl/noticias/pais/2023/01/14/a-7-anos-del-milicogate-las-agencias-de-viajes-involucradas-se-adjudican-millonarias-licitaciones-con-el-estado/"
   ]
  }
 ],
 "metadata": {
  "kernelspec": {
   "display_name": "Python 3 (ipykernel)",
   "language": "python",
   "name": "python3"
  },
  "language_info": {
   "codemirror_mode": {
    "name": "ipython",
    "version": 3
   },
   "file_extension": ".py",
   "mimetype": "text/x-python",
   "name": "python",
   "nbconvert_exporter": "python",
   "pygments_lexer": "ipython3",
   "version": "3.9.13"
  },
  "vscode": {
   "interpreter": {
    "hash": "aee8b7b246df8f9039afb4144a1f6fd8d2ca17a180786b69acc140d282b71a49"
   }
  }
 },
 "nbformat": 4,
 "nbformat_minor": 5
}
