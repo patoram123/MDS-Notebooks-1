{
 "cells": [
  {
   "cell_type": "markdown",
   "metadata": {
    "id": "9J_ghSNft8rB"
   },
   "source": [
    "**Caso de Estudio**\n",
    "## Machine Learning Avanzado\n",
    "## Proyecto: Outbrain Click Prediction\n",
    "\n",
    "Integrantes: Carlos Bustamante, Nicolás Rivera, Pablo Elgueta y Patricio Ramirez.\n",
    "\n",
    "\n",
    "---\n",
    "\n"
   ]
  },
  {
   "cell_type": "markdown",
   "metadata": {
    "id": "0E2tWz2NwTbh"
   },
   "source": [
    "El caso seleccionado es un desafío de Kaggle del año 2017, donde se busca predecir el contenido que una persona cliquearía en distintas páginas web. El desafío [Outbrain Click Prediction](https://www.kaggle.com/competitions/outbrain-click-prediction/overview) sorteó USD$25.000 en premios para los tres mejores lugares y contó con una amplia participación durante el concurso.\n",
    "\n",
    "El dataset contine muestras de vistas y clicks de usuarios en Estados Unidos observados durante el 2016. Cada página web o aviso publicitario clickeado (display_id) contiene además información de sus características. También hay información de recomendaciones dadas a usuarios específicos en contextos específicos.\n",
    "\n",
    "Para su resolución se seguiran las siguientes etapas:\n",
    "\n",
    "*   Reconocimiento e importación de las librerías y módulos utilizados\n",
    "*   Procesamiento de datos\n",
    "*   Exploración descriptiva \n",
    "*   Aplicación de un modelo de factorización de matrices\n",
    "*   Aplicación de un modelo de factorización de máquinas\n",
    "*   Comparación, discusión y conclusiones\n",
    "\n",
    "---\n",
    "\n",
    "\n"
   ]
  },
  {
   "cell_type": "markdown",
   "metadata": {
    "id": "nnlmuDJC2Kae"
   },
   "source": [
    "# Importación de librerías:"
   ]
  },
  {
   "cell_type": "code",
   "execution_count": 1,
   "metadata": {
    "colab": {
     "base_uri": "https://localhost:8080/"
    },
    "id": "055OxKW_1Ycp",
    "outputId": "75b9958d-f9d1-4b1d-94fd-64b605580d7d"
   },
   "outputs": [],
   "source": [
    "from __future__ import print_function, division\n",
    "\n",
    "import numpy as np\n",
    "import pandas as pd\n",
    "import matplotlib.pyplot as plt\n",
    "import seaborn as sns\n",
    "import datetime as dt\n",
    "import os\n",
    "#import chardet\n",
    "from collections import Counter\n",
    "#from google.colab import drive\n",
    "#drive.mount(\"/content/drive\")\n",
    "#path = '/content/drive/My Drive/MG Data Science/MLA/Tarea 3/'\n",
    "\n",
    "### Ahora en Keras\n",
    "\n",
    "from builtins import range, input\n",
    "import numpy as np\n",
    "import pandas as pd\n",
    "import matplotlib.pyplot as plt\n",
    "from sklearn.utils import shuffle\n",
    "import tensorflow\n",
    "from tensorflow import keras\n",
    "from keras.models import Model\n",
    "from keras.layers import Input, Embedding, Dot, Add, Flatten\n",
    "from keras.regularizers import l2\n",
    "from tensorflow.keras.optimizers import Adam, SGD\n",
    "from sklearn.model_selection import train_test_split\n",
    "\n",
    "from collections import Counter"
   ]
  },
  {
   "cell_type": "markdown",
   "metadata": {
    "id": "A6IC-4xo2MJp"
   },
   "source": [
    "# Procesamiento de datos y exploración descriptiva:"
   ]
  },
  {
   "cell_type": "markdown",
   "metadata": {
    "id": "yPKJr_wHEi7P"
   },
   "source": [
    "**Resumen de los campos:**\n",
    "\n",
    "**display_id**: Identificación del contexto o situación en la que un usuario clickeó un aviso.\n",
    "\n",
    "**ad_id**: Identificación del aviso publicitario.\n",
    "\n",
    "**clicked**: Columna binaria que simboliza si el usiario clickeó o no.\n",
    "\n",
    "**document_id**: Identificación de una página web\n",
    "\n",
    "**category_id**: Identificación del tipo de contenido de un ad.\n",
    "\n",
    "**confidence_level**: Confianza que tiene la empresa proveedora entre una relación.\n",
    "\n",
    "**campaing_id**: Identificación de la campaña a la cual pertenece un ad.\n",
    "\n",
    "**advertiser_id**: Identificación de la empresa a la cual pertenece un ad.\n",
    "\n",
    "**uuid**: Identificación de un usuario.\n",
    "\n",
    "**timestamp**: Fecha de ejecución.\n",
    "\n",
    "**platform**: Si es un (1) desktop, (2) celular o (3) laptop.\n",
    "\n",
    "**geolocation**: País>Estado>DMA\n",
    "\n",
    "**topic_id**: Identificación del tópico del aviso.\n",
    "\n",
    "**traffic_source**: (1) interno, (2) búsqueda o (3) social.\n",
    "\n",
    "**entity_id**: Identificación de una persona, organización o lugar.\n",
    "\n",
    "**publisher_id**: Identificación del editorial.\n",
    "\n",
    "**publish_time**: Momento de una publicación.\n"
   ]
  },
  {
   "cell_type": "markdown",
   "metadata": {
    "id": "D2sBSgqlmVEq"
   },
   "source": [
    "###Train"
   ]
  },
  {
   "cell_type": "code",
   "execution_count": 2,
   "metadata": {
    "colab": {
     "base_uri": "https://localhost:8080/",
     "height": 424
    },
    "id": "DFkvl1E8mUeb",
    "outputId": "c57f11e0-b0f3-4232-c962-c50704879204"
   },
   "outputs": [
    {
     "data": {
      "text/html": [
       "<div>\n",
       "<style scoped>\n",
       "    .dataframe tbody tr th:only-of-type {\n",
       "        vertical-align: middle;\n",
       "    }\n",
       "\n",
       "    .dataframe tbody tr th {\n",
       "        vertical-align: top;\n",
       "    }\n",
       "\n",
       "    .dataframe thead th {\n",
       "        text-align: right;\n",
       "    }\n",
       "</style>\n",
       "<table border=\"1\" class=\"dataframe\">\n",
       "  <thead>\n",
       "    <tr style=\"text-align: right;\">\n",
       "      <th></th>\n",
       "      <th>display_id</th>\n",
       "      <th>ad_id</th>\n",
       "      <th>clicked</th>\n",
       "    </tr>\n",
       "  </thead>\n",
       "  <tbody>\n",
       "    <tr>\n",
       "      <th>0</th>\n",
       "      <td>1</td>\n",
       "      <td>42337</td>\n",
       "      <td>0</td>\n",
       "    </tr>\n",
       "    <tr>\n",
       "      <th>1</th>\n",
       "      <td>1</td>\n",
       "      <td>139684</td>\n",
       "      <td>0</td>\n",
       "    </tr>\n",
       "    <tr>\n",
       "      <th>2</th>\n",
       "      <td>1</td>\n",
       "      <td>144739</td>\n",
       "      <td>1</td>\n",
       "    </tr>\n",
       "    <tr>\n",
       "      <th>3</th>\n",
       "      <td>1</td>\n",
       "      <td>156824</td>\n",
       "      <td>0</td>\n",
       "    </tr>\n",
       "    <tr>\n",
       "      <th>4</th>\n",
       "      <td>1</td>\n",
       "      <td>279295</td>\n",
       "      <td>0</td>\n",
       "    </tr>\n",
       "    <tr>\n",
       "      <th>...</th>\n",
       "      <td>...</td>\n",
       "      <td>...</td>\n",
       "      <td>...</td>\n",
       "    </tr>\n",
       "    <tr>\n",
       "      <th>87141726</th>\n",
       "      <td>16874592</td>\n",
       "      <td>186600</td>\n",
       "      <td>0</td>\n",
       "    </tr>\n",
       "    <tr>\n",
       "      <th>87141727</th>\n",
       "      <td>16874593</td>\n",
       "      <td>151498</td>\n",
       "      <td>1</td>\n",
       "    </tr>\n",
       "    <tr>\n",
       "      <th>87141728</th>\n",
       "      <td>16874593</td>\n",
       "      <td>282350</td>\n",
       "      <td>0</td>\n",
       "    </tr>\n",
       "    <tr>\n",
       "      <th>87141729</th>\n",
       "      <td>16874593</td>\n",
       "      <td>521828</td>\n",
       "      <td>0</td>\n",
       "    </tr>\n",
       "    <tr>\n",
       "      <th>87141730</th>\n",
       "      <td>16874593</td>\n",
       "      <td>522693</td>\n",
       "      <td>0</td>\n",
       "    </tr>\n",
       "  </tbody>\n",
       "</table>\n",
       "<p>87141731 rows × 3 columns</p>\n",
       "</div>"
      ],
      "text/plain": [
       "          display_id   ad_id  clicked\n",
       "0                  1   42337        0\n",
       "1                  1  139684        0\n",
       "2                  1  144739        1\n",
       "3                  1  156824        0\n",
       "4                  1  279295        0\n",
       "...              ...     ...      ...\n",
       "87141726    16874592  186600        0\n",
       "87141727    16874593  151498        1\n",
       "87141728    16874593  282350        0\n",
       "87141729    16874593  521828        0\n",
       "87141730    16874593  522693        0\n",
       "\n",
       "[87141731 rows x 3 columns]"
      ]
     },
     "execution_count": 2,
     "metadata": {},
     "output_type": "execute_result"
    }
   ],
   "source": [
    "df_clicks_train = pd.read_csv('Tarea3/clicks_train.csv')\n",
    "df_clicks_train"
   ]
  },
  {
   "cell_type": "markdown",
   "metadata": {
    "id": "Q1d2YDZ0BoLj"
   },
   "source": [
    "## Test"
   ]
  },
  {
   "cell_type": "code",
   "execution_count": 3,
   "metadata": {
    "colab": {
     "base_uri": "https://localhost:8080/",
     "height": 424
    },
    "id": "MgUoKgL8BY5u",
    "outputId": "96347a9b-47d2-45c3-b98e-710ee1dfbb5d"
   },
   "outputs": [
    {
     "data": {
      "text/html": [
       "<div>\n",
       "<style scoped>\n",
       "    .dataframe tbody tr th:only-of-type {\n",
       "        vertical-align: middle;\n",
       "    }\n",
       "\n",
       "    .dataframe tbody tr th {\n",
       "        vertical-align: top;\n",
       "    }\n",
       "\n",
       "    .dataframe thead th {\n",
       "        text-align: right;\n",
       "    }\n",
       "</style>\n",
       "<table border=\"1\" class=\"dataframe\">\n",
       "  <thead>\n",
       "    <tr style=\"text-align: right;\">\n",
       "      <th></th>\n",
       "      <th>display_id</th>\n",
       "      <th>ad_id</th>\n",
       "    </tr>\n",
       "  </thead>\n",
       "  <tbody>\n",
       "    <tr>\n",
       "      <th>0</th>\n",
       "      <td>16874594</td>\n",
       "      <td>66758</td>\n",
       "    </tr>\n",
       "    <tr>\n",
       "      <th>1</th>\n",
       "      <td>16874594</td>\n",
       "      <td>150083</td>\n",
       "    </tr>\n",
       "    <tr>\n",
       "      <th>2</th>\n",
       "      <td>16874594</td>\n",
       "      <td>162754</td>\n",
       "    </tr>\n",
       "    <tr>\n",
       "      <th>3</th>\n",
       "      <td>16874594</td>\n",
       "      <td>170392</td>\n",
       "    </tr>\n",
       "    <tr>\n",
       "      <th>4</th>\n",
       "      <td>16874594</td>\n",
       "      <td>172888</td>\n",
       "    </tr>\n",
       "    <tr>\n",
       "      <th>...</th>\n",
       "      <td>...</td>\n",
       "      <td>...</td>\n",
       "    </tr>\n",
       "    <tr>\n",
       "      <th>32225157</th>\n",
       "      <td>23120125</td>\n",
       "      <td>254698</td>\n",
       "    </tr>\n",
       "    <tr>\n",
       "      <th>32225158</th>\n",
       "      <td>23120126</td>\n",
       "      <td>57097</td>\n",
       "    </tr>\n",
       "    <tr>\n",
       "      <th>32225159</th>\n",
       "      <td>23120126</td>\n",
       "      <td>145293</td>\n",
       "    </tr>\n",
       "    <tr>\n",
       "      <th>32225160</th>\n",
       "      <td>23120126</td>\n",
       "      <td>201649</td>\n",
       "    </tr>\n",
       "    <tr>\n",
       "      <th>32225161</th>\n",
       "      <td>23120126</td>\n",
       "      <td>292363</td>\n",
       "    </tr>\n",
       "  </tbody>\n",
       "</table>\n",
       "<p>32225162 rows × 2 columns</p>\n",
       "</div>"
      ],
      "text/plain": [
       "          display_id   ad_id\n",
       "0           16874594   66758\n",
       "1           16874594  150083\n",
       "2           16874594  162754\n",
       "3           16874594  170392\n",
       "4           16874594  172888\n",
       "...              ...     ...\n",
       "32225157    23120125  254698\n",
       "32225158    23120126   57097\n",
       "32225159    23120126  145293\n",
       "32225160    23120126  201649\n",
       "32225161    23120126  292363\n",
       "\n",
       "[32225162 rows x 2 columns]"
      ]
     },
     "execution_count": 3,
     "metadata": {},
     "output_type": "execute_result"
    }
   ],
   "source": [
    "df_clicks_test = pd.read_csv('Tarea3/clicks_test.csv')\n",
    "df_clicks_test"
   ]
  },
  {
   "cell_type": "markdown",
   "metadata": {
    "id": "WczaeuHlnMXr"
   },
   "source": [
    "## Documents Categories"
   ]
  },
  {
   "cell_type": "code",
   "execution_count": 4,
   "metadata": {
    "colab": {
     "base_uri": "https://localhost:8080/",
     "height": 424
    },
    "id": "8OoqIvk8A8Uw",
    "outputId": "1d396568-b2f3-4fd2-d5f3-51cc8a7ba582"
   },
   "outputs": [
    {
     "data": {
      "text/html": [
       "<div>\n",
       "<style scoped>\n",
       "    .dataframe tbody tr th:only-of-type {\n",
       "        vertical-align: middle;\n",
       "    }\n",
       "\n",
       "    .dataframe tbody tr th {\n",
       "        vertical-align: top;\n",
       "    }\n",
       "\n",
       "    .dataframe thead th {\n",
       "        text-align: right;\n",
       "    }\n",
       "</style>\n",
       "<table border=\"1\" class=\"dataframe\">\n",
       "  <thead>\n",
       "    <tr style=\"text-align: right;\">\n",
       "      <th></th>\n",
       "      <th>document_id</th>\n",
       "      <th>category_id</th>\n",
       "      <th>confidence_level</th>\n",
       "    </tr>\n",
       "  </thead>\n",
       "  <tbody>\n",
       "    <tr>\n",
       "      <th>0</th>\n",
       "      <td>1595802</td>\n",
       "      <td>1611</td>\n",
       "      <td>0.920000</td>\n",
       "    </tr>\n",
       "    <tr>\n",
       "      <th>1</th>\n",
       "      <td>1595802</td>\n",
       "      <td>1610</td>\n",
       "      <td>0.070000</td>\n",
       "    </tr>\n",
       "    <tr>\n",
       "      <th>2</th>\n",
       "      <td>1524246</td>\n",
       "      <td>1807</td>\n",
       "      <td>0.920000</td>\n",
       "    </tr>\n",
       "    <tr>\n",
       "      <th>3</th>\n",
       "      <td>1524246</td>\n",
       "      <td>1608</td>\n",
       "      <td>0.070000</td>\n",
       "    </tr>\n",
       "    <tr>\n",
       "      <th>4</th>\n",
       "      <td>1617787</td>\n",
       "      <td>1807</td>\n",
       "      <td>0.920000</td>\n",
       "    </tr>\n",
       "    <tr>\n",
       "      <th>...</th>\n",
       "      <td>...</td>\n",
       "      <td>...</td>\n",
       "      <td>...</td>\n",
       "    </tr>\n",
       "    <tr>\n",
       "      <th>5481470</th>\n",
       "      <td>777861</td>\n",
       "      <td>1902</td>\n",
       "      <td>0.118806</td>\n",
       "    </tr>\n",
       "    <tr>\n",
       "      <th>5481471</th>\n",
       "      <td>599468</td>\n",
       "      <td>1902</td>\n",
       "      <td>0.257000</td>\n",
       "    </tr>\n",
       "    <tr>\n",
       "      <th>5481472</th>\n",
       "      <td>599468</td>\n",
       "      <td>1914</td>\n",
       "      <td>0.002000</td>\n",
       "    </tr>\n",
       "    <tr>\n",
       "      <th>5481473</th>\n",
       "      <td>774527</td>\n",
       "      <td>1914</td>\n",
       "      <td>0.117633</td>\n",
       "    </tr>\n",
       "    <tr>\n",
       "      <th>5481474</th>\n",
       "      <td>774527</td>\n",
       "      <td>2006</td>\n",
       "      <td>0.117633</td>\n",
       "    </tr>\n",
       "  </tbody>\n",
       "</table>\n",
       "<p>5481475 rows × 3 columns</p>\n",
       "</div>"
      ],
      "text/plain": [
       "         document_id  category_id  confidence_level\n",
       "0            1595802         1611          0.920000\n",
       "1            1595802         1610          0.070000\n",
       "2            1524246         1807          0.920000\n",
       "3            1524246         1608          0.070000\n",
       "4            1617787         1807          0.920000\n",
       "...              ...          ...               ...\n",
       "5481470       777861         1902          0.118806\n",
       "5481471       599468         1902          0.257000\n",
       "5481472       599468         1914          0.002000\n",
       "5481473       774527         1914          0.117633\n",
       "5481474       774527         2006          0.117633\n",
       "\n",
       "[5481475 rows x 3 columns]"
      ]
     },
     "execution_count": 4,
     "metadata": {},
     "output_type": "execute_result"
    }
   ],
   "source": [
    "df_documents_categories = pd.read_csv('Tarea3/documents_categories.csv')\n",
    "df_documents_categories"
   ]
  },
  {
   "cell_type": "markdown",
   "metadata": {
    "id": "fAJcdfxJ2V-D"
   },
   "source": [
    "## Sample Submission"
   ]
  },
  {
   "cell_type": "code",
   "execution_count": 5,
   "metadata": {
    "colab": {
     "base_uri": "https://localhost:8080/",
     "height": 424
    },
    "id": "4pCasMo21qnE",
    "outputId": "5ec2aa92-837e-4951-8eb8-894c1098e240"
   },
   "outputs": [
    {
     "data": {
      "text/html": [
       "<div>\n",
       "<style scoped>\n",
       "    .dataframe tbody tr th:only-of-type {\n",
       "        vertical-align: middle;\n",
       "    }\n",
       "\n",
       "    .dataframe tbody tr th {\n",
       "        vertical-align: top;\n",
       "    }\n",
       "\n",
       "    .dataframe thead th {\n",
       "        text-align: right;\n",
       "    }\n",
       "</style>\n",
       "<table border=\"1\" class=\"dataframe\">\n",
       "  <thead>\n",
       "    <tr style=\"text-align: right;\">\n",
       "      <th></th>\n",
       "      <th>display_id</th>\n",
       "      <th>ad_id</th>\n",
       "    </tr>\n",
       "  </thead>\n",
       "  <tbody>\n",
       "    <tr>\n",
       "      <th>0</th>\n",
       "      <td>16874594</td>\n",
       "      <td>66758 150083 162754 170392 172888 180797</td>\n",
       "    </tr>\n",
       "    <tr>\n",
       "      <th>1</th>\n",
       "      <td>16874595</td>\n",
       "      <td>8846 30609 143982</td>\n",
       "    </tr>\n",
       "    <tr>\n",
       "      <th>2</th>\n",
       "      <td>16874596</td>\n",
       "      <td>11430 57197 132820 153260 173005 288385 289122...</td>\n",
       "    </tr>\n",
       "    <tr>\n",
       "      <th>3</th>\n",
       "      <td>16874597</td>\n",
       "      <td>137858 143981 155945 180965 182039 285834 3057...</td>\n",
       "    </tr>\n",
       "    <tr>\n",
       "      <th>4</th>\n",
       "      <td>16874598</td>\n",
       "      <td>67292 145937 250082 335632</td>\n",
       "    </tr>\n",
       "    <tr>\n",
       "      <th>...</th>\n",
       "      <td>...</td>\n",
       "      <td>...</td>\n",
       "    </tr>\n",
       "    <tr>\n",
       "      <th>6245528</th>\n",
       "      <td>23120122</td>\n",
       "      <td>5579 54979 95103 148268 166840 281183 386922 5...</td>\n",
       "    </tr>\n",
       "    <tr>\n",
       "      <th>6245529</th>\n",
       "      <td>23120123</td>\n",
       "      <td>174045 208244 471443 516264</td>\n",
       "    </tr>\n",
       "    <tr>\n",
       "      <th>6245530</th>\n",
       "      <td>23120124</td>\n",
       "      <td>83252 162994 173403 489589</td>\n",
       "    </tr>\n",
       "    <tr>\n",
       "      <th>6245531</th>\n",
       "      <td>23120125</td>\n",
       "      <td>86281 89725 187797 254698</td>\n",
       "    </tr>\n",
       "    <tr>\n",
       "      <th>6245532</th>\n",
       "      <td>23120126</td>\n",
       "      <td>57097 145293 201649 292363</td>\n",
       "    </tr>\n",
       "  </tbody>\n",
       "</table>\n",
       "<p>6245533 rows × 2 columns</p>\n",
       "</div>"
      ],
      "text/plain": [
       "         display_id                                              ad_id\n",
       "0          16874594           66758 150083 162754 170392 172888 180797\n",
       "1          16874595                                  8846 30609 143982\n",
       "2          16874596  11430 57197 132820 153260 173005 288385 289122...\n",
       "3          16874597  137858 143981 155945 180965 182039 285834 3057...\n",
       "4          16874598                         67292 145937 250082 335632\n",
       "...             ...                                                ...\n",
       "6245528    23120122  5579 54979 95103 148268 166840 281183 386922 5...\n",
       "6245529    23120123                        174045 208244 471443 516264\n",
       "6245530    23120124                         83252 162994 173403 489589\n",
       "6245531    23120125                          86281 89725 187797 254698\n",
       "6245532    23120126                         57097 145293 201649 292363\n",
       "\n",
       "[6245533 rows x 2 columns]"
      ]
     },
     "execution_count": 5,
     "metadata": {},
     "output_type": "execute_result"
    }
   ],
   "source": [
    "df_sample_sub = pd.read_csv('Tarea3/sample_submission.csv')\n",
    "df_sample_sub"
   ]
  },
  {
   "cell_type": "markdown",
   "metadata": {
    "id": "xQph7fDS2fvp"
   },
   "source": [
    "## Promoted Content"
   ]
  },
  {
   "cell_type": "code",
   "execution_count": 6,
   "metadata": {
    "colab": {
     "base_uri": "https://localhost:8080/",
     "height": 424
    },
    "id": "tSSGLveP2juX",
    "outputId": "57f6050f-086c-465f-f576-800701affdce"
   },
   "outputs": [
    {
     "data": {
      "text/html": [
       "<div>\n",
       "<style scoped>\n",
       "    .dataframe tbody tr th:only-of-type {\n",
       "        vertical-align: middle;\n",
       "    }\n",
       "\n",
       "    .dataframe tbody tr th {\n",
       "        vertical-align: top;\n",
       "    }\n",
       "\n",
       "    .dataframe thead th {\n",
       "        text-align: right;\n",
       "    }\n",
       "</style>\n",
       "<table border=\"1\" class=\"dataframe\">\n",
       "  <thead>\n",
       "    <tr style=\"text-align: right;\">\n",
       "      <th></th>\n",
       "      <th>ad_id</th>\n",
       "      <th>document_id</th>\n",
       "      <th>campaign_id</th>\n",
       "      <th>advertiser_id</th>\n",
       "    </tr>\n",
       "  </thead>\n",
       "  <tbody>\n",
       "    <tr>\n",
       "      <th>0</th>\n",
       "      <td>1</td>\n",
       "      <td>6614</td>\n",
       "      <td>1</td>\n",
       "      <td>7</td>\n",
       "    </tr>\n",
       "    <tr>\n",
       "      <th>1</th>\n",
       "      <td>2</td>\n",
       "      <td>471467</td>\n",
       "      <td>2</td>\n",
       "      <td>7</td>\n",
       "    </tr>\n",
       "    <tr>\n",
       "      <th>2</th>\n",
       "      <td>3</td>\n",
       "      <td>7692</td>\n",
       "      <td>3</td>\n",
       "      <td>7</td>\n",
       "    </tr>\n",
       "    <tr>\n",
       "      <th>3</th>\n",
       "      <td>4</td>\n",
       "      <td>471471</td>\n",
       "      <td>2</td>\n",
       "      <td>7</td>\n",
       "    </tr>\n",
       "    <tr>\n",
       "      <th>4</th>\n",
       "      <td>5</td>\n",
       "      <td>471472</td>\n",
       "      <td>2</td>\n",
       "      <td>7</td>\n",
       "    </tr>\n",
       "    <tr>\n",
       "      <th>...</th>\n",
       "      <td>...</td>\n",
       "      <td>...</td>\n",
       "      <td>...</td>\n",
       "      <td>...</td>\n",
       "    </tr>\n",
       "    <tr>\n",
       "      <th>559578</th>\n",
       "      <td>572968</td>\n",
       "      <td>1375496</td>\n",
       "      <td>18617</td>\n",
       "      <td>3223</td>\n",
       "    </tr>\n",
       "    <tr>\n",
       "      <th>559579</th>\n",
       "      <td>573016</td>\n",
       "      <td>1051466</td>\n",
       "      <td>18617</td>\n",
       "      <td>3223</td>\n",
       "    </tr>\n",
       "    <tr>\n",
       "      <th>559580</th>\n",
       "      <td>573081</td>\n",
       "      <td>497486</td>\n",
       "      <td>18617</td>\n",
       "      <td>3223</td>\n",
       "    </tr>\n",
       "    <tr>\n",
       "      <th>559581</th>\n",
       "      <td>573094</td>\n",
       "      <td>2868067</td>\n",
       "      <td>18906</td>\n",
       "      <td>283</td>\n",
       "    </tr>\n",
       "    <tr>\n",
       "      <th>559582</th>\n",
       "      <td>573098</td>\n",
       "      <td>2790678</td>\n",
       "      <td>13933</td>\n",
       "      <td>16</td>\n",
       "    </tr>\n",
       "  </tbody>\n",
       "</table>\n",
       "<p>559583 rows × 4 columns</p>\n",
       "</div>"
      ],
      "text/plain": [
       "         ad_id  document_id  campaign_id  advertiser_id\n",
       "0            1         6614            1              7\n",
       "1            2       471467            2              7\n",
       "2            3         7692            3              7\n",
       "3            4       471471            2              7\n",
       "4            5       471472            2              7\n",
       "...        ...          ...          ...            ...\n",
       "559578  572968      1375496        18617           3223\n",
       "559579  573016      1051466        18617           3223\n",
       "559580  573081       497486        18617           3223\n",
       "559581  573094      2868067        18906            283\n",
       "559582  573098      2790678        13933             16\n",
       "\n",
       "[559583 rows x 4 columns]"
      ]
     },
     "execution_count": 6,
     "metadata": {},
     "output_type": "execute_result"
    }
   ],
   "source": [
    "df_promoted_cont = pd.read_csv('Tarea3/promoted_content.csv')\n",
    "df_promoted_cont"
   ]
  },
  {
   "cell_type": "markdown",
   "metadata": {
    "id": "3qroLGTN20So"
   },
   "source": [
    "## Events"
   ]
  },
  {
   "cell_type": "code",
   "execution_count": 7,
   "metadata": {
    "colab": {
     "base_uri": "https://localhost:8080/",
     "height": 479
    },
    "id": "EeOfnqPi23Wx",
    "outputId": "b4262361-a32c-4663-819d-7ae589d7ca2f"
   },
   "outputs": [
    {
     "name": "stderr",
     "output_type": "stream",
     "text": [
      "C:\\Users\\patri\\anaconda3\\envs\\python\\lib\\site-packages\\IPython\\core\\interactiveshell.py:3072: DtypeWarning: Columns (4) have mixed types.Specify dtype option on import or set low_memory=False.\n",
      "  interactivity=interactivity, compiler=compiler, result=result)\n"
     ]
    },
    {
     "data": {
      "text/html": [
       "<div>\n",
       "<style scoped>\n",
       "    .dataframe tbody tr th:only-of-type {\n",
       "        vertical-align: middle;\n",
       "    }\n",
       "\n",
       "    .dataframe tbody tr th {\n",
       "        vertical-align: top;\n",
       "    }\n",
       "\n",
       "    .dataframe thead th {\n",
       "        text-align: right;\n",
       "    }\n",
       "</style>\n",
       "<table border=\"1\" class=\"dataframe\">\n",
       "  <thead>\n",
       "    <tr style=\"text-align: right;\">\n",
       "      <th></th>\n",
       "      <th>uuid</th>\n",
       "      <th>display_id</th>\n",
       "      <th>document_id</th>\n",
       "      <th>timestamp</th>\n",
       "      <th>platform</th>\n",
       "      <th>geo_location</th>\n",
       "    </tr>\n",
       "  </thead>\n",
       "  <tbody>\n",
       "    <tr>\n",
       "      <th>0</th>\n",
       "      <td>cb8c55702adb93</td>\n",
       "      <td>1</td>\n",
       "      <td>379743</td>\n",
       "      <td>61</td>\n",
       "      <td>3</td>\n",
       "      <td>US&gt;SC&gt;519</td>\n",
       "    </tr>\n",
       "    <tr>\n",
       "      <th>1</th>\n",
       "      <td>79a85fa78311b9</td>\n",
       "      <td>2</td>\n",
       "      <td>1794259</td>\n",
       "      <td>81</td>\n",
       "      <td>2</td>\n",
       "      <td>US&gt;CA&gt;807</td>\n",
       "    </tr>\n",
       "    <tr>\n",
       "      <th>2</th>\n",
       "      <td>822932ce3d8757</td>\n",
       "      <td>3</td>\n",
       "      <td>1179111</td>\n",
       "      <td>182</td>\n",
       "      <td>2</td>\n",
       "      <td>US&gt;MI&gt;505</td>\n",
       "    </tr>\n",
       "    <tr>\n",
       "      <th>3</th>\n",
       "      <td>85281d0a49f7ac</td>\n",
       "      <td>4</td>\n",
       "      <td>1777797</td>\n",
       "      <td>234</td>\n",
       "      <td>2</td>\n",
       "      <td>US&gt;WV&gt;564</td>\n",
       "    </tr>\n",
       "    <tr>\n",
       "      <th>4</th>\n",
       "      <td>8d0daef4bf5b56</td>\n",
       "      <td>5</td>\n",
       "      <td>252458</td>\n",
       "      <td>338</td>\n",
       "      <td>2</td>\n",
       "      <td>SG&gt;00</td>\n",
       "    </tr>\n",
       "    <tr>\n",
       "      <th>...</th>\n",
       "      <td>...</td>\n",
       "      <td>...</td>\n",
       "      <td>...</td>\n",
       "      <td>...</td>\n",
       "      <td>...</td>\n",
       "      <td>...</td>\n",
       "    </tr>\n",
       "    <tr>\n",
       "      <th>23120121</th>\n",
       "      <td>3b42aaa4aa8993</td>\n",
       "      <td>23120122</td>\n",
       "      <td>1827718</td>\n",
       "      <td>1295999574</td>\n",
       "      <td>1</td>\n",
       "      <td>US&gt;FL&gt;571</td>\n",
       "    </tr>\n",
       "    <tr>\n",
       "      <th>23120122</th>\n",
       "      <td>7efccdc2d58fd1</td>\n",
       "      <td>23120123</td>\n",
       "      <td>2984543</td>\n",
       "      <td>1295999591</td>\n",
       "      <td>2</td>\n",
       "      <td>US&gt;TX&gt;623</td>\n",
       "    </tr>\n",
       "    <tr>\n",
       "      <th>23120123</th>\n",
       "      <td>11f9ac8cee26f2</td>\n",
       "      <td>23120124</td>\n",
       "      <td>751048</td>\n",
       "      <td>1295999657</td>\n",
       "      <td>2</td>\n",
       "      <td>US&gt;GA&gt;524</td>\n",
       "    </tr>\n",
       "    <tr>\n",
       "      <th>23120124</th>\n",
       "      <td>6bbdc5756789cc</td>\n",
       "      <td>23120125</td>\n",
       "      <td>744496</td>\n",
       "      <td>1295999771</td>\n",
       "      <td>2</td>\n",
       "      <td>US&gt;MI&gt;505</td>\n",
       "    </tr>\n",
       "    <tr>\n",
       "      <th>23120125</th>\n",
       "      <td>b545c100626cba</td>\n",
       "      <td>23120126</td>\n",
       "      <td>2357447</td>\n",
       "      <td>1295999805</td>\n",
       "      <td>2</td>\n",
       "      <td>US&gt;SD&gt;764</td>\n",
       "    </tr>\n",
       "  </tbody>\n",
       "</table>\n",
       "<p>23120126 rows × 6 columns</p>\n",
       "</div>"
      ],
      "text/plain": [
       "                    uuid  display_id  document_id   timestamp platform  \\\n",
       "0         cb8c55702adb93           1       379743          61        3   \n",
       "1         79a85fa78311b9           2      1794259          81        2   \n",
       "2         822932ce3d8757           3      1179111         182        2   \n",
       "3         85281d0a49f7ac           4      1777797         234        2   \n",
       "4         8d0daef4bf5b56           5       252458         338        2   \n",
       "...                  ...         ...          ...         ...      ...   \n",
       "23120121  3b42aaa4aa8993    23120122      1827718  1295999574        1   \n",
       "23120122  7efccdc2d58fd1    23120123      2984543  1295999591        2   \n",
       "23120123  11f9ac8cee26f2    23120124       751048  1295999657        2   \n",
       "23120124  6bbdc5756789cc    23120125       744496  1295999771        2   \n",
       "23120125  b545c100626cba    23120126      2357447  1295999805        2   \n",
       "\n",
       "         geo_location  \n",
       "0           US>SC>519  \n",
       "1           US>CA>807  \n",
       "2           US>MI>505  \n",
       "3           US>WV>564  \n",
       "4               SG>00  \n",
       "...               ...  \n",
       "23120121    US>FL>571  \n",
       "23120122    US>TX>623  \n",
       "23120123    US>GA>524  \n",
       "23120124    US>MI>505  \n",
       "23120125    US>SD>764  \n",
       "\n",
       "[23120126 rows x 6 columns]"
      ]
     },
     "execution_count": 7,
     "metadata": {},
     "output_type": "execute_result"
    }
   ],
   "source": [
    "df_events = pd.read_csv('Tarea3/events.csv')\n",
    "df_events = df_events[['uuid','display_id','document_id','timestamp','platform','geo_location']]\n",
    "df_events"
   ]
  },
  {
   "cell_type": "markdown",
   "metadata": {
    "id": "9N3H-reaReLO"
   },
   "source": [
    "Hay usuarios que tienen más de un display."
   ]
  },
  {
   "cell_type": "code",
   "execution_count": 8,
   "metadata": {
    "colab": {
     "base_uri": "https://localhost:8080/",
     "height": 424
    },
    "id": "XVp4EVYK-snB",
    "outputId": "6287acfd-5c3d-401f-e08e-385070df60c2"
   },
   "outputs": [
    {
     "data": {
      "text/html": [
       "<div>\n",
       "<style scoped>\n",
       "    .dataframe tbody tr th:only-of-type {\n",
       "        vertical-align: middle;\n",
       "    }\n",
       "\n",
       "    .dataframe tbody tr th {\n",
       "        vertical-align: top;\n",
       "    }\n",
       "\n",
       "    .dataframe thead th {\n",
       "        text-align: right;\n",
       "    }\n",
       "</style>\n",
       "<table border=\"1\" class=\"dataframe\">\n",
       "  <thead>\n",
       "    <tr style=\"text-align: right;\">\n",
       "      <th></th>\n",
       "      <th>document_id</th>\n",
       "      <th>topic_id</th>\n",
       "      <th>confidence_level</th>\n",
       "    </tr>\n",
       "  </thead>\n",
       "  <tbody>\n",
       "    <tr>\n",
       "      <th>0</th>\n",
       "      <td>1595802</td>\n",
       "      <td>140</td>\n",
       "      <td>0.073113</td>\n",
       "    </tr>\n",
       "    <tr>\n",
       "      <th>1</th>\n",
       "      <td>1595802</td>\n",
       "      <td>16</td>\n",
       "      <td>0.059416</td>\n",
       "    </tr>\n",
       "    <tr>\n",
       "      <th>2</th>\n",
       "      <td>1595802</td>\n",
       "      <td>143</td>\n",
       "      <td>0.045421</td>\n",
       "    </tr>\n",
       "    <tr>\n",
       "      <th>3</th>\n",
       "      <td>1595802</td>\n",
       "      <td>170</td>\n",
       "      <td>0.038867</td>\n",
       "    </tr>\n",
       "    <tr>\n",
       "      <th>4</th>\n",
       "      <td>1524246</td>\n",
       "      <td>113</td>\n",
       "      <td>0.196450</td>\n",
       "    </tr>\n",
       "    <tr>\n",
       "      <th>...</th>\n",
       "      <td>...</td>\n",
       "      <td>...</td>\n",
       "      <td>...</td>\n",
       "    </tr>\n",
       "    <tr>\n",
       "      <th>11325955</th>\n",
       "      <td>1080024</td>\n",
       "      <td>221</td>\n",
       "      <td>0.010094</td>\n",
       "    </tr>\n",
       "    <tr>\n",
       "      <th>11325956</th>\n",
       "      <td>1125054</td>\n",
       "      <td>29</td>\n",
       "      <td>0.040381</td>\n",
       "    </tr>\n",
       "    <tr>\n",
       "      <th>11325957</th>\n",
       "      <td>1080122</td>\n",
       "      <td>29</td>\n",
       "      <td>0.038200</td>\n",
       "    </tr>\n",
       "    <tr>\n",
       "      <th>11325958</th>\n",
       "      <td>1291726</td>\n",
       "      <td>68</td>\n",
       "      <td>0.069515</td>\n",
       "    </tr>\n",
       "    <tr>\n",
       "      <th>11325959</th>\n",
       "      <td>1855422</td>\n",
       "      <td>99</td>\n",
       "      <td>0.076847</td>\n",
       "    </tr>\n",
       "  </tbody>\n",
       "</table>\n",
       "<p>11325960 rows × 3 columns</p>\n",
       "</div>"
      ],
      "text/plain": [
       "          document_id  topic_id  confidence_level\n",
       "0             1595802       140          0.073113\n",
       "1             1595802        16          0.059416\n",
       "2             1595802       143          0.045421\n",
       "3             1595802       170          0.038867\n",
       "4             1524246       113          0.196450\n",
       "...               ...       ...               ...\n",
       "11325955      1080024       221          0.010094\n",
       "11325956      1125054        29          0.040381\n",
       "11325957      1080122        29          0.038200\n",
       "11325958      1291726        68          0.069515\n",
       "11325959      1855422        99          0.076847\n",
       "\n",
       "[11325960 rows x 3 columns]"
      ]
     },
     "execution_count": 8,
     "metadata": {},
     "output_type": "execute_result"
    }
   ],
   "source": [
    "df_documents_topics = pd.read_csv('Tarea3/documents_topics.csv')\n",
    "df_documents_topics"
   ]
  },
  {
   "cell_type": "markdown",
   "metadata": {
    "id": "Ek3YX9i--7ga"
   },
   "source": [
    "## Page Views Sample"
   ]
  },
  {
   "cell_type": "markdown",
   "metadata": {
    "id": "7Eu5QztW3AVH"
   },
   "source": [
    "## Document Topics"
   ]
  },
  {
   "cell_type": "code",
   "execution_count": 9,
   "metadata": {
    "id": "5zKbSPSN-sjp"
   },
   "outputs": [
    {
     "data": {
      "text/html": [
       "<div>\n",
       "<style scoped>\n",
       "    .dataframe tbody tr th:only-of-type {\n",
       "        vertical-align: middle;\n",
       "    }\n",
       "\n",
       "    .dataframe tbody tr th {\n",
       "        vertical-align: top;\n",
       "    }\n",
       "\n",
       "    .dataframe thead th {\n",
       "        text-align: right;\n",
       "    }\n",
       "</style>\n",
       "<table border=\"1\" class=\"dataframe\">\n",
       "  <thead>\n",
       "    <tr style=\"text-align: right;\">\n",
       "      <th></th>\n",
       "      <th>uuid</th>\n",
       "      <th>document_id</th>\n",
       "      <th>timestamp</th>\n",
       "      <th>platform</th>\n",
       "      <th>geo_location</th>\n",
       "      <th>traffic_source</th>\n",
       "    </tr>\n",
       "  </thead>\n",
       "  <tbody>\n",
       "    <tr>\n",
       "      <th>0</th>\n",
       "      <td>1fd5f051fba643</td>\n",
       "      <td>120</td>\n",
       "      <td>31905835</td>\n",
       "      <td>1</td>\n",
       "      <td>RS</td>\n",
       "      <td>2</td>\n",
       "    </tr>\n",
       "    <tr>\n",
       "      <th>1</th>\n",
       "      <td>8557aa9004be3b</td>\n",
       "      <td>120</td>\n",
       "      <td>32053104</td>\n",
       "      <td>1</td>\n",
       "      <td>VN&gt;44</td>\n",
       "      <td>2</td>\n",
       "    </tr>\n",
       "    <tr>\n",
       "      <th>2</th>\n",
       "      <td>c351b277a358f0</td>\n",
       "      <td>120</td>\n",
       "      <td>54013023</td>\n",
       "      <td>1</td>\n",
       "      <td>KR&gt;12</td>\n",
       "      <td>1</td>\n",
       "    </tr>\n",
       "    <tr>\n",
       "      <th>3</th>\n",
       "      <td>8205775c5387f9</td>\n",
       "      <td>120</td>\n",
       "      <td>44196592</td>\n",
       "      <td>1</td>\n",
       "      <td>IN&gt;16</td>\n",
       "      <td>2</td>\n",
       "    </tr>\n",
       "    <tr>\n",
       "      <th>4</th>\n",
       "      <td>9cb0ccd8458371</td>\n",
       "      <td>120</td>\n",
       "      <td>65817371</td>\n",
       "      <td>1</td>\n",
       "      <td>US&gt;CA&gt;807</td>\n",
       "      <td>2</td>\n",
       "    </tr>\n",
       "    <tr>\n",
       "      <th>...</th>\n",
       "      <td>...</td>\n",
       "      <td>...</td>\n",
       "      <td>...</td>\n",
       "      <td>...</td>\n",
       "      <td>...</td>\n",
       "      <td>...</td>\n",
       "    </tr>\n",
       "    <tr>\n",
       "      <th>9999994</th>\n",
       "      <td>6d030f7faed197</td>\n",
       "      <td>1074029</td>\n",
       "      <td>18385176</td>\n",
       "      <td>1</td>\n",
       "      <td>US&gt;AE</td>\n",
       "      <td>1</td>\n",
       "    </tr>\n",
       "    <tr>\n",
       "      <th>9999995</th>\n",
       "      <td>1f1455bd16472a</td>\n",
       "      <td>1074029</td>\n",
       "      <td>6769506</td>\n",
       "      <td>1</td>\n",
       "      <td>US&gt;CA&gt;803</td>\n",
       "      <td>1</td>\n",
       "    </tr>\n",
       "    <tr>\n",
       "      <th>9999996</th>\n",
       "      <td>3e0807264aac07</td>\n",
       "      <td>1074029</td>\n",
       "      <td>31216814</td>\n",
       "      <td>1</td>\n",
       "      <td>ZA&gt;11</td>\n",
       "      <td>1</td>\n",
       "    </tr>\n",
       "    <tr>\n",
       "      <th>9999997</th>\n",
       "      <td>eaca8029ad3bdd</td>\n",
       "      <td>1074029</td>\n",
       "      <td>26427117</td>\n",
       "      <td>1</td>\n",
       "      <td>US&gt;NY&gt;502</td>\n",
       "      <td>1</td>\n",
       "    </tr>\n",
       "    <tr>\n",
       "      <th>9999998</th>\n",
       "      <td>66ae6786cc70a6</td>\n",
       "      <td>1074029</td>\n",
       "      <td>18387544</td>\n",
       "      <td>1</td>\n",
       "      <td>AU&gt;02</td>\n",
       "      <td>1</td>\n",
       "    </tr>\n",
       "  </tbody>\n",
       "</table>\n",
       "<p>9999999 rows × 6 columns</p>\n",
       "</div>"
      ],
      "text/plain": [
       "                   uuid  document_id  timestamp  platform geo_location  \\\n",
       "0        1fd5f051fba643          120   31905835         1           RS   \n",
       "1        8557aa9004be3b          120   32053104         1        VN>44   \n",
       "2        c351b277a358f0          120   54013023         1        KR>12   \n",
       "3        8205775c5387f9          120   44196592         1        IN>16   \n",
       "4        9cb0ccd8458371          120   65817371         1    US>CA>807   \n",
       "...                 ...          ...        ...       ...          ...   \n",
       "9999994  6d030f7faed197      1074029   18385176         1        US>AE   \n",
       "9999995  1f1455bd16472a      1074029    6769506         1    US>CA>803   \n",
       "9999996  3e0807264aac07      1074029   31216814         1        ZA>11   \n",
       "9999997  eaca8029ad3bdd      1074029   26427117         1    US>NY>502   \n",
       "9999998  66ae6786cc70a6      1074029   18387544         1        AU>02   \n",
       "\n",
       "         traffic_source  \n",
       "0                     2  \n",
       "1                     2  \n",
       "2                     1  \n",
       "3                     2  \n",
       "4                     2  \n",
       "...                 ...  \n",
       "9999994               1  \n",
       "9999995               1  \n",
       "9999996               1  \n",
       "9999997               1  \n",
       "9999998               1  \n",
       "\n",
       "[9999999 rows x 6 columns]"
      ]
     },
     "execution_count": 9,
     "metadata": {},
     "output_type": "execute_result"
    }
   ],
   "source": [
    "df_page_view_sample = pd.read_csv('Tarea3/page_views_sample.csv')\n",
    "df_page_view_sample"
   ]
  },
  {
   "cell_type": "markdown",
   "metadata": {
    "id": "QkbrFEVaAwhm"
   },
   "source": [
    "## Document Entities"
   ]
  },
  {
   "cell_type": "code",
   "execution_count": 10,
   "metadata": {
    "colab": {
     "base_uri": "https://localhost:8080/",
     "height": 424
    },
    "id": "tI4qWNsSARpB",
    "outputId": "dd96bfd8-0282-412b-ea84-9b0c8bb7838f"
   },
   "outputs": [
    {
     "data": {
      "text/html": [
       "<div>\n",
       "<style scoped>\n",
       "    .dataframe tbody tr th:only-of-type {\n",
       "        vertical-align: middle;\n",
       "    }\n",
       "\n",
       "    .dataframe tbody tr th {\n",
       "        vertical-align: top;\n",
       "    }\n",
       "\n",
       "    .dataframe thead th {\n",
       "        text-align: right;\n",
       "    }\n",
       "</style>\n",
       "<table border=\"1\" class=\"dataframe\">\n",
       "  <thead>\n",
       "    <tr style=\"text-align: right;\">\n",
       "      <th></th>\n",
       "      <th>document_id</th>\n",
       "      <th>entity_id</th>\n",
       "      <th>confidence_level</th>\n",
       "    </tr>\n",
       "  </thead>\n",
       "  <tbody>\n",
       "    <tr>\n",
       "      <th>0</th>\n",
       "      <td>1524246</td>\n",
       "      <td>f9eec25663db4cd83183f5c805186f16</td>\n",
       "      <td>0.672865</td>\n",
       "    </tr>\n",
       "    <tr>\n",
       "      <th>1</th>\n",
       "      <td>1524246</td>\n",
       "      <td>55ebcfbdaff1d6f60b3907151f38527a</td>\n",
       "      <td>0.399114</td>\n",
       "    </tr>\n",
       "    <tr>\n",
       "      <th>2</th>\n",
       "      <td>1524246</td>\n",
       "      <td>839907a972930b17b125eb0247898412</td>\n",
       "      <td>0.392096</td>\n",
       "    </tr>\n",
       "    <tr>\n",
       "      <th>3</th>\n",
       "      <td>1524246</td>\n",
       "      <td>04d8f9a1ad48f126d5806a9236872604</td>\n",
       "      <td>0.213996</td>\n",
       "    </tr>\n",
       "    <tr>\n",
       "      <th>4</th>\n",
       "      <td>1617787</td>\n",
       "      <td>612a1d17685a498aff4f036c1ee02c16</td>\n",
       "      <td>0.386193</td>\n",
       "    </tr>\n",
       "    <tr>\n",
       "      <th>...</th>\n",
       "      <td>...</td>\n",
       "      <td>...</td>\n",
       "      <td>...</td>\n",
       "    </tr>\n",
       "    <tr>\n",
       "      <th>5537547</th>\n",
       "      <td>1291726</td>\n",
       "      <td>346d9349f96af98c8a5092b0f6d6d952</td>\n",
       "      <td>0.297644</td>\n",
       "    </tr>\n",
       "    <tr>\n",
       "      <th>5537548</th>\n",
       "      <td>1291726</td>\n",
       "      <td>ea1da4c578e07a535e410a30eb1cc44a</td>\n",
       "      <td>0.295476</td>\n",
       "    </tr>\n",
       "    <tr>\n",
       "      <th>5537549</th>\n",
       "      <td>1855422</td>\n",
       "      <td>896ebce354e38fd15e1097336c97e030</td>\n",
       "      <td>0.882060</td>\n",
       "    </tr>\n",
       "    <tr>\n",
       "      <th>5537550</th>\n",
       "      <td>1855422</td>\n",
       "      <td>d6cd68db952c22040956f7590da13933</td>\n",
       "      <td>0.679703</td>\n",
       "    </tr>\n",
       "    <tr>\n",
       "      <th>5537551</th>\n",
       "      <td>1855422</td>\n",
       "      <td>8532f8f7668cc8db3621a305dba9e921</td>\n",
       "      <td>0.546878</td>\n",
       "    </tr>\n",
       "  </tbody>\n",
       "</table>\n",
       "<p>5537552 rows × 3 columns</p>\n",
       "</div>"
      ],
      "text/plain": [
       "         document_id                         entity_id  confidence_level\n",
       "0            1524246  f9eec25663db4cd83183f5c805186f16          0.672865\n",
       "1            1524246  55ebcfbdaff1d6f60b3907151f38527a          0.399114\n",
       "2            1524246  839907a972930b17b125eb0247898412          0.392096\n",
       "3            1524246  04d8f9a1ad48f126d5806a9236872604          0.213996\n",
       "4            1617787  612a1d17685a498aff4f036c1ee02c16          0.386193\n",
       "...              ...                               ...               ...\n",
       "5537547      1291726  346d9349f96af98c8a5092b0f6d6d952          0.297644\n",
       "5537548      1291726  ea1da4c578e07a535e410a30eb1cc44a          0.295476\n",
       "5537549      1855422  896ebce354e38fd15e1097336c97e030          0.882060\n",
       "5537550      1855422  d6cd68db952c22040956f7590da13933          0.679703\n",
       "5537551      1855422  8532f8f7668cc8db3621a305dba9e921          0.546878\n",
       "\n",
       "[5537552 rows x 3 columns]"
      ]
     },
     "execution_count": 10,
     "metadata": {},
     "output_type": "execute_result"
    }
   ],
   "source": [
    "df_documents_entities = pd.read_csv('Tarea3/documents_entities.csv')\n",
    "df_documents_entities"
   ]
  },
  {
   "cell_type": "markdown",
   "metadata": {
    "id": "y5m-OTJlAzBX"
   },
   "source": [
    "## Documents Meta"
   ]
  },
  {
   "cell_type": "code",
   "execution_count": 11,
   "metadata": {
    "colab": {
     "base_uri": "https://localhost:8080/",
     "height": 424
    },
    "id": "8DhqSLtsA17s",
    "outputId": "749c08a9-5e92-45f9-8068-33c7db4865e9"
   },
   "outputs": [
    {
     "data": {
      "text/html": [
       "<div>\n",
       "<style scoped>\n",
       "    .dataframe tbody tr th:only-of-type {\n",
       "        vertical-align: middle;\n",
       "    }\n",
       "\n",
       "    .dataframe tbody tr th {\n",
       "        vertical-align: top;\n",
       "    }\n",
       "\n",
       "    .dataframe thead th {\n",
       "        text-align: right;\n",
       "    }\n",
       "</style>\n",
       "<table border=\"1\" class=\"dataframe\">\n",
       "  <thead>\n",
       "    <tr style=\"text-align: right;\">\n",
       "      <th></th>\n",
       "      <th>document_id</th>\n",
       "      <th>source_id</th>\n",
       "      <th>publisher_id</th>\n",
       "      <th>publish_time</th>\n",
       "    </tr>\n",
       "  </thead>\n",
       "  <tbody>\n",
       "    <tr>\n",
       "      <th>0</th>\n",
       "      <td>1595802</td>\n",
       "      <td>1.0</td>\n",
       "      <td>603.0</td>\n",
       "      <td>2016-06-05 00:00:00</td>\n",
       "    </tr>\n",
       "    <tr>\n",
       "      <th>1</th>\n",
       "      <td>1524246</td>\n",
       "      <td>1.0</td>\n",
       "      <td>603.0</td>\n",
       "      <td>2016-05-26 11:00:00</td>\n",
       "    </tr>\n",
       "    <tr>\n",
       "      <th>2</th>\n",
       "      <td>1617787</td>\n",
       "      <td>1.0</td>\n",
       "      <td>603.0</td>\n",
       "      <td>2016-05-27 00:00:00</td>\n",
       "    </tr>\n",
       "    <tr>\n",
       "      <th>3</th>\n",
       "      <td>1615583</td>\n",
       "      <td>1.0</td>\n",
       "      <td>603.0</td>\n",
       "      <td>2016-06-07 00:00:00</td>\n",
       "    </tr>\n",
       "    <tr>\n",
       "      <th>4</th>\n",
       "      <td>1615460</td>\n",
       "      <td>1.0</td>\n",
       "      <td>603.0</td>\n",
       "      <td>2016-06-20 00:00:00</td>\n",
       "    </tr>\n",
       "    <tr>\n",
       "      <th>...</th>\n",
       "      <td>...</td>\n",
       "      <td>...</td>\n",
       "      <td>...</td>\n",
       "      <td>...</td>\n",
       "    </tr>\n",
       "    <tr>\n",
       "      <th>2999329</th>\n",
       "      <td>1112778</td>\n",
       "      <td>NaN</td>\n",
       "      <td>NaN</td>\n",
       "      <td>NaN</td>\n",
       "    </tr>\n",
       "    <tr>\n",
       "      <th>2999330</th>\n",
       "      <td>1108348</td>\n",
       "      <td>NaN</td>\n",
       "      <td>NaN</td>\n",
       "      <td>NaN</td>\n",
       "    </tr>\n",
       "    <tr>\n",
       "      <th>2999331</th>\n",
       "      <td>1121434</td>\n",
       "      <td>NaN</td>\n",
       "      <td>NaN</td>\n",
       "      <td>NaN</td>\n",
       "    </tr>\n",
       "    <tr>\n",
       "      <th>2999332</th>\n",
       "      <td>1092197</td>\n",
       "      <td>NaN</td>\n",
       "      <td>NaN</td>\n",
       "      <td>NaN</td>\n",
       "    </tr>\n",
       "    <tr>\n",
       "      <th>2999333</th>\n",
       "      <td>1107648</td>\n",
       "      <td>NaN</td>\n",
       "      <td>NaN</td>\n",
       "      <td>NaN</td>\n",
       "    </tr>\n",
       "  </tbody>\n",
       "</table>\n",
       "<p>2999334 rows × 4 columns</p>\n",
       "</div>"
      ],
      "text/plain": [
       "         document_id  source_id  publisher_id         publish_time\n",
       "0            1595802        1.0         603.0  2016-06-05 00:00:00\n",
       "1            1524246        1.0         603.0  2016-05-26 11:00:00\n",
       "2            1617787        1.0         603.0  2016-05-27 00:00:00\n",
       "3            1615583        1.0         603.0  2016-06-07 00:00:00\n",
       "4            1615460        1.0         603.0  2016-06-20 00:00:00\n",
       "...              ...        ...           ...                  ...\n",
       "2999329      1112778        NaN           NaN                  NaN\n",
       "2999330      1108348        NaN           NaN                  NaN\n",
       "2999331      1121434        NaN           NaN                  NaN\n",
       "2999332      1092197        NaN           NaN                  NaN\n",
       "2999333      1107648        NaN           NaN                  NaN\n",
       "\n",
       "[2999334 rows x 4 columns]"
      ]
     },
     "execution_count": 11,
     "metadata": {},
     "output_type": "execute_result"
    }
   ],
   "source": [
    "df_documents_meta = pd.read_csv('Tarea3/documents_meta.csv')\n",
    "df_documents_meta"
   ]
  },
  {
   "cell_type": "markdown",
   "metadata": {
    "id": "rUg4T_LscccN"
   },
   "source": [
    "merge"
   ]
  },
  {
   "cell_type": "code",
   "execution_count": null,
   "metadata": {
    "id": "VO-JDTRncbeB"
   },
   "outputs": [],
   "source": []
  },
  {
   "cell_type": "markdown",
   "metadata": {
    "id": "qF6URG6NItXP"
   },
   "source": [
    "# Exploración descriptiva:"
   ]
  },
  {
   "cell_type": "markdown",
   "metadata": {
    "id": "yC5QudJP-_86"
   },
   "source": [
    "Dentro del dataset, la base que se utilizó para creación del modelo predictivo con factorización de matrices es \"click_train.csv\". Esta data cuenta con 87.141.731 filas y 3 columnas.\n",
    "\n",
    "La cantidad de ads máxima que un usuario clickeó dentro de la base es 12, mientras que el mínimo es 2, siendo 4 el número más común de ads clickeados, seguido de 6."
   ]
  },
  {
   "cell_type": "code",
   "execution_count": 12,
   "metadata": {
    "colab": {
     "base_uri": "https://localhost:8080/",
     "height": 350
    },
    "id": "VCEjCWjEIwrj",
    "outputId": "e31d80d5-732c-4522-9f7f-d16aed3f2dfa"
   },
   "outputs": [
    {
     "name": "stderr",
     "output_type": "stream",
     "text": [
      "C:\\Users\\patri\\anaconda3\\envs\\python\\lib\\site-packages\\seaborn\\_decorators.py:43: FutureWarning: Pass the following variables as keyword args: x, y. From version 0.12, the only valid positional argument will be `data`, and passing other arguments without an explicit keyword will result in an error or misinterpretation.\n",
      "  FutureWarning\n"
     ]
    },
    {
     "data": {
      "text/plain": [
       "<AxesSubplot:>"
      ]
     },
     "execution_count": 12,
     "metadata": {},
     "output_type": "execute_result"
    },
    {
     "data": {
      "image/png": "[encoded data removed]",
      "text/plain": [
       "<Figure size 432x288 with 1 Axes>"
      ]
     },
     "metadata": {
      "needs_background": "light"
     },
     "output_type": "display_data"
    }
   ],
   "source": [
    "ad_in_display = df_clicks_train.groupby('display_id')['ad_id'].count().value_counts()\n",
    "sns.barplot(ad_in_display.index, ad_in_display.values)"
   ]
  },
  {
   "cell_type": "markdown",
   "metadata": {
    "id": "vdVLQ7oUGync"
   },
   "source": [
    "También es posible extraer información valiosa de otras bases de datos contenidas en este desafío, por ejemplo, es posible graficar la cantidad de veces que aparecen publicados los ads en las distintas plataformas. Un 61,7% de los ads aparece hasta 10 veces."
   ]
  },
  {
   "cell_type": "code",
   "execution_count": 13,
   "metadata": {
    "colab": {
     "base_uri": "https://localhost:8080/",
     "height": 480
    },
    "id": "6brULpUJUtAn",
    "outputId": "2055252e-719c-4851-98d7-f7ce36a796d3"
   },
   "outputs": [
    {
     "name": "stdout",
     "output_type": "stream",
     "text": [
      "Ads that appear less than 2 times: 22.69%\n",
      "Ads that appear less than 10 times: 61.74%\n",
      "Ads that appear less than 50 times: 86.93%\n",
      "Ads that appear less than 100 times: 91.04%\n",
      "Ads that appear less than 1000 times: 97.45%\n"
     ]
    },
    {
     "data": {
      "image/png": "[encoded data removed]",
      "text/plain": [
       "<Figure size 864x432 with 1 Axes>"
      ]
     },
     "metadata": {
      "needs_background": "light"
     },
     "output_type": "display_data"
    }
   ],
   "source": [
    "ad_usage_train = df_clicks_train.groupby('ad_id')['ad_id'].count()\n",
    "\n",
    "for i in [2, 10, 50, 100, 1000]:\n",
    "    print('Ads that appear less than {} times: {}%'.format(i, round((ad_usage_train < i).mean() * 100, 2)))\n",
    "\n",
    "plt.figure(figsize=(12, 6))\n",
    "plt.hist(ad_usage_train.values, bins=50, log=True)\n",
    "plt.xlabel('Number of times ad appeared', fontsize=12)\n",
    "plt.ylabel('log(Count of displays with ad)', fontsize=12)\n",
    "plt.show()"
   ]
  },
  {
   "cell_type": "markdown",
   "metadata": {
    "id": "uoax7MeIR10M"
   },
   "source": [
    "# Modelo de Factorización de Matrices"
   ]
  },
  {
   "cell_type": "markdown",
   "metadata": {},
   "source": [
    "Primero, queremos dejar como valores categoricos a las dos columnas las cuales vamos a utilizar para el entrenamiento, que en este caso son las de display_id y ad_id."
   ]
  },
  {
   "cell_type": "code",
   "execution_count": 14,
   "metadata": {
    "id": "2brqCQ-7Ud0f"
   },
   "outputs": [],
   "source": [
    "df_clicks_train.display_id = df_clicks_train.display_id.astype('category').cat.codes.values\n",
    "df_clicks_train.ad_id = df_clicks_train.ad_id.astype('category').cat.codes.values"
   ]
  },
  {
   "cell_type": "markdown",
   "metadata": {},
   "source": [
    "Despues, ya que esta dataframe contiene muchisimos datos (no tenemos la capacidad computacional para poder procesar tantos datos) necesitamos hacerle una reduccion, y para hacer esto ocupamos la libreria Counter para buscar los usuarios y anuncios que mas se repiten en la data. Al hacer esto, podemos reducir los datos sin perder tanta precision ya que estamos utilizando los datos mas comunes."
   ]
  },
  {
   "cell_type": "code",
   "execution_count": 15,
   "metadata": {},
   "outputs": [],
   "source": [
    "n = 10000\n",
    "m = 8000\n",
    "\n",
    "from collections import Counter"
   ]
  },
  {
   "cell_type": "code",
   "execution_count": 16,
   "metadata": {},
   "outputs": [],
   "source": [
    "ucount = Counter(df_clicks_train['display_id'])\n",
    "mcount = Counter(df_clicks_train['ad_id'])\n",
    "\n",
    "uid = [u for u, c in ucount.most_common(n)]\n",
    "mid = [u for u, c in mcount.most_common(m)]"
   ]
  },
  {
   "cell_type": "code",
   "execution_count": 17,
   "metadata": {},
   "outputs": [
    {
     "data": {
      "text/html": [
       "<div>\n",
       "<style scoped>\n",
       "    .dataframe tbody tr th:only-of-type {\n",
       "        vertical-align: middle;\n",
       "    }\n",
       "\n",
       "    .dataframe tbody tr th {\n",
       "        vertical-align: top;\n",
       "    }\n",
       "\n",
       "    .dataframe thead th {\n",
       "        text-align: right;\n",
       "    }\n",
       "</style>\n",
       "<table border=\"1\" class=\"dataframe\">\n",
       "  <thead>\n",
       "    <tr style=\"text-align: right;\">\n",
       "      <th></th>\n",
       "      <th>display_id</th>\n",
       "      <th>ad_id</th>\n",
       "      <th>clicked</th>\n",
       "    </tr>\n",
       "  </thead>\n",
       "  <tbody>\n",
       "    <tr>\n",
       "      <th>2730</th>\n",
       "      <td>543</td>\n",
       "      <td>10102</td>\n",
       "      <td>0</td>\n",
       "    </tr>\n",
       "    <tr>\n",
       "      <th>2733</th>\n",
       "      <td>543</td>\n",
       "      <td>22534</td>\n",
       "      <td>1</td>\n",
       "    </tr>\n",
       "    <tr>\n",
       "      <th>2734</th>\n",
       "      <td>543</td>\n",
       "      <td>25983</td>\n",
       "      <td>0</td>\n",
       "    </tr>\n",
       "    <tr>\n",
       "      <th>2736</th>\n",
       "      <td>543</td>\n",
       "      <td>53744</td>\n",
       "      <td>0</td>\n",
       "    </tr>\n",
       "    <tr>\n",
       "      <th>2737</th>\n",
       "      <td>543</td>\n",
       "      <td>56959</td>\n",
       "      <td>0</td>\n",
       "    </tr>\n",
       "  </tbody>\n",
       "</table>\n",
       "</div>"
      ],
      "text/plain": [
       "      display_id  ad_id  clicked\n",
       "2730         543  10102        0\n",
       "2733         543  22534        1\n",
       "2734         543  25983        0\n",
       "2736         543  53744        0\n",
       "2737         543  56959        0"
      ]
     },
     "execution_count": 17,
     "metadata": {},
     "output_type": "execute_result"
    }
   ],
   "source": [
    "newdf = df_clicks_train[df_clicks_train['display_id'].isin(uid) & df_clicks_train['ad_id'].isin(mid)]\n",
    "newdf.head()"
   ]
  },
  {
   "cell_type": "markdown",
   "metadata": {},
   "source": [
    "Hacemos la misma transformacion de datos para la nueva dataframe"
   ]
  },
  {
   "cell_type": "code",
   "execution_count": 18,
   "metadata": {},
   "outputs": [
    {
     "name": "stderr",
     "output_type": "stream",
     "text": [
      "C:\\Users\\patri\\anaconda3\\envs\\python\\lib\\site-packages\\pandas\\core\\generic.py:5170: SettingWithCopyWarning: \n",
      "A value is trying to be set on a copy of a slice from a DataFrame.\n",
      "Try using .loc[row_indexer,col_indexer] = value instead\n",
      "\n",
      "See the caveats in the documentation: https://pandas.pydata.org/pandas-docs/stable/user_guide/indexing.html#returning-a-view-versus-a-copy\n",
      "  self[name] = value\n"
     ]
    }
   ],
   "source": [
    "newdf.display_id = newdf.display_id.astype('category').cat.codes.values\n",
    "newdf.ad_id = newdf.ad_id.astype('category').cat.codes.values"
   ]
  },
  {
   "cell_type": "code",
   "execution_count": 19,
   "metadata": {},
   "outputs": [],
   "source": [
    "train, test = train_test_split(newdf, test_size=0.2)"
   ]
  },
  {
   "cell_type": "code",
   "execution_count": 20,
   "metadata": {},
   "outputs": [],
   "source": [
    "#%tensorflow_version 2.x\n",
    "import tensorflow as tf\n",
    "from tensorflow import keras\n",
    "from tensorflow.keras.optimizers import Adam"
   ]
  },
  {
   "cell_type": "code",
   "execution_count": 21,
   "metadata": {},
   "outputs": [],
   "source": [
    "n_users, n_ads = 10000 , 8000\n",
    "n_latent_factors = 20"
   ]
  },
  {
   "cell_type": "markdown",
   "metadata": {},
   "source": [
    "En la fase de entrenamiento, al estar tratando con una factorizacion de matrices, debemos utilizar el producto punto entre las matrices de anuncios y personas, por lo que para eso hacemos un embedding y despues un flatten. Al final, podemos hacerle el producto punto a las matrices flatten de usuarios y anuncios"
   ]
  },
  {
   "cell_type": "code",
   "execution_count": 22,
   "metadata": {},
   "outputs": [
    {
     "name": "stdout",
     "output_type": "stream",
     "text": [
      "KerasTensor(type_spec=TensorSpec(shape=(None, 1), dtype=tf.float32, name=None), name='DotProduct/Squeeze:0', description=\"created by layer 'DotProduct'\")\n"
     ]
    }
   ],
   "source": [
    "ad_input = keras.layers.Input(shape=[1],name='Item')\n",
    "ad_embedding = keras.layers.Embedding(n_ads + 1, n_latent_factors, name='Ad-Embedding')(ad_input)\n",
    "ad_vec = keras.layers.Flatten(name='FlattenAds')(ad_embedding)\n",
    "user_input = keras.layers.Input(shape=[1],name='User')\n",
    "user_vec = keras.layers.Flatten(name='FlattenUsers')(keras.layers.Embedding(n_users + 1, n_latent_factors,name='User-Embedding')(user_input))\n",
    "prod = keras.layers.dot([ad_vec, user_vec], axes=1,name='DotProduct')\n",
    "print(prod)\n",
    "model = keras.Model([user_input, ad_input], prod)"
   ]
  },
  {
   "cell_type": "code",
   "execution_count": 23,
   "metadata": {},
   "outputs": [],
   "source": [
    "model.compile(optimizer='adam', loss='mean_squared_error', metrics=['mae', 'mse'])"
   ]
  },
  {
   "cell_type": "code",
   "execution_count": 24,
   "metadata": {},
   "outputs": [
    {
     "name": "stdout",
     "output_type": "stream",
     "text": [
      "Model: \"model\"\n",
      "__________________________________________________________________________________________________\n",
      "Layer (type)                    Output Shape         Param #     Connected to                     \n",
      "==================================================================================================\n",
      "Item (InputLayer)               [(None, 1)]          0                                            \n",
      "__________________________________________________________________________________________________\n",
      "User (InputLayer)               [(None, 1)]          0                                            \n",
      "__________________________________________________________________________________________________\n",
      "Ad-Embedding (Embedding)        (None, 1, 20)        160020      Item[0][0]                       \n",
      "__________________________________________________________________________________________________\n",
      "User-Embedding (Embedding)      (None, 1, 20)        200020      User[0][0]                       \n",
      "__________________________________________________________________________________________________\n",
      "FlattenAds (Flatten)            (None, 20)           0           Ad-Embedding[0][0]               \n",
      "__________________________________________________________________________________________________\n",
      "FlattenUsers (Flatten)          (None, 20)           0           User-Embedding[0][0]             \n",
      "__________________________________________________________________________________________________\n",
      "DotProduct (Dot)                (None, 1)            0           FlattenAds[0][0]                 \n",
      "                                                                 FlattenUsers[0][0]               \n",
      "==================================================================================================\n",
      "Total params: 360,040\n",
      "Trainable params: 360,040\n",
      "Non-trainable params: 0\n",
      "__________________________________________________________________________________________________\n"
     ]
    }
   ],
   "source": [
    "model.summary()"
   ]
  },
  {
   "cell_type": "code",
   "execution_count": 25,
   "metadata": {},
   "outputs": [],
   "source": [
    "history = model.fit([train.display_id, train.ad_id], train.clicked, epochs=25, verbose=0, \n",
    "                    validation_data = ([test.display_id, test.ad_id], test.clicked))"
   ]
  },
  {
   "cell_type": "markdown",
   "metadata": {},
   "source": [
    "Aqui podemos observar el tema de overfitting que existe dentro de los modelos de factorizacion de matrices y sus derivados. Dado que estos modelos no son generalizables, estos se ajustan mucho a los valores actuales y lo que tiende a pasar es que para los datos de entrenamiento existe perdida pero cuando entramos a ver los datos de validacion estos tienden a subir, o a bajar y subir. En este caso, los datos de validacion suben mientras que los de entrenamiento bajan, y despues ambos bajan con la misma pendiente."
   ]
  },
  {
   "cell_type": "code",
   "execution_count": 26,
   "metadata": {},
   "outputs": [
    {
     "data": {
      "text/plain": [
       "Text(0, 0.5, 'Training Error')"
      ]
     },
     "execution_count": 26,
     "metadata": {},
     "output_type": "execute_result"
    },
    {
     "data": {
      "image/png": "[encoded data removed]",
      "text/plain": [
       "<Figure size 432x288 with 1 Axes>"
      ]
     },
     "metadata": {
      "needs_background": "light"
     },
     "output_type": "display_data"
    }
   ],
   "source": [
    "pd.Series(history.history['loss']).plot(logy=True, color='b')\n",
    "plt.xlabel(\"Epoch\")\n",
    "plt.ylabel(\"Training Error\")"
   ]
  },
  {
   "cell_type": "code",
   "execution_count": 27,
   "metadata": {},
   "outputs": [
    {
     "data": {
      "text/plain": [
       "Text(0, 0.5, 'Validation Error')"
      ]
     },
     "execution_count": 27,
     "metadata": {},
     "output_type": "execute_result"
    },
    {
     "data": {
      "image/png": "[encoded data removed]",
      "text/plain": [
       "<Figure size 432x288 with 1 Axes>"
      ]
     },
     "metadata": {
      "needs_background": "light"
     },
     "output_type": "display_data"
    }
   ],
   "source": [
    "pd.Series(history.history['val_loss']).plot(logy=True, color='orange')\n",
    "plt.xlabel(\"Epoch\")\n",
    "plt.ylabel(\"Validation Error\")"
   ]
  },
  {
   "cell_type": "code",
   "execution_count": 28,
   "metadata": {},
   "outputs": [
    {
     "name": "stdout",
     "output_type": "stream",
     "text": [
      "13810/13810 [==============================] - 8s 611us/step - loss: 0.1091 - mae: 0.1716 - mse: 0.1091\n"
     ]
    }
   ],
   "source": [
    "results = model.evaluate((test.display_id, test.ad_id), test.clicked, batch_size=1)"
   ]
  },
  {
   "cell_type": "markdown",
   "metadata": {},
   "source": [
    "# Predicciones Factorizacion de Matrices"
   ]
  },
  {
   "cell_type": "markdown",
   "metadata": {},
   "source": [
    "**Finalmente, como queremos hacer predicciones, vamos a predecir los primeros cinco anuncios que se le podrian dar a una persona dado que ha visto anuncios anteriormente.** "
   ]
  },
  {
   "cell_type": "code",
   "execution_count": 29,
   "metadata": {},
   "outputs": [
    {
     "data": {
      "text/html": [
       "<div>\n",
       "<style scoped>\n",
       "    .dataframe tbody tr th:only-of-type {\n",
       "        vertical-align: middle;\n",
       "    }\n",
       "\n",
       "    .dataframe tbody tr th {\n",
       "        vertical-align: top;\n",
       "    }\n",
       "\n",
       "    .dataframe thead th {\n",
       "        text-align: right;\n",
       "    }\n",
       "</style>\n",
       "<table border=\"1\" class=\"dataframe\">\n",
       "  <thead>\n",
       "    <tr style=\"text-align: right;\">\n",
       "      <th></th>\n",
       "      <th>0</th>\n",
       "      <th>1</th>\n",
       "      <th>2</th>\n",
       "      <th>3</th>\n",
       "      <th>4</th>\n",
       "      <th>5</th>\n",
       "      <th>6</th>\n",
       "      <th>7</th>\n",
       "      <th>8</th>\n",
       "      <th>9</th>\n",
       "      <th>10</th>\n",
       "      <th>11</th>\n",
       "      <th>12</th>\n",
       "      <th>13</th>\n",
       "      <th>14</th>\n",
       "      <th>15</th>\n",
       "      <th>16</th>\n",
       "      <th>17</th>\n",
       "      <th>18</th>\n",
       "      <th>19</th>\n",
       "    </tr>\n",
       "  </thead>\n",
       "  <tbody>\n",
       "    <tr>\n",
       "      <th>count</th>\n",
       "      <td>8001.000000</td>\n",
       "      <td>8001.000000</td>\n",
       "      <td>8001.000000</td>\n",
       "      <td>8001.000000</td>\n",
       "      <td>8001.000000</td>\n",
       "      <td>8001.000000</td>\n",
       "      <td>8001.000000</td>\n",
       "      <td>8001.000000</td>\n",
       "      <td>8001.000000</td>\n",
       "      <td>8001.000000</td>\n",
       "      <td>8001.000000</td>\n",
       "      <td>8001.000000</td>\n",
       "      <td>8001.000000</td>\n",
       "      <td>8001.000000</td>\n",
       "      <td>8001.000000</td>\n",
       "      <td>8001.000000</td>\n",
       "      <td>8001.000000</td>\n",
       "      <td>8001.000000</td>\n",
       "      <td>8001.000000</td>\n",
       "      <td>8001.000000</td>\n",
       "    </tr>\n",
       "    <tr>\n",
       "      <th>mean</th>\n",
       "      <td>-0.000701</td>\n",
       "      <td>0.000062</td>\n",
       "      <td>-0.001605</td>\n",
       "      <td>-0.001973</td>\n",
       "      <td>0.001140</td>\n",
       "      <td>0.000828</td>\n",
       "      <td>-0.000836</td>\n",
       "      <td>-0.000428</td>\n",
       "      <td>0.000886</td>\n",
       "      <td>-0.000518</td>\n",
       "      <td>-0.000629</td>\n",
       "      <td>-0.000514</td>\n",
       "      <td>0.000639</td>\n",
       "      <td>-0.000575</td>\n",
       "      <td>-0.000054</td>\n",
       "      <td>0.000706</td>\n",
       "      <td>0.001279</td>\n",
       "      <td>0.000940</td>\n",
       "      <td>-0.000967</td>\n",
       "      <td>0.000678</td>\n",
       "    </tr>\n",
       "    <tr>\n",
       "      <th>std</th>\n",
       "      <td>0.089328</td>\n",
       "      <td>0.089879</td>\n",
       "      <td>0.089197</td>\n",
       "      <td>0.089313</td>\n",
       "      <td>0.088987</td>\n",
       "      <td>0.087834</td>\n",
       "      <td>0.087439</td>\n",
       "      <td>0.089756</td>\n",
       "      <td>0.088964</td>\n",
       "      <td>0.088782</td>\n",
       "      <td>0.089799</td>\n",
       "      <td>0.089909</td>\n",
       "      <td>0.088976</td>\n",
       "      <td>0.088482</td>\n",
       "      <td>0.090768</td>\n",
       "      <td>0.090145</td>\n",
       "      <td>0.090556</td>\n",
       "      <td>0.087947</td>\n",
       "      <td>0.088375</td>\n",
       "      <td>0.088409</td>\n",
       "    </tr>\n",
       "    <tr>\n",
       "      <th>min</th>\n",
       "      <td>-0.601759</td>\n",
       "      <td>-0.549306</td>\n",
       "      <td>-0.570421</td>\n",
       "      <td>-0.551518</td>\n",
       "      <td>-0.509944</td>\n",
       "      <td>-0.486781</td>\n",
       "      <td>-0.533233</td>\n",
       "      <td>-0.542270</td>\n",
       "      <td>-0.555274</td>\n",
       "      <td>-0.564338</td>\n",
       "      <td>-0.557915</td>\n",
       "      <td>-0.617934</td>\n",
       "      <td>-0.620597</td>\n",
       "      <td>-0.549371</td>\n",
       "      <td>-0.561280</td>\n",
       "      <td>-0.564602</td>\n",
       "      <td>-0.506198</td>\n",
       "      <td>-0.546395</td>\n",
       "      <td>-0.586484</td>\n",
       "      <td>-0.505724</td>\n",
       "    </tr>\n",
       "    <tr>\n",
       "      <th>25%</th>\n",
       "      <td>-0.026627</td>\n",
       "      <td>-0.026980</td>\n",
       "      <td>-0.027251</td>\n",
       "      <td>-0.027227</td>\n",
       "      <td>-0.025377</td>\n",
       "      <td>-0.026397</td>\n",
       "      <td>-0.026219</td>\n",
       "      <td>-0.026997</td>\n",
       "      <td>-0.025769</td>\n",
       "      <td>-0.026321</td>\n",
       "      <td>-0.027012</td>\n",
       "      <td>-0.026578</td>\n",
       "      <td>-0.025482</td>\n",
       "      <td>-0.026277</td>\n",
       "      <td>-0.027092</td>\n",
       "      <td>-0.026567</td>\n",
       "      <td>-0.025855</td>\n",
       "      <td>-0.025563</td>\n",
       "      <td>-0.026463</td>\n",
       "      <td>-0.026072</td>\n",
       "    </tr>\n",
       "    <tr>\n",
       "      <th>50%</th>\n",
       "      <td>0.000525</td>\n",
       "      <td>0.000191</td>\n",
       "      <td>-0.000824</td>\n",
       "      <td>-0.000912</td>\n",
       "      <td>0.000751</td>\n",
       "      <td>0.000094</td>\n",
       "      <td>-0.000467</td>\n",
       "      <td>0.000665</td>\n",
       "      <td>-0.000600</td>\n",
       "      <td>-0.000021</td>\n",
       "      <td>-0.001123</td>\n",
       "      <td>0.000225</td>\n",
       "      <td>0.000054</td>\n",
       "      <td>-0.000472</td>\n",
       "      <td>0.000332</td>\n",
       "      <td>0.000212</td>\n",
       "      <td>0.000928</td>\n",
       "      <td>0.001393</td>\n",
       "      <td>0.000041</td>\n",
       "      <td>0.000645</td>\n",
       "    </tr>\n",
       "    <tr>\n",
       "      <th>75%</th>\n",
       "      <td>0.025971</td>\n",
       "      <td>0.026627</td>\n",
       "      <td>0.025011</td>\n",
       "      <td>0.025313</td>\n",
       "      <td>0.026790</td>\n",
       "      <td>0.027001</td>\n",
       "      <td>0.025239</td>\n",
       "      <td>0.026249</td>\n",
       "      <td>0.026353</td>\n",
       "      <td>0.027140</td>\n",
       "      <td>0.025728</td>\n",
       "      <td>0.026548</td>\n",
       "      <td>0.026793</td>\n",
       "      <td>0.025971</td>\n",
       "      <td>0.027008</td>\n",
       "      <td>0.026781</td>\n",
       "      <td>0.027571</td>\n",
       "      <td>0.027116</td>\n",
       "      <td>0.026607</td>\n",
       "      <td>0.027008</td>\n",
       "    </tr>\n",
       "    <tr>\n",
       "      <th>max</th>\n",
       "      <td>0.608076</td>\n",
       "      <td>0.553233</td>\n",
       "      <td>0.521345</td>\n",
       "      <td>0.613259</td>\n",
       "      <td>0.578541</td>\n",
       "      <td>0.486005</td>\n",
       "      <td>0.521646</td>\n",
       "      <td>0.517305</td>\n",
       "      <td>0.557148</td>\n",
       "      <td>0.574779</td>\n",
       "      <td>0.584898</td>\n",
       "      <td>0.509543</td>\n",
       "      <td>0.500399</td>\n",
       "      <td>0.638635</td>\n",
       "      <td>0.506737</td>\n",
       "      <td>0.559467</td>\n",
       "      <td>0.581488</td>\n",
       "      <td>0.509460</td>\n",
       "      <td>0.641232</td>\n",
       "      <td>0.491278</td>\n",
       "    </tr>\n",
       "  </tbody>\n",
       "</table>\n",
       "</div>"
      ],
      "text/plain": [
       "                0            1            2            3            4   \\\n",
       "count  8001.000000  8001.000000  8001.000000  8001.000000  8001.000000   \n",
       "mean     -0.000701     0.000062    -0.001605    -0.001973     0.001140   \n",
       "std       0.089328     0.089879     0.089197     0.089313     0.088987   \n",
       "min      -0.601759    -0.549306    -0.570421    -0.551518    -0.509944   \n",
       "25%      -0.026627    -0.026980    -0.027251    -0.027227    -0.025377   \n",
       "50%       0.000525     0.000191    -0.000824    -0.000912     0.000751   \n",
       "75%       0.025971     0.026627     0.025011     0.025313     0.026790   \n",
       "max       0.608076     0.553233     0.521345     0.613259     0.578541   \n",
       "\n",
       "                5            6            7            8            9   \\\n",
       "count  8001.000000  8001.000000  8001.000000  8001.000000  8001.000000   \n",
       "mean      0.000828    -0.000836    -0.000428     0.000886    -0.000518   \n",
       "std       0.087834     0.087439     0.089756     0.088964     0.088782   \n",
       "min      -0.486781    -0.533233    -0.542270    -0.555274    -0.564338   \n",
       "25%      -0.026397    -0.026219    -0.026997    -0.025769    -0.026321   \n",
       "50%       0.000094    -0.000467     0.000665    -0.000600    -0.000021   \n",
       "75%       0.027001     0.025239     0.026249     0.026353     0.027140   \n",
       "max       0.486005     0.521646     0.517305     0.557148     0.574779   \n",
       "\n",
       "                10           11           12           13           14  \\\n",
       "count  8001.000000  8001.000000  8001.000000  8001.000000  8001.000000   \n",
       "mean     -0.000629    -0.000514     0.000639    -0.000575    -0.000054   \n",
       "std       0.089799     0.089909     0.088976     0.088482     0.090768   \n",
       "min      -0.557915    -0.617934    -0.620597    -0.549371    -0.561280   \n",
       "25%      -0.027012    -0.026578    -0.025482    -0.026277    -0.027092   \n",
       "50%      -0.001123     0.000225     0.000054    -0.000472     0.000332   \n",
       "75%       0.025728     0.026548     0.026793     0.025971     0.027008   \n",
       "max       0.584898     0.509543     0.500399     0.638635     0.506737   \n",
       "\n",
       "                15           16           17           18           19  \n",
       "count  8001.000000  8001.000000  8001.000000  8001.000000  8001.000000  \n",
       "mean      0.000706     0.001279     0.000940    -0.000967     0.000678  \n",
       "std       0.090145     0.090556     0.087947     0.088375     0.088409  \n",
       "min      -0.564602    -0.506198    -0.546395    -0.586484    -0.505724  \n",
       "25%      -0.026567    -0.025855    -0.025563    -0.026463    -0.026072  \n",
       "50%       0.000212     0.000928     0.001393     0.000041     0.000645  \n",
       "75%       0.026781     0.027571     0.027116     0.026607     0.027008  \n",
       "max       0.559467     0.581488     0.509460     0.641232     0.491278  "
      ]
     },
     "execution_count": 29,
     "metadata": {},
     "output_type": "execute_result"
    }
   ],
   "source": [
    "ad_embedding_learnt = model.get_layer(name='Ad-Embedding').get_weights()[0]\n",
    "pd.DataFrame(ad_embedding_learnt).describe()"
   ]
  },
  {
   "cell_type": "code",
   "execution_count": 30,
   "metadata": {},
   "outputs": [],
   "source": [
    "user_embedding_learnt = model.get_layer(name='User-Embedding').get_weights()[0]"
   ]
  },
  {
   "cell_type": "code",
   "execution_count": 31,
   "metadata": {},
   "outputs": [],
   "source": [
    "def recommend(user_id, number_of_ads=5):\n",
    "    ads = user_embedding_learnt[user_id]@ad_embedding_learnt.T\n",
    "    mids = np.argpartition(ads, -number_of_ads)[-number_of_ads:]\n",
    "    return mids"
   ]
  },
  {
   "cell_type": "markdown",
   "metadata": {},
   "source": [
    "**Estos son los 5 ad_id que le estariamos recomendando a nuestro  primer usuario**"
   ]
  },
  {
   "cell_type": "code",
   "execution_count": 32,
   "metadata": {},
   "outputs": [
    {
     "data": {
      "text/plain": [
       "array([1549,   94, 1271, 1517, 1064], dtype=int64)"
      ]
     },
     "execution_count": 32,
     "metadata": {},
     "output_type": "execute_result"
    }
   ],
   "source": [
    "recommend(user_id=1)"
   ]
  },
  {
   "cell_type": "code",
   "execution_count": null,
   "metadata": {},
   "outputs": [],
   "source": []
  },
  {
   "cell_type": "markdown",
   "metadata": {},
   "source": [
    "# Modelo de Factorizacion de Maquinas"
   ]
  },
  {
   "cell_type": "markdown",
   "metadata": {},
   "source": [
    "Comenzamos creando una clase la cual va a contener todas las columnas necesarias para ejecutar el modelo, ademas de eso creamos las caracteristicas necesarias para el entrenamiento posterior, como la semilla, las epocas, y el valor de regularizacion."
   ]
  },
  {
   "cell_type": "code",
   "execution_count": 33,
   "metadata": {},
   "outputs": [],
   "source": [
    "class Config:\n",
    "    category_col = ['display_id', 'ad_id', 'uuid', 'document_id',\n",
    "       'campaign_id', 'advertiser_id']\n",
    "    num_col = []\n",
    "    target_col = ['clicked']\n",
    "    \n",
    "    seed=2021\n",
    "    epochs=5\n",
    "    batch_size=128\n",
    "    seed=17\n",
    "    embedding_dim=8\n",
    "    lr=1e-4\n",
    "    \n",
    "config=Config()"
   ]
  },
  {
   "cell_type": "code",
   "execution_count": 34,
   "metadata": {},
   "outputs": [],
   "source": [
    "data_df = df_clicks_train\n",
    "item_df = df_promoted_cont\n",
    "user_df = df_events"
   ]
  },
  {
   "cell_type": "markdown",
   "metadata": {},
   "source": [
    "Hacemos un drop a las columnas de localizacion dado a que no nos ofrece informacion inmediata para procesarla en el modelo, el document id por temas de incongruencias con la dataframe de items, el cual ya trae un document id. El timestamp, el cual solo trae informacion de tiempo y no es tan necesario procesarla en este modelo. Y por ultimo, el platform, el cual trae problemas al hacer preprocesamiento, dado que trae dentro de el datos vacios los cuales no fuimos capaces de rellenar, dando problemas al hacer la transformacion de datos."
   ]
  },
  {
   "cell_type": "code",
   "execution_count": 35,
   "metadata": {},
   "outputs": [],
   "source": [
    "user_df = user_df.drop(columns=['geo_location', 'document_id', 'timestamp', 'platform'])"
   ]
  },
  {
   "cell_type": "markdown",
   "metadata": {},
   "source": [
    "Por ultimo, juntamos los datos para poder procesarlos\n",
    "\n",
    "\n",
    "Es de notar para este ejercicio las pocas columnas que estamos utilizando, esto es dado a la gran cantidad de datos que ofrece el ejercicio, ya que, para los datos de documentacion, al juntarlos con los datos principales llegamos a una cantidad de datos de aproximadamente 1700 mil millones los cuales consumen mucha memoria y para nosotros no es posible juntarlos, por lo que por temas de memoria y simplicidad decidimos sacarlos."
   ]
  },
  {
   "cell_type": "code",
   "execution_count": 36,
   "metadata": {},
   "outputs": [
    {
     "data": {
      "text/html": [
       "<div>\n",
       "<style scoped>\n",
       "    .dataframe tbody tr th:only-of-type {\n",
       "        vertical-align: middle;\n",
       "    }\n",
       "\n",
       "    .dataframe tbody tr th {\n",
       "        vertical-align: top;\n",
       "    }\n",
       "\n",
       "    .dataframe thead th {\n",
       "        text-align: right;\n",
       "    }\n",
       "</style>\n",
       "<table border=\"1\" class=\"dataframe\">\n",
       "  <thead>\n",
       "    <tr style=\"text-align: right;\">\n",
       "      <th></th>\n",
       "      <th>display_id</th>\n",
       "      <th>ad_id</th>\n",
       "      <th>clicked</th>\n",
       "      <th>uuid</th>\n",
       "      <th>document_id</th>\n",
       "      <th>campaign_id</th>\n",
       "      <th>advertiser_id</th>\n",
       "    </tr>\n",
       "  </thead>\n",
       "  <tbody>\n",
       "    <tr>\n",
       "      <th>0</th>\n",
       "      <td>1</td>\n",
       "      <td>112499</td>\n",
       "      <td>0</td>\n",
       "      <td>cb8c55702adb93</td>\n",
       "      <td>1177011</td>\n",
       "      <td>14535</td>\n",
       "      <td>1677</td>\n",
       "    </tr>\n",
       "    <tr>\n",
       "      <th>1</th>\n",
       "      <td>7108</td>\n",
       "      <td>112499</td>\n",
       "      <td>1</td>\n",
       "      <td>999de4689c22ed</td>\n",
       "      <td>1177011</td>\n",
       "      <td>14535</td>\n",
       "      <td>1677</td>\n",
       "    </tr>\n",
       "    <tr>\n",
       "      <th>2</th>\n",
       "      <td>13614</td>\n",
       "      <td>112499</td>\n",
       "      <td>0</td>\n",
       "      <td>5b70cbcfd8c253</td>\n",
       "      <td>1177011</td>\n",
       "      <td>14535</td>\n",
       "      <td>1677</td>\n",
       "    </tr>\n",
       "    <tr>\n",
       "      <th>3</th>\n",
       "      <td>13860</td>\n",
       "      <td>112499</td>\n",
       "      <td>0</td>\n",
       "      <td>e2c62260d461a4</td>\n",
       "      <td>1177011</td>\n",
       "      <td>14535</td>\n",
       "      <td>1677</td>\n",
       "    </tr>\n",
       "    <tr>\n",
       "      <th>4</th>\n",
       "      <td>14755</td>\n",
       "      <td>112499</td>\n",
       "      <td>0</td>\n",
       "      <td>2a5a19a193f96f</td>\n",
       "      <td>1177011</td>\n",
       "      <td>14535</td>\n",
       "      <td>1677</td>\n",
       "    </tr>\n",
       "    <tr>\n",
       "      <th>...</th>\n",
       "      <td>...</td>\n",
       "      <td>...</td>\n",
       "      <td>...</td>\n",
       "      <td>...</td>\n",
       "      <td>...</td>\n",
       "      <td>...</td>\n",
       "      <td>...</td>\n",
       "    </tr>\n",
       "    <tr>\n",
       "      <th>86423272</th>\n",
       "      <td>16874192</td>\n",
       "      <td>221386</td>\n",
       "      <td>1</td>\n",
       "      <td>296dd130169444</td>\n",
       "      <td>1558910</td>\n",
       "      <td>19679</td>\n",
       "      <td>1367</td>\n",
       "    </tr>\n",
       "    <tr>\n",
       "      <th>86423273</th>\n",
       "      <td>16874294</td>\n",
       "      <td>478819</td>\n",
       "      <td>0</td>\n",
       "      <td>ca4c48ef54defa</td>\n",
       "      <td>2344072</td>\n",
       "      <td>16904</td>\n",
       "      <td>201</td>\n",
       "    </tr>\n",
       "    <tr>\n",
       "      <th>86423274</th>\n",
       "      <td>16874410</td>\n",
       "      <td>445830</td>\n",
       "      <td>0</td>\n",
       "      <td>acc20e92bc2d8e</td>\n",
       "      <td>1538282</td>\n",
       "      <td>25881</td>\n",
       "      <td>1634</td>\n",
       "    </tr>\n",
       "    <tr>\n",
       "      <th>86423275</th>\n",
       "      <td>16874537</td>\n",
       "      <td>93436</td>\n",
       "      <td>0</td>\n",
       "      <td>ee63ee0bcf1781</td>\n",
       "      <td>1129887</td>\n",
       "      <td>12075</td>\n",
       "      <td>2655</td>\n",
       "    </tr>\n",
       "    <tr>\n",
       "      <th>86423276</th>\n",
       "      <td>16874556</td>\n",
       "      <td>457143</td>\n",
       "      <td>0</td>\n",
       "      <td>109c5be2b9b5fd</td>\n",
       "      <td>2191900</td>\n",
       "      <td>91</td>\n",
       "      <td>140</td>\n",
       "    </tr>\n",
       "  </tbody>\n",
       "</table>\n",
       "<p>86423277 rows × 7 columns</p>\n",
       "</div>"
      ],
      "text/plain": [
       "          display_id   ad_id  clicked            uuid  document_id  \\\n",
       "0                  1  112499        0  cb8c55702adb93      1177011   \n",
       "1               7108  112499        1  999de4689c22ed      1177011   \n",
       "2              13614  112499        0  5b70cbcfd8c253      1177011   \n",
       "3              13860  112499        0  e2c62260d461a4      1177011   \n",
       "4              14755  112499        0  2a5a19a193f96f      1177011   \n",
       "...              ...     ...      ...             ...          ...   \n",
       "86423272    16874192  221386        1  296dd130169444      1558910   \n",
       "86423273    16874294  478819        0  ca4c48ef54defa      2344072   \n",
       "86423274    16874410  445830        0  acc20e92bc2d8e      1538282   \n",
       "86423275    16874537   93436        0  ee63ee0bcf1781      1129887   \n",
       "86423276    16874556  457143        0  109c5be2b9b5fd      2191900   \n",
       "\n",
       "          campaign_id  advertiser_id  \n",
       "0               14535           1677  \n",
       "1               14535           1677  \n",
       "2               14535           1677  \n",
       "3               14535           1677  \n",
       "4               14535           1677  \n",
       "...               ...            ...  \n",
       "86423272        19679           1367  \n",
       "86423273        16904            201  \n",
       "86423274        25881           1634  \n",
       "86423275        12075           2655  \n",
       "86423276           91            140  \n",
       "\n",
       "[86423277 rows x 7 columns]"
      ]
     },
     "execution_count": 36,
     "metadata": {},
     "output_type": "execute_result"
    }
   ],
   "source": [
    "def merge_df(data_df, item_df, user_df):\n",
    "    tmp = pd.merge(data_df, user_df, on='display_id', how='inner')\n",
    "    tmp = pd.merge(tmp, item_df, on='ad_id', how='inner')\n",
    "    tmp = tmp\n",
    "    return tmp\n",
    "\n",
    "df = merge_df(data_df, item_df, user_df)\n",
    "df"
   ]
  },
  {
   "cell_type": "markdown",
   "metadata": {},
   "source": [
    "Ya despues de haber juntado los datos, procedemos a crear dos clases, una la cual construye las funciones para el preprocesamiento, y otra la cual hace el preprocesamiento. En la primera, utilizamos la clase creada al comienzo para pasarle una funcion Pipeline, la cual nos da el orden en el cual se va a ejecutar el modelo, llenando los datos numericos con un promedio de los demas datos, y datos NaN para las columnas categoricas. Despues, se le hace una transformacion con la funcion ColumnTransformer a los datos numericos y categoricos. Como es de notar en nuestro caso, nostros no vamos a utilizar datos numericos, por lo cual las funciones para los datos numericos no son de utilidad para nosotros en este momento. \n",
    "\n",
    "Despues, la funcion de preprocesamiento hace la reduccion de dimensiones al pasarle como argumento cuantas veces aparece un anuncio dentro del dataframe y por ultimo utilizando la funcion anterior genera el pipeline."
   ]
  },
  {
   "cell_type": "code",
   "execution_count": 37,
   "metadata": {},
   "outputs": [],
   "source": [
    "from sklearn.compose import ColumnTransformer\n",
    "from sklearn.pipeline import Pipeline\n",
    "from sklearn.preprocessing import StandardScaler, OrdinalEncoder\n",
    "from sklearn.impute import SimpleImputer\n",
    "from sklearn.model_selection import train_test_split\n",
    "\n",
    "\n",
    "def build_preprocessor(config): \n",
    "    category_col = config.category_col\n",
    "    num_col = config.num_col\n",
    "    \n",
    "    num_transformer = Pipeline(steps=[\n",
    "        (\"imputer\", SimpleImputer(strategy=\"mean\")),\n",
    "        ('std', (StandardScaler())),])\n",
    "\n",
    "    categorical_transformer = Pipeline(steps=[\n",
    "        (\"imputer\", SimpleImputer(strategy=\"constant\", fill_value='NAN')),\n",
    "        ('oe', (OrdinalEncoder())),\n",
    "        ])\n",
    "    \n",
    "    preprocessor = ColumnTransformer(\n",
    "        transformers=[\n",
    "            ('num', num_transformer, num_col),\n",
    "            ('cat', categorical_transformer, category_col),\n",
    "        ],\n",
    "        remainder=\"drop\")\n",
    "    return preprocessor\n",
    "    \n",
    "def preprocess(df, config):\n",
    "    \n",
    "    category_col = config.category_col\n",
    "    num_col = config.num_col\n",
    "    target_col = config.target_col\n",
    "    \n",
    "    print(target_col)\n",
    "    \n",
    "    print(df.shape)\n",
    "    ad_cnt = df.groupby('ad_id').size()\n",
    "    use_ad = list(ad_cnt[ad_cnt > 210000].index)\n",
    "    df = df[df['ad_id'].isin(use_ad)]\n",
    "    print(df.shape)\n",
    "\n",
    "    # Extract release year.\n",
    "    #df[\"year\"] = df['release_date'].apply(lambda x: str(x).split('-')[-1]) \n",
    "\n",
    "    # Create a label column for binary classification.\n",
    "    #df.insert(df.shape[1],target_col,df['clicked'],True)\n",
    "    #df[target_col] = df['clicked'] >= 4.0\n",
    "    #df[target_col] = df[target_col].astype(int)\n",
    "\n",
    "    # Build pipeline\n",
    "    pp = build_preprocessor(config)\n",
    "    pp.fit(df)\n",
    "    return df, pp"
   ]
  },
  {
   "cell_type": "code",
   "execution_count": 38,
   "metadata": {},
   "outputs": [
    {
     "name": "stdout",
     "output_type": "stream",
     "text": [
      "['clicked']\n",
      "(86423277, 7)\n",
      "(211824, 7)\n"
     ]
    }
   ],
   "source": [
    "df, pp = preprocess(df, config)"
   ]
  },
  {
   "cell_type": "code",
   "execution_count": 39,
   "metadata": {},
   "outputs": [
    {
     "data": {
      "text/plain": [
       "(211824, 6)"
      ]
     },
     "execution_count": 39,
     "metadata": {},
     "output_type": "execute_result"
    }
   ],
   "source": [
    "pp.transform(df).shape"
   ]
  },
  {
   "cell_type": "markdown",
   "metadata": {},
   "source": [
    "Comenzamos el entrenamiento haciendo la separacion de datos"
   ]
  },
  {
   "cell_type": "code",
   "execution_count": 40,
   "metadata": {},
   "outputs": [
    {
     "name": "stdout",
     "output_type": "stream",
     "text": [
      "(169459, 7)\n",
      "(42365, 7)\n"
     ]
    }
   ],
   "source": [
    "# split data\n",
    "tra_df, val_df = train_test_split(df, test_size=0.2, stratify=df['ad_id'], random_state=config.seed)\n",
    "print(tra_df.shape)\n",
    "print(val_df.shape)"
   ]
  },
  {
   "cell_type": "markdown",
   "metadata": {},
   "source": [
    "En la construccion del modelo, hay que tomar en cuenta la adicion de features al modelo de la factorizacion de matrices lo cual nos deja con muchos multiplicaciones por hacer. Es por esto que despues de hacerle el embedding a todas las columnas, las cuales nos ayudan a procesar datos grandes, le hacemos un flattening para despues proceder a hacer el producto punto y por ultimo la adicion de todas esas multiplicaciones para llegar al resultado del modelo."
   ]
  },
  {
   "cell_type": "code",
   "execution_count": 41,
   "metadata": {},
   "outputs": [],
   "source": [
    "from tensorflow.keras.layers import Input, Embedding, Dense, Flatten, add, Activation, dot\n",
    "from tensorflow.keras.models import Model\n",
    "from tensorflow.keras.regularizers import l2 as l2_reg\n",
    "import itertools\n",
    "from tensorflow.python.keras.utils.vis_utils import plot_model\n",
    "from tensorflow.keras.callbacks import EarlyStopping\n",
    "\n",
    "def build_model(category_num, category_cols, num_cols, K=20, solver='adam', l2=0, l2_fm=1e-3):\n",
    "\n",
    "    # Numerical features\n",
    "    num_inputs = [Input(shape=(1,), name=col,) for col in num_cols]\n",
    "    # Categorical features\n",
    "    cat_inputs = [Input(shape=(1,), name=col,) for col in category_cols]\n",
    "\n",
    "    inputs = num_inputs + cat_inputs\n",
    "\n",
    "    flatten_layers=[]\n",
    "    # Numerical featrue embedding\n",
    "    for enc_inp, col in zip(num_inputs, num_cols):\n",
    "        # num featrue dence\n",
    "        x = Dense(K, name = f'embed_{col}',kernel_regularizer=l2_reg(l2_fm))(enc_inp)\n",
    "        flatten_layers.append(x)\n",
    "\n",
    "    # Category feature embedding\n",
    "    for enc_inp, col in zip(cat_inputs, category_cols):\n",
    "        num_c = category_num[col]\n",
    "        embed_c = Embedding(input_dim=num_c,\n",
    "                            output_dim=K,\n",
    "                            input_length=1,\n",
    "                            name=f'embed_{col}',\n",
    "                            embeddings_regularizer=l2_reg(l2_fm))(enc_inp)\n",
    "        flatten_c = Flatten()(embed_c)\n",
    "        flatten_layers.append(flatten_c)\n",
    "                \n",
    "    # Feature interaction term\n",
    "    fm_layers = []\n",
    "    for emb1,emb2 in itertools.combinations(flatten_layers, 2):\n",
    "        dot_layer = dot([emb1,emb2], axes=1)\n",
    "        fm_layers.append(dot_layer)\n",
    "    #print(fm_layers)\n",
    "        \n",
    "\n",
    "    # Linear term\n",
    "    for enc_inp,col in zip(cat_inputs, category_cols):\n",
    "        # embedding\n",
    "        num_c = category_num[col]\n",
    "        embed_c = Embedding(input_dim=num_c,\n",
    "                            output_dim=1,\n",
    "                            input_length=1,\n",
    "                            name=f'linear_{col}',\n",
    "                            embeddings_regularizer=l2_reg(l2_fm))(enc_inp)\n",
    "        flatten_c = Flatten()(embed_c)\n",
    "        fm_layers.append(flatten_c)\n",
    "                \n",
    "    for enc_inp, col in zip(num_inputs, num_cols):\n",
    "        x = Dense(1, name = f'linear_{col}',kernel_regularizer=l2_reg(l2_fm))(enc_inp)\n",
    "        fm_layers.append(x)\n",
    "\n",
    "    # Add all terms\n",
    "    flatten = add(fm_layers)\n",
    "    outputs = Activation('sigmoid',name='outputs')(flatten)\n",
    "    \n",
    "    model = Model(inputs=inputs, outputs=outputs)\n",
    "\n",
    "    model.compile(\n",
    "                optimizer=solver,\n",
    "                loss='binary_crossentropy',\n",
    "                metrics='accuracy'\n",
    "              )\n",
    "\n",
    "    return model "
   ]
  },
  {
   "cell_type": "code",
   "execution_count": 42,
   "metadata": {},
   "outputs": [],
   "source": [
    "category_num = {col: df[col].nunique() for col in config.category_col}\n",
    "model = build_model(category_num, config.category_col, config.num_col, K=config.embedding_dim)"
   ]
  },
  {
   "cell_type": "code",
   "execution_count": 43,
   "metadata": {},
   "outputs": [
    {
     "name": "stdout",
     "output_type": "stream",
     "text": [
      "Model: \"model_1\"\n",
      "__________________________________________________________________________________________________\n",
      "Layer (type)                    Output Shape         Param #     Connected to                     \n",
      "==================================================================================================\n",
      "display_id (InputLayer)         [(None, 1)]          0                                            \n",
      "__________________________________________________________________________________________________\n",
      "ad_id (InputLayer)              [(None, 1)]          0                                            \n",
      "__________________________________________________________________________________________________\n",
      "uuid (InputLayer)               [(None, 1)]          0                                            \n",
      "__________________________________________________________________________________________________\n",
      "document_id (InputLayer)        [(None, 1)]          0                                            \n",
      "__________________________________________________________________________________________________\n",
      "campaign_id (InputLayer)        [(None, 1)]          0                                            \n",
      "__________________________________________________________________________________________________\n",
      "advertiser_id (InputLayer)      [(None, 1)]          0                                            \n",
      "__________________________________________________________________________________________________\n",
      "embed_display_id (Embedding)    (None, 1, 8)         1694592     display_id[0][0]                 \n",
      "__________________________________________________________________________________________________\n",
      "embed_ad_id (Embedding)         (None, 1, 8)         8           ad_id[0][0]                      \n",
      "__________________________________________________________________________________________________\n",
      "embed_uuid (Embedding)          (None, 1, 8)         1690792     uuid[0][0]                       \n",
      "__________________________________________________________________________________________________\n",
      "embed_document_id (Embedding)   (None, 1, 8)         8           document_id[0][0]                \n",
      "__________________________________________________________________________________________________\n",
      "embed_campaign_id (Embedding)   (None, 1, 8)         8           campaign_id[0][0]                \n",
      "__________________________________________________________________________________________________\n",
      "embed_advertiser_id (Embedding) (None, 1, 8)         8           advertiser_id[0][0]              \n",
      "__________________________________________________________________________________________________\n",
      "flatten (Flatten)               (None, 8)            0           embed_display_id[0][0]           \n",
      "__________________________________________________________________________________________________\n",
      "flatten_1 (Flatten)             (None, 8)            0           embed_ad_id[0][0]                \n",
      "__________________________________________________________________________________________________\n",
      "flatten_2 (Flatten)             (None, 8)            0           embed_uuid[0][0]                 \n",
      "__________________________________________________________________________________________________\n",
      "flatten_3 (Flatten)             (None, 8)            0           embed_document_id[0][0]          \n",
      "__________________________________________________________________________________________________\n",
      "flatten_4 (Flatten)             (None, 8)            0           embed_campaign_id[0][0]          \n",
      "__________________________________________________________________________________________________\n",
      "flatten_5 (Flatten)             (None, 8)            0           embed_advertiser_id[0][0]        \n",
      "__________________________________________________________________________________________________\n",
      "linear_display_id (Embedding)   (None, 1, 1)         211824      display_id[0][0]                 \n",
      "__________________________________________________________________________________________________\n",
      "linear_ad_id (Embedding)        (None, 1, 1)         1           ad_id[0][0]                      \n",
      "__________________________________________________________________________________________________\n",
      "linear_uuid (Embedding)         (None, 1, 1)         211349      uuid[0][0]                       \n",
      "__________________________________________________________________________________________________\n",
      "linear_document_id (Embedding)  (None, 1, 1)         1           document_id[0][0]                \n",
      "__________________________________________________________________________________________________\n",
      "linear_campaign_id (Embedding)  (None, 1, 1)         1           campaign_id[0][0]                \n",
      "__________________________________________________________________________________________________\n",
      "linear_advertiser_id (Embedding (None, 1, 1)         1           advertiser_id[0][0]              \n",
      "__________________________________________________________________________________________________\n",
      "dot (Dot)                       (None, 1)            0           flatten[0][0]                    \n",
      "                                                                 flatten_1[0][0]                  \n",
      "__________________________________________________________________________________________________\n",
      "dot_1 (Dot)                     (None, 1)            0           flatten[0][0]                    \n",
      "                                                                 flatten_2[0][0]                  \n",
      "__________________________________________________________________________________________________\n",
      "dot_2 (Dot)                     (None, 1)            0           flatten[0][0]                    \n",
      "                                                                 flatten_3[0][0]                  \n",
      "__________________________________________________________________________________________________\n",
      "dot_3 (Dot)                     (None, 1)            0           flatten[0][0]                    \n",
      "                                                                 flatten_4[0][0]                  \n",
      "__________________________________________________________________________________________________\n",
      "dot_4 (Dot)                     (None, 1)            0           flatten[0][0]                    \n",
      "                                                                 flatten_5[0][0]                  \n",
      "__________________________________________________________________________________________________\n",
      "dot_5 (Dot)                     (None, 1)            0           flatten_1[0][0]                  \n",
      "                                                                 flatten_2[0][0]                  \n",
      "__________________________________________________________________________________________________\n",
      "dot_6 (Dot)                     (None, 1)            0           flatten_1[0][0]                  \n",
      "                                                                 flatten_3[0][0]                  \n",
      "__________________________________________________________________________________________________\n",
      "dot_7 (Dot)                     (None, 1)            0           flatten_1[0][0]                  \n",
      "                                                                 flatten_4[0][0]                  \n",
      "__________________________________________________________________________________________________\n",
      "dot_8 (Dot)                     (None, 1)            0           flatten_1[0][0]                  \n",
      "                                                                 flatten_5[0][0]                  \n",
      "__________________________________________________________________________________________________\n",
      "dot_9 (Dot)                     (None, 1)            0           flatten_2[0][0]                  \n",
      "                                                                 flatten_3[0][0]                  \n",
      "__________________________________________________________________________________________________\n",
      "dot_10 (Dot)                    (None, 1)            0           flatten_2[0][0]                  \n",
      "                                                                 flatten_4[0][0]                  \n",
      "__________________________________________________________________________________________________\n",
      "dot_11 (Dot)                    (None, 1)            0           flatten_2[0][0]                  \n",
      "                                                                 flatten_5[0][0]                  \n",
      "__________________________________________________________________________________________________\n",
      "dot_12 (Dot)                    (None, 1)            0           flatten_3[0][0]                  \n",
      "                                                                 flatten_4[0][0]                  \n",
      "__________________________________________________________________________________________________\n",
      "dot_13 (Dot)                    (None, 1)            0           flatten_3[0][0]                  \n",
      "                                                                 flatten_5[0][0]                  \n",
      "__________________________________________________________________________________________________\n",
      "dot_14 (Dot)                    (None, 1)            0           flatten_4[0][0]                  \n",
      "                                                                 flatten_5[0][0]                  \n",
      "__________________________________________________________________________________________________\n",
      "flatten_6 (Flatten)             (None, 1)            0           linear_display_id[0][0]          \n",
      "__________________________________________________________________________________________________\n",
      "flatten_7 (Flatten)             (None, 1)            0           linear_ad_id[0][0]               \n",
      "__________________________________________________________________________________________________\n",
      "flatten_8 (Flatten)             (None, 1)            0           linear_uuid[0][0]                \n",
      "__________________________________________________________________________________________________\n",
      "flatten_9 (Flatten)             (None, 1)            0           linear_document_id[0][0]         \n",
      "__________________________________________________________________________________________________\n",
      "flatten_10 (Flatten)            (None, 1)            0           linear_campaign_id[0][0]         \n",
      "__________________________________________________________________________________________________\n",
      "flatten_11 (Flatten)            (None, 1)            0           linear_advertiser_id[0][0]       \n",
      "__________________________________________________________________________________________________\n",
      "add (Add)                       (None, 1)            0           dot[0][0]                        \n",
      "                                                                 dot_1[0][0]                      \n",
      "                                                                 dot_2[0][0]                      \n",
      "                                                                 dot_3[0][0]                      \n",
      "                                                                 dot_4[0][0]                      \n",
      "                                                                 dot_5[0][0]                      \n",
      "                                                                 dot_6[0][0]                      \n",
      "                                                                 dot_7[0][0]                      \n",
      "                                                                 dot_8[0][0]                      \n",
      "                                                                 dot_9[0][0]                      \n",
      "                                                                 dot_10[0][0]                     \n",
      "                                                                 dot_11[0][0]                     \n",
      "                                                                 dot_12[0][0]                     \n",
      "                                                                 dot_13[0][0]                     \n",
      "                                                                 dot_14[0][0]                     \n",
      "                                                                 flatten_6[0][0]                  \n",
      "                                                                 flatten_7[0][0]                  \n",
      "                                                                 flatten_8[0][0]                  \n",
      "                                                                 flatten_9[0][0]                  \n",
      "                                                                 flatten_10[0][0]                 \n",
      "                                                                 flatten_11[0][0]                 \n",
      "__________________________________________________________________________________________________\n",
      "outputs (Activation)            (None, 1)            0           add[0][0]                        \n",
      "==================================================================================================\n",
      "Total params: 3,808,593\n",
      "Trainable params: 3,808,593\n",
      "Non-trainable params: 0\n",
      "__________________________________________________________________________________________________\n"
     ]
    }
   ],
   "source": [
    "model.summary()"
   ]
  },
  {
   "cell_type": "markdown",
   "metadata": {},
   "source": [
    "Al ver los resultados, se nota que los valores de perdida en especial en los datos de validacion son minusculos, y esto se debe al gran problema de overfitting que tienen las factorizaciones de matrices y maquinas. Para esto ultimo, utilizamos el regularizador l2 el cual nos ayuda a castigar los pesos asociados en el modelo, aproximandolos a 0 pero nunca dejandolos en 0. Esto disminuye la influencia que tienen los pesos por sobre los nodos y nos sirve para quitar el overfitting."
   ]
  },
  {
   "cell_type": "code",
   "execution_count": 44,
   "metadata": {},
   "outputs": [
    {
     "name": "stdout",
     "output_type": "stream",
     "text": [
      "Epoch 1/5\n",
      "1324/1324 [==============================] - 36s 24ms/step - loss: 0.3427 - accuracy: 0.9218 - val_loss: 0.2770 - val_accuracy: 0.9230\n",
      "Epoch 2/5\n",
      "1324/1324 [==============================] - 32s 24ms/step - loss: 0.2748 - accuracy: 0.9238 - val_loss: 0.2766 - val_accuracy: 0.9230\n",
      "Epoch 3/5\n",
      "1324/1324 [==============================] - 32s 24ms/step - loss: 0.2746 - accuracy: 0.9238 - val_loss: 0.2765 - val_accuracy: 0.9230\n",
      "Epoch 4/5\n",
      "1324/1324 [==============================] - 32s 24ms/step - loss: 0.2743 - accuracy: 0.9238 - val_loss: 0.2761 - val_accuracy: 0.9230\n",
      "Epoch 5/5\n",
      "1324/1324 [==============================] - 32s 24ms/step - loss: 0.2740 - accuracy: 0.9238 - val_loss: 0.2759 - val_accuracy: 0.9230\n"
     ]
    }
   ],
   "source": [
    "cb = [EarlyStopping(monitor='val_loss', min_delta=1e-4, patience=2, verbose=0,)]\n",
    "\n",
    "feature_num = len(config.category_col + config.num_col)\n",
    "tra_inputs = [pp.transform(tra_df)[:, i] for i in range(feature_num)]\n",
    "val_inputs = [pp.transform(val_df)[:, i] for i in range(feature_num)]\n",
    "\n",
    "history = model.fit(\n",
    "          #x=pp.transform(tra_df).reshape(len(tra_df), feature_num, 1),\n",
    "          x=tra_inputs,\n",
    "          y=tra_df[config.target_col],\n",
    "          epochs=config.epochs,\n",
    "          batch_size=config.batch_size,\n",
    "          validation_data=(val_inputs,\n",
    "                           val_df[config.target_col]),\n",
    "          callbacks=cb\n",
    "         )"
   ]
  },
  {
   "cell_type": "markdown",
   "metadata": {},
   "source": [
    "En los graficos se ve mas claro el tema del potencial overfitting que puede existir facilmente en estos modelos de FM."
   ]
  },
  {
   "cell_type": "code",
   "execution_count": 45,
   "metadata": {},
   "outputs": [
    {
     "data": {
      "image/png": "[encoded data removed]",
      "text/plain": [
       "<Figure size 432x288 with 1 Axes>"
      ]
     },
     "metadata": {
      "needs_background": "light"
     },
     "output_type": "display_data"
    },
    {
     "data": {
      "image/png": "[encoded data removed]",
      "text/plain": [
       "<Figure size 432x288 with 1 Axes>"
      ]
     },
     "metadata": {
      "needs_background": "light"
     },
     "output_type": "display_data"
    }
   ],
   "source": [
    "import matplotlib.pyplot as plt\n",
    "def plot_history(history):\n",
    "    # Plot training & validation accuracy values\n",
    "    plt.plot(history.history['accuracy'])\n",
    "    plt.plot(history.history['val_accuracy'])\n",
    "    plt.title('Model accuracy')\n",
    "    plt.ylabel('Accuracy')\n",
    "    plt.xlabel('Epoch')\n",
    "    plt.legend(['Train', 'Valid'], loc='upper left')\n",
    "    plt.show()\n",
    "\n",
    "    # Plot training & validation loss values\n",
    "    plt.plot(history.history['loss'])\n",
    "    plt.plot(history.history['val_loss'])\n",
    "    plt.title('Model loss')\n",
    "    plt.ylabel('Loss')\n",
    "    plt.xlabel('Epoch')\n",
    "    plt.legend(['Train', 'Valid'], loc='upper left')\n",
    "    plt.show()    \n",
    "plot_history(history)"
   ]
  },
  {
   "cell_type": "markdown",
   "metadata": {},
   "source": [
    "Por ultimo, para poder hacer predicciones, tomamos a un usuario y predecimos si el le fuera a hacer click a un anuncio o no."
   ]
  },
  {
   "cell_type": "code",
   "execution_count": 53,
   "metadata": {},
   "outputs": [
    {
     "data": {
      "text/html": [
       "<div>\n",
       "<style scoped>\n",
       "    .dataframe tbody tr th:only-of-type {\n",
       "        vertical-align: middle;\n",
       "    }\n",
       "\n",
       "    .dataframe tbody tr th {\n",
       "        vertical-align: top;\n",
       "    }\n",
       "\n",
       "    .dataframe thead th {\n",
       "        text-align: right;\n",
       "    }\n",
       "</style>\n",
       "<table border=\"1\" class=\"dataframe\">\n",
       "  <thead>\n",
       "    <tr style=\"text-align: right;\">\n",
       "      <th></th>\n",
       "      <th>display_id</th>\n",
       "      <th>ad_id</th>\n",
       "      <th>clicked</th>\n",
       "      <th>uuid</th>\n",
       "      <th>document_id</th>\n",
       "      <th>campaign_id</th>\n",
       "      <th>advertiser_id</th>\n",
       "    </tr>\n",
       "  </thead>\n",
       "  <tbody>\n",
       "    <tr>\n",
       "      <th>6802</th>\n",
       "      <td>12890035</td>\n",
       "      <td>153650</td>\n",
       "      <td>0</td>\n",
       "      <td>a8adbb70abf1a5</td>\n",
       "      <td>1077265</td>\n",
       "      <td>10026</td>\n",
       "      <td>687</td>\n",
       "    </tr>\n",
       "    <tr>\n",
       "      <th>14203</th>\n",
       "      <td>12890114</td>\n",
       "      <td>153650</td>\n",
       "      <td>0</td>\n",
       "      <td>a8adbb70abf1a5</td>\n",
       "      <td>1077265</td>\n",
       "      <td>10026</td>\n",
       "      <td>687</td>\n",
       "    </tr>\n",
       "  </tbody>\n",
       "</table>\n",
       "</div>"
      ],
      "text/plain": [
       "       display_id   ad_id  clicked            uuid  document_id  campaign_id  \\\n",
       "6802     12890035  153650        0  a8adbb70abf1a5      1077265        10026   \n",
       "14203    12890114  153650        0  a8adbb70abf1a5      1077265        10026   \n",
       "\n",
       "       advertiser_id  \n",
       "6802             687  \n",
       "14203            687  "
      ]
     },
     "execution_count": 53,
     "metadata": {},
     "output_type": "execute_result"
    }
   ],
   "source": [
    "user='a8adbb70abf1a5' #user_id\n",
    "user_df = val_df.reset_index(drop=True).query('uuid==@user')\n",
    "user_df.head()"
   ]
  },
  {
   "cell_type": "code",
   "execution_count": 54,
   "metadata": {},
   "outputs": [
    {
     "data": {
      "text/plain": [
       "Int64Index([6802, 14203], dtype='int64')"
      ]
     },
     "execution_count": 54,
     "metadata": {},
     "output_type": "execute_result"
    }
   ],
   "source": [
    "user_df.index"
   ]
  },
  {
   "cell_type": "code",
   "execution_count": 55,
   "metadata": {},
   "outputs": [],
   "source": [
    "user_inputs = [pp.transform(val_df)[user_df.index, i] for i in range(feature_num)]\n",
    "user_df['pred'] = model.predict(user_inputs)\n",
    "user_df = user_df.sort_values('pred', ascending=False)"
   ]
  },
  {
   "cell_type": "code",
   "execution_count": 56,
   "metadata": {},
   "outputs": [
    {
     "data": {
      "text/html": [
       "<div>\n",
       "<style scoped>\n",
       "    .dataframe tbody tr th:only-of-type {\n",
       "        vertical-align: middle;\n",
       "    }\n",
       "\n",
       "    .dataframe tbody tr th {\n",
       "        vertical-align: top;\n",
       "    }\n",
       "\n",
       "    .dataframe thead th {\n",
       "        text-align: right;\n",
       "    }\n",
       "</style>\n",
       "<table border=\"1\" class=\"dataframe\">\n",
       "  <thead>\n",
       "    <tr style=\"text-align: right;\">\n",
       "      <th></th>\n",
       "      <th>ad_id</th>\n",
       "      <th>clicked</th>\n",
       "      <th>pred</th>\n",
       "    </tr>\n",
       "  </thead>\n",
       "  <tbody>\n",
       "    <tr>\n",
       "      <th>6802</th>\n",
       "      <td>153650</td>\n",
       "      <td>0</td>\n",
       "      <td>0.07991</td>\n",
       "    </tr>\n",
       "    <tr>\n",
       "      <th>14203</th>\n",
       "      <td>153650</td>\n",
       "      <td>0</td>\n",
       "      <td>0.07991</td>\n",
       "    </tr>\n",
       "  </tbody>\n",
       "</table>\n",
       "</div>"
      ],
      "text/plain": [
       "        ad_id  clicked     pred\n",
       "6802   153650        0  0.07991\n",
       "14203  153650        0  0.07991"
      ]
     },
     "execution_count": 56,
     "metadata": {},
     "output_type": "execute_result"
    }
   ],
   "source": [
    "user_df[['ad_id','clicked','pred']].head(50)"
   ]
  },
  {
   "cell_type": "markdown",
   "metadata": {},
   "source": [
    "# Conclusión"
   ]
  },
  {
   "cell_type": "markdown",
   "metadata": {},
   "source": [
    "En conclusión, se puede ver que existen algunas diferencias entre la factorización de matrices y la factorización de maquinas, por lo cual existen ventajas y desventajas entre ellas: Una desventaja de la factorización de matrices, viene siendo que es no es generalizable, son especificamente construidos para un problema dado. Los algoritmos de aprendizaje e implementación son hechos a medida para modelos individuales. Una ventaja es que podemos estimar o calcular interacciones entre dos o mas variables incluso si la interaccion no ha sido observada, o sea, podemos pasarle usuarios y peliculas, y que este nos arroje un valor que ese usuario le fuera a dar a una pelicula, si es que la hubiese visto.\n",
    "\n",
    "En el caso de la factorización de máquinas, sabemos que es un modelo derivado que utiliza la factorización de matrices, pero tiene la ventaja de que puede utilizar la regresión polinomial, por lo que esto nos ayuda a poder tomar mas variables,  llegando a un modelo mas generalizable. Una desventaja que tienen ambas es que requieren mas cálculo que otros modelos similares, y en especial el de factorización de máquinas. Mientras más columnas con datos le agreguemos, más parametros tendrá el modelo al final y más tiempo se consumirá para poder entrenar el modelo. Por lo que, el modelo de factorización de máquinas dependiendo de la capacidad computacional, podria no ser bueno dado a la poca cantidad de datos que puedes utilizar. "
   ]
  },
  {
   "cell_type": "code",
   "execution_count": null,
   "metadata": {},
   "outputs": [],
   "source": []
  }
 ],
 "metadata": {
  "colab": {
   "provenance": [],
   "toc_visible": true
  },
  "kernelspec": {
   "display_name": "Python 3",
   "language": "python",
   "name": "python3"
  },
  "language_info": {
   "codemirror_mode": {
    "name": "ipython",
    "version": 3
   },
   "file_extension": ".py",
   "mimetype": "text/x-python",
   "name": "python",
   "nbconvert_exporter": "python",
   "pygments_lexer": "ipython3",
   "version": "3.6.13"
  }
 },
 "nbformat": 4,
 "nbformat_minor": 1
}
